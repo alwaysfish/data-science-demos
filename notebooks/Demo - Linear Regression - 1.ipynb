{
 "cells": [
  {
   "cell_type": "markdown",
   "metadata": {},
   "source": [
    "# Regressions\n",
    "\n",
    "Regressions are used to explain the relationship between one dependent variable and one or more independent variables. In the simplest form linear relationship is expressed as $$Y=w_0+wX$$ \n",
    "where $Y$ - dependent variable, $X$ - independent variable, $w_0$ - intercept and $w$ - coefficient (slope) for the independent variable $X$.\n",
    "\n",
    "A more complex relationship might be expressed as $$Y=w_0+w_1{X_1}+w_2{X_2}+w_3{X_3}$$\n",
    "where $Y$ - dependant variable, $X_1, X_2, X_3$ - independent variables, $w_0$ - intercept, $w_1, w_2, w_3$ - coefficients.\n",
    "\n",
    "The overall idea of a regression is to examine two things:\n",
    "- Does a set of predictor variables do a good job in predicting an outcome variable (dependent variable)?\n",
    "- Which variables (independent variables) in particular are significant predictors of the outcome variable, and in what way do they impact the outcome variable?\n",
    "\n",
    "Methods differ on the number of independent variables and the type of relationship:\n",
    "* Linear regression looks for a linear relationship\n",
    " - Univariate linear regression: only one independent variable\n",
    " - Multivariate linear regression: multiple independent variables\n",
    "* Non-linear regressions predict outcome variables when there is no linear relationship\n",
    " - Polynomial, exponential, logarithmic\n",
    " - Decision Tree Regressor, Random Forest Regressor, Gradient Boosting Regressor"
   ]
  },
  {
   "cell_type": "markdown",
   "metadata": {},
   "source": [
    "## Linear Regressions\n",
    "\n",
    "This demo will demonstrate how to do a univariate linear regression and how to measure its goodness-for-fit.\n",
    "\n",
    "Our dataset will consist of two columns, SAT and GPA scores, and our objective will be to find the best fitting line that explains the relationship between SAT and GPA scores."
   ]
  },
  {
   "cell_type": "code",
   "execution_count": 3,
   "metadata": {},
   "outputs": [],
   "source": [
    "import pandas as pd\n",
    "import numpy as np\n",
    "import matplotlib.pyplot as plt\n",
    "import seaborn as sns\n",
    "from sklearn.linear_model import LinearRegression"
   ]
  },
  {
   "cell_type": "code",
   "execution_count": 4,
   "metadata": {},
   "outputs": [],
   "source": [
    "data = pd.read_csv('./demo-datasets/sat_gpa.csv')"
   ]
  },
  {
   "cell_type": "code",
   "execution_count": 5,
   "metadata": {},
   "outputs": [
    {
     "data": {
      "text/html": [
       "<div>\n",
       "<style scoped>\n",
       "    .dataframe tbody tr th:only-of-type {\n",
       "        vertical-align: middle;\n",
       "    }\n",
       "\n",
       "    .dataframe tbody tr th {\n",
       "        vertical-align: top;\n",
       "    }\n",
       "\n",
       "    .dataframe thead th {\n",
       "        text-align: right;\n",
       "    }\n",
       "</style>\n",
       "<table border=\"1\" class=\"dataframe\">\n",
       "  <thead>\n",
       "    <tr style=\"text-align: right;\">\n",
       "      <th></th>\n",
       "      <th>SAT</th>\n",
       "      <th>GPA</th>\n",
       "    </tr>\n",
       "  </thead>\n",
       "  <tbody>\n",
       "    <tr>\n",
       "      <th>0</th>\n",
       "      <td>1714</td>\n",
       "      <td>2.40</td>\n",
       "    </tr>\n",
       "    <tr>\n",
       "      <th>1</th>\n",
       "      <td>1664</td>\n",
       "      <td>2.52</td>\n",
       "    </tr>\n",
       "    <tr>\n",
       "      <th>2</th>\n",
       "      <td>1760</td>\n",
       "      <td>2.54</td>\n",
       "    </tr>\n",
       "    <tr>\n",
       "      <th>3</th>\n",
       "      <td>1685</td>\n",
       "      <td>2.74</td>\n",
       "    </tr>\n",
       "    <tr>\n",
       "      <th>4</th>\n",
       "      <td>1693</td>\n",
       "      <td>2.83</td>\n",
       "    </tr>\n",
       "  </tbody>\n",
       "</table>\n",
       "</div>"
      ],
      "text/plain": [
       "    SAT   GPA\n",
       "0  1714  2.40\n",
       "1  1664  2.52\n",
       "2  1760  2.54\n",
       "3  1685  2.74\n",
       "4  1693  2.83"
      ]
     },
     "execution_count": 5,
     "metadata": {},
     "output_type": "execute_result"
    }
   ],
   "source": [
    "data.head()"
   ]
  },
  {
   "cell_type": "code",
   "execution_count": 6,
   "metadata": {},
   "outputs": [
    {
     "data": {
      "text/html": [
       "<div>\n",
       "<style scoped>\n",
       "    .dataframe tbody tr th:only-of-type {\n",
       "        vertical-align: middle;\n",
       "    }\n",
       "\n",
       "    .dataframe tbody tr th {\n",
       "        vertical-align: top;\n",
       "    }\n",
       "\n",
       "    .dataframe thead th {\n",
       "        text-align: right;\n",
       "    }\n",
       "</style>\n",
       "<table border=\"1\" class=\"dataframe\">\n",
       "  <thead>\n",
       "    <tr style=\"text-align: right;\">\n",
       "      <th></th>\n",
       "      <th>SAT</th>\n",
       "      <th>GPA</th>\n",
       "    </tr>\n",
       "  </thead>\n",
       "  <tbody>\n",
       "    <tr>\n",
       "      <th>count</th>\n",
       "      <td>84.000000</td>\n",
       "      <td>84.000000</td>\n",
       "    </tr>\n",
       "    <tr>\n",
       "      <th>mean</th>\n",
       "      <td>1845.273810</td>\n",
       "      <td>3.330238</td>\n",
       "    </tr>\n",
       "    <tr>\n",
       "      <th>std</th>\n",
       "      <td>104.530661</td>\n",
       "      <td>0.271617</td>\n",
       "    </tr>\n",
       "    <tr>\n",
       "      <th>min</th>\n",
       "      <td>1634.000000</td>\n",
       "      <td>2.400000</td>\n",
       "    </tr>\n",
       "    <tr>\n",
       "      <th>25%</th>\n",
       "      <td>1772.000000</td>\n",
       "      <td>3.190000</td>\n",
       "    </tr>\n",
       "    <tr>\n",
       "      <th>50%</th>\n",
       "      <td>1846.000000</td>\n",
       "      <td>3.380000</td>\n",
       "    </tr>\n",
       "    <tr>\n",
       "      <th>75%</th>\n",
       "      <td>1934.000000</td>\n",
       "      <td>3.502500</td>\n",
       "    </tr>\n",
       "    <tr>\n",
       "      <th>max</th>\n",
       "      <td>2050.000000</td>\n",
       "      <td>3.810000</td>\n",
       "    </tr>\n",
       "  </tbody>\n",
       "</table>\n",
       "</div>"
      ],
      "text/plain": [
       "               SAT        GPA\n",
       "count    84.000000  84.000000\n",
       "mean   1845.273810   3.330238\n",
       "std     104.530661   0.271617\n",
       "min    1634.000000   2.400000\n",
       "25%    1772.000000   3.190000\n",
       "50%    1846.000000   3.380000\n",
       "75%    1934.000000   3.502500\n",
       "max    2050.000000   3.810000"
      ]
     },
     "execution_count": 6,
     "metadata": {},
     "output_type": "execute_result"
    }
   ],
   "source": [
    "data.describe()"
   ]
  },
  {
   "cell_type": "code",
   "execution_count": 7,
   "metadata": {},
   "outputs": [
    {
     "name": "stdout",
     "output_type": "stream",
     "text": [
      "<class 'pandas.core.frame.DataFrame'>\n",
      "RangeIndex: 84 entries, 0 to 83\n",
      "Data columns (total 2 columns):\n",
      "SAT    84 non-null int64\n",
      "GPA    84 non-null float64\n",
      "dtypes: float64(1), int64(1)\n",
      "memory usage: 1.4 KB\n"
     ]
    }
   ],
   "source": [
    "data.info()"
   ]
  },
  {
   "cell_type": "code",
   "execution_count": 8,
   "metadata": {},
   "outputs": [
    {
     "data": {
      "image/png": "[encoded data removed]",
      "text/plain": [
       "<Figure size 720x504 with 1 Axes>"
      ]
     },
     "metadata": {
      "needs_background": "light"
     },
     "output_type": "display_data"
    }
   ],
   "source": [
    "plt.figure(figsize=(10, 7))\n",
    "plt.scatter('SAT', 'GPA', data=data)\n",
    "plt.xlabel('SAT')\n",
    "plt.ylabel('GPA')\n",
    "plt.show()"
   ]
  },
  {
   "cell_type": "markdown",
   "metadata": {},
   "source": [
    "By looking at the scatter plot, we definitely see that there is some linear relationship between SAT score and GPA score. Let's run a linear regression and see how well does SAT explain the variance of GPA.\n",
    "\n",
    "In the regression, SAT will be independent variable, and GPA will be dependent variables.\n",
    "\n",
    "Our objective is to find the line that _best_ fits all observations. But how can we define the _best_ fitting line?\n",
    "\n",
    "## Mean Squared Error\n",
    "\n",
    "A very common metric used to assess the fitness of a line is _Mean Squared Error (MSE)_.\n",
    "\n",
    "$$MSE=\\frac{1}{2n}\\sum_{i=1}^{n}{(y_i-\\hat{y_i})^2}$$\n",
    "where $y_i$ - observed Y value and $\\hat{y_i}$ - predicted value, and $\\hat{y_i}=w_0+w_1{x_i}$\n",
    "\n",
    "![Errors](./images/errors-graph.png)\n",
    "\n",
    "So, the objective of regression is to find such _intercept_, $w_0$, and _slope_, $w_1$, that minimizes MSE."
   ]
  },
  {
   "cell_type": "markdown",
   "metadata": {},
   "source": [
    "## Cost Functions and Gradient Descent\n",
    "\n",
    "One way we can find the optimal _intercept_ and _slope_ is by using _gradient descent_ technique. In order to apply the technique we need to define a _cost function_.\n",
    "\n",
    "$$J(w_0, w_1)=\\frac{1}{2n}\\sum_{i=1}^{n}{(y_i-\\hat{y_i})^2}$$\n",
    "Remember that $\\hat{y_i}=w_0+w_1{x_i}$"
   ]
  },
  {
   "cell_type": "markdown",
   "metadata": {},
   "source": [
    "At this moment let's assume that $w_0=0$. In that case, $\\hat{y_i}=w_1{x_i}$ and cost function is only a function of $w_1$. $$J(w_1)=\\frac{1}{2n}\\sum_{i=1}^{n}{(y_i-\\hat{y_i})^2}$$\n",
    "\n",
    "In that case the relationship between $w_1$ and $J$ can be represented on 2-D graph.\n",
    "\n",
    "![Cost Function & Gradient Descent](./images/costfunction_gradientdescent.png)"
   ]
  },
  {
   "cell_type": "markdown",
   "metadata": {},
   "source": [
    "Gradient descent algorithm starts with any random $w_1$. Then we find the gradient of the cost function, $J$, at point $w_1$ by calculating first order derivative of the cost function with respect to $w_1$.\n",
    "$\\frac{\\partial J}{\\partial w_1}=\\frac{1}{n}\\sum_{i=1}^{n}{(y_i-\\hat{y_i})x_i}$\n",
    "\n",
    "Using cost function's gradient, a new $w_1$ is calculated which will bring $w_1$ closer to the point, where cost function is at its minimum. Instead of using the full gradient, $\\alpha$ (learning rate) is used scale it; $\\alpha<1$.\n",
    "\n",
    "$$w_1^{(new)}=w_1-\\alpha\\frac{\\partial J}{\\partial w_1}=w_1-\\alpha\\frac{1}{n}\\sum_{i=1}^{n}{(y_i-\\hat{y_i})x_i}$$\n",
    "\n",
    "The process is repeated until the gradient becomes 0 (or very close to 0)."
   ]
  },
  {
   "cell_type": "markdown",
   "metadata": {},
   "source": [
    "Now let's reintroduce $w_0$. Finding $w_0$ value that minimizes cost function, will follow the same gradient descent approach, except we will have to calculate first order partial derivative of the cost function with respect to $w_0$. $\\frac{\\partial J}{\\partial w_0}=\\frac{1}{n}\\sum_{i=1}^{n}(y_i - \\hat{y_i})$\n",
    "\n",
    "Similar to $w_1$, $w_0$ is initially initialized with a random value, and during each iteration $w_0$ is updated by using scaled gradient.\n",
    "\n",
    "$$w_0^{new}=w_0-\\alpha\\frac{\\partial J}{\\partial w_0}=w_0-\\alpha\\frac{1}{n}\\sum_{i=1}^{n}(y_i-\\hat{y_i})$$"
   ]
  },
  {
   "cell_type": "markdown",
   "metadata": {},
   "source": [
    "### Learning Rate\n",
    "\n",
    "Keep in mind that by using small learning rate, gradient descent will require many iterations to converge to the minimum, whereas by using large learning rate, gradient descent might overshoot the minimum and would never converge.\n",
    "\n",
    "![Descent Learning Rate](./images/descent-learning-rate.png)"
   ]
  },
  {
   "cell_type": "markdown",
   "metadata": {},
   "source": [
    "## Linear Regression with __sklearn__"
   ]
  },
  {
   "cell_type": "code",
   "execution_count": 9,
   "metadata": {},
   "outputs": [],
   "source": [
    "lr = LinearRegression()"
   ]
  },
  {
   "cell_type": "markdown",
   "metadata": {},
   "source": [
    "We need to reshape our 1D arrays into 2D arrays with _n_ x _m_ format, where _n_ is the number of rows and _m_ is the number of columns. "
   ]
  },
  {
   "cell_type": "code",
   "execution_count": 10,
   "metadata": {},
   "outputs": [],
   "source": [
    "x = data['SAT'].values.reshape(-1, 1)"
   ]
  },
  {
   "cell_type": "code",
   "execution_count": 11,
   "metadata": {},
   "outputs": [],
   "source": [
    "y = data['GPA'].values.reshape(-1, 1)"
   ]
  },
  {
   "cell_type": "code",
   "execution_count": 12,
   "metadata": {},
   "outputs": [
    {
     "data": {
      "text/plain": [
       "LinearRegression(copy_X=True, fit_intercept=True, n_jobs=None, normalize=False)"
      ]
     },
     "execution_count": 12,
     "metadata": {},
     "output_type": "execute_result"
    }
   ],
   "source": [
    "# fit() function calculates slope and interecept for the best fitting line\n",
    "lr.fit(x, y)"
   ]
  },
  {
   "cell_type": "code",
   "execution_count": 13,
   "metadata": {},
   "outputs": [
    {
     "data": {
      "text/plain": [
       "array([[0.00165569]])"
      ]
     },
     "execution_count": 13,
     "metadata": {},
     "output_type": "execute_result"
    }
   ],
   "source": [
    "# Get coefficients for all independent variables\n",
    "lr.coef_"
   ]
  },
  {
   "cell_type": "code",
   "execution_count": 14,
   "metadata": {},
   "outputs": [
    {
     "data": {
      "text/plain": [
       "array([0.2750403])"
      ]
     },
     "execution_count": 14,
     "metadata": {},
     "output_type": "execute_result"
    }
   ],
   "source": [
    "# Get coefficient for intercept\n",
    "lr.intercept_"
   ]
  },
  {
   "cell_type": "code",
   "execution_count": 15,
   "metadata": {},
   "outputs": [
    {
     "name": "stdout",
     "output_type": "stream",
     "text": [
      "Best fit line: Y = 0.275 + 0.00166X\n"
     ]
    }
   ],
   "source": [
    "print('Best fit line: Y = ' + str(round(lr.intercept_[0], 3)) + ' + ' + str(round(lr.coef_[0][0], 5)) + 'X')"
   ]
  },
  {
   "cell_type": "code",
   "execution_count": 16,
   "metadata": {},
   "outputs": [
    {
     "data": {
      "image/png": "[encoded data removed]",
      "text/plain": [
       "<Figure size 720x504 with 1 Axes>"
      ]
     },
     "metadata": {
      "needs_background": "light"
     },
     "output_type": "display_data"
    }
   ],
   "source": [
    "plt.figure(figsize=(10, 7))\n",
    "\n",
    "# draw a scatter plot of observed values\n",
    "plt.scatter('SAT', 'GPA', data=data)\n",
    "plt.xlabel('SAT')\n",
    "plt.ylabel('GPA')\n",
    "\n",
    "# draw a regression line\n",
    "plt.plot(x, lr.predict(x), c='red')\n",
    "plt.legend(['Best fit line', 'GPA'])\n",
    "plt.show()"
   ]
  },
  {
   "cell_type": "markdown",
   "metadata": {},
   "source": [
    "Now let's check how well does SAT score explain the variance of GPA.\n",
    "\n",
    "$R^2$ (coefficient of determination) is a goodness-of-fit measure for linear regression models. This statistic indicates the percentage of the variance in the dependent variable that the independent variables explain collectively.\n",
    "\n",
    "$$R^2=1-\\frac{SS_{residuals}}{SS_{total}}$$\n",
    "\n",
    "$$SS_{residuals}=\\sum_i (y_i - \\hat{y_i})^2$$\n",
    "\n",
    "$$SS_{total}=\\sum_i (y_i - \\bar{y_i})^2$$\n",
    "\n",
    "$$\\bar{y_i}=\\frac{1}{n}\\sum_i^n y_i$$"
   ]
  },
  {
   "cell_type": "code",
   "execution_count": 17,
   "metadata": {},
   "outputs": [
    {
     "data": {
      "text/plain": [
       "0.40600391479679765"
      ]
     },
     "execution_count": 17,
     "metadata": {},
     "output_type": "execute_result"
    }
   ],
   "source": [
    "# Get R-squared\n",
    "lr.score(x, y)"
   ]
  }
 ],
 "metadata": {
  "kernelspec": {
   "display_name": "Python 3",
   "language": "python",
   "name": "python3"
  },
  "language_info": {
   "codemirror_mode": {
    "name": "ipython",
    "version": 3
   },
   "file_extension": ".py",
   "mimetype": "text/x-python",
   "name": "python",
   "nbconvert_exporter": "python",
   "pygments_lexer": "ipython3",
   "version": "3.7.4"
  }
 },
 "nbformat": 4,
 "nbformat_minor": 4
}
