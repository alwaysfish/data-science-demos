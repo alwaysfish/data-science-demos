{
 "cells": [
  {
   "cell_type": "markdown",
   "metadata": {},
   "source": [
    "## What are decision trees?\n",
    "\n",
    "Decision tree is a type of supervised learning algorithm that is mostly used in classification problems. It works for both categorical and continuous input and output variables. In this technique, we split the population or sample into two or more homogeneous sets (or sub-populations) based on most significant splitter / differentiator in input variables.\n",
    "\n",
    "An example of a decision tree:\n",
    "\n",
    "<img src=\"https://databricks.com/wp-content/uploads/2014/09/decision-tree-example.png\"></img>\n",
    "\n",
    "### Terms related to decision trees\n",
    "\n",
    "* __Root Node__: The first node of the tree that splits data into two or more sub-nodes.\n",
    "* __Splitting__: It is a process of dividing a node into two or more sub-nodes.\n",
    "* __Decision Node__: A node, other than root node, that splits data into two or more sub-nodes.\n",
    "* __Leaf / Terminal Node__: Nodes that do not split data anymore.\n",
    "* __Branch / Sub-Tree__: A sub section of entire tree.\n",
    "* __Parent and Child Node__: Parent node is a node that splits data into sub-nodes. Sub-nodes created from a parent node are called child nodes.\n",
    "\n",
    "<img src=\"https://clearpredictions.com/Images/Decision_Tree_2.png\"></img>\n",
    "\n",
    "### Advantages of decision trees\n",
    "\n",
    "* __Easy to Understand__: Decision tree output is very easy to understand even for people from non-analytical background. It does not require any statistical knowledge to read and interpret them. Its graphical representation is very intuitive and users can easily relate their hypothesis.\n",
    "* __Useful in Data exploration__: Decision tree is one of the fastest way to identify most significant variables and relation between two or more variables. With the help of decision trees, we can create new variables / features that has better power to predict target variable. \n",
    "* __Less data cleaning required__: It requires less data cleaning compared to some other modeling techniques. It is not influenced by outliers and missing values to a fair degree.\n",
    "* __Data type is not a constraint__: It can handle both numerical and categorical variables.\n",
    "\n",
    "### Disadvantages of decision trees\n",
    "\n",
    "* __Over fitting__: Over fitting is one of the most practical difficulty for decision tree models. This problem gets solved by setting constraints on model parameters.\n",
    "* __Not fit for continuous variables__: While working with continuous numerical variables, decision tree looses information when it categorizes variables in different categories.\n",
    "\n",
    "### How decision trees perform splitting?\n",
    "\n",
    "Algorithms for constructing decision trees usually work top-down, by choosing a variable at each step that best splits the set of items. Different algorithms use different metrics for measuring \"best\".\n",
    "\n",
    "#### Gini impurity\n",
    "\n",
    "Used by the CART (classification and regression tree) algorithm for classification trees, Gini impurity is a measure of the likelihood of an incorrect classification of a new instance of a random variable, if that new instance were randomly classified according to the distribution of class labels from the data set. The formula for calculating the gini impurity of a data set or feature is:\n",
    "\n",
    "$$\\Large G=\\sum_{i=1}^J p(i)\\times(1-p(i))$$\n",
    "\n",
    "Where $p(i)$ is the probability of a certain classification $i$, per the training set.\n",
    "\n",
    "The best split would be the one that gains the highest gini impurity reduction. Let's look at an example."
   ]
  },
  {
   "cell_type": "code",
   "execution_count": 1,
   "metadata": {},
   "outputs": [],
   "source": [
    "import pandas as pd\n",
    "import numpy as np\n",
    "import matplotlib.pyplot as plt\n",
    "import seaborn as sns\n",
    "from sklearn.tree import DecisionTreeClassifier\n",
    "from sklearn.model_selection import train_test_split\n",
    "import sklearn.metrics as metrics"
   ]
  },
  {
   "cell_type": "code",
   "execution_count": 2,
   "metadata": {},
   "outputs": [
    {
     "data": {
      "text/html": [
       "<div>\n",
       "<style scoped>\n",
       "    .dataframe tbody tr th:only-of-type {\n",
       "        vertical-align: middle;\n",
       "    }\n",
       "\n",
       "    .dataframe tbody tr th {\n",
       "        vertical-align: top;\n",
       "    }\n",
       "\n",
       "    .dataframe thead th {\n",
       "        text-align: right;\n",
       "    }\n",
       "</style>\n",
       "<table border=\"1\" class=\"dataframe\">\n",
       "  <thead>\n",
       "    <tr style=\"text-align: right;\">\n",
       "      <th></th>\n",
       "      <th>Day</th>\n",
       "      <th>Weather</th>\n",
       "      <th>Just ate</th>\n",
       "      <th>Late at work</th>\n",
       "      <th>Will go running?</th>\n",
       "    </tr>\n",
       "  </thead>\n",
       "  <tbody>\n",
       "    <tr>\n",
       "      <th>0</th>\n",
       "      <td>1</td>\n",
       "      <td>Sunny</td>\n",
       "      <td>yes</td>\n",
       "      <td>no</td>\n",
       "      <td>yes</td>\n",
       "    </tr>\n",
       "    <tr>\n",
       "      <th>1</th>\n",
       "      <td>2</td>\n",
       "      <td>Rainy</td>\n",
       "      <td>yes</td>\n",
       "      <td>yes</td>\n",
       "      <td>no</td>\n",
       "    </tr>\n",
       "    <tr>\n",
       "      <th>2</th>\n",
       "      <td>3</td>\n",
       "      <td>Sunny</td>\n",
       "      <td>no</td>\n",
       "      <td>yes</td>\n",
       "      <td>yes</td>\n",
       "    </tr>\n",
       "    <tr>\n",
       "      <th>3</th>\n",
       "      <td>4</td>\n",
       "      <td>Rainy</td>\n",
       "      <td>no</td>\n",
       "      <td>no</td>\n",
       "      <td>no</td>\n",
       "    </tr>\n",
       "    <tr>\n",
       "      <th>4</th>\n",
       "      <td>5</td>\n",
       "      <td>Rainy</td>\n",
       "      <td>no</td>\n",
       "      <td>no</td>\n",
       "      <td>yes</td>\n",
       "    </tr>\n",
       "    <tr>\n",
       "      <th>5</th>\n",
       "      <td>6</td>\n",
       "      <td>Sunny</td>\n",
       "      <td>yes</td>\n",
       "      <td>no</td>\n",
       "      <td>yes</td>\n",
       "    </tr>\n",
       "    <tr>\n",
       "      <th>6</th>\n",
       "      <td>7</td>\n",
       "      <td>Rainy</td>\n",
       "      <td>no</td>\n",
       "      <td>yes</td>\n",
       "      <td>no</td>\n",
       "    </tr>\n",
       "  </tbody>\n",
       "</table>\n",
       "</div>"
      ],
      "text/plain": [
       "   Day Weather Just ate Late at work Will go running?\n",
       "0    1   Sunny      yes           no              yes\n",
       "1    2   Rainy      yes          yes               no\n",
       "2    3   Sunny       no          yes              yes\n",
       "3    4   Rainy       no           no               no\n",
       "4    5   Rainy       no           no              yes\n",
       "5    6   Sunny      yes           no              yes\n",
       "6    7   Rainy       no          yes               no"
      ]
     },
     "execution_count": 2,
     "metadata": {},
     "output_type": "execute_result"
    }
   ],
   "source": [
    "df = pd.DataFrame({'Day': [1, 2, 3, 4, 5, 6, 7],\n",
    "                  'Weather': ['Sunny', 'Rainy', 'Sunny', 'Rainy', 'Rainy', 'Sunny', 'Rainy'],\n",
    "                  'Just ate': ['yes', 'yes', 'no', 'no', 'no', 'yes', 'no'],\n",
    "                  'Late at work': ['no', 'yes', 'yes', 'no', 'no', 'no', 'yes'],\n",
    "                  'Will go running?': ['yes', 'no', 'yes', 'no', 'yes', 'yes', 'no']})\n",
    "df"
   ]
  },
  {
   "cell_type": "markdown",
   "metadata": {},
   "source": [
    "* _Classes_: $i\\in[run, stay]$\n",
    "* _Current Gini Impurity_: $p(run)=\\frac{4}{7}$, $p(stay)=\\frac{3}{7}$\n",
    "  \n",
    "  Gini Impurity: $G=\\sum_{i=1}^j{p(i)\\times(1-p(i))}=p(run)\\times(1-p(run))+p(stay)\\times(1-p(stay))=0.4898$\n",
    "  \n",
    "* _Is it Sunny?_\n",
    "    - __Yes__: 3x went running, 0x stayed home. \n",
    "    \n",
    "    $p(run)=\\frac{3}{3}=1$, $p(stay)=\\frac{0}{3}=0$\n",
    "    \n",
    "    $G=p(run)\\times(1-p(run))+p(stay)\\times(1-p(stay))=0$\n",
    "    \n",
    "    - __No__:  1x went running, 3x stayed home.\n",
    "    \n",
    "    $p(run)=\\frac{1}{4}=0.25$, $p(stay)=\\frac{3}{4}=0.75$\n",
    "    \n",
    "    $G=p(run)\\times(1-p(run))+p(stay)\\times(1-p(stay))=0.375$\n",
    "    \n",
    "  Weighted Gini Impurity: $G_{weighted}=\\frac{3}{7}\\times0+\\frac{4}{7}*0.375=0.21$\n",
    "  \n",
    "  Impurity reduction: $0.4898-0.21=0.2798$\n",
    "\n",
    "* _Late at Work?_\n",
    "    - __Yes__: 1x went running, 2x stayed home.\n",
    "    \n",
    "    $p(run)=\\frac{1}{3}$, $p(stay)=\\frac{2}{3}$\n",
    "    \n",
    "    $G=p(run)\\times(1-p(run))+p(stay)\\times(1-p(stay))=0.444$\n",
    "    \n",
    "    - __No__:  3x went running, 1x stayed home.\n",
    "    \n",
    "    $p(run)=\\frac{3}{4}$, $p(stay)=\\frac{1}{4}$\n",
    "    \n",
    "    $G=p(run)\\times(1-p(run))+p(stay)\\times(1-p(stay))=0.375$\n",
    "    \n",
    "  Weighted Gini Impurity: $G_{weighted}=\\frac{3}{7}\\times0.444+\\frac{4}{7}*0.375=0.4043$\n",
    "  \n",
    "  Impurity reduction: $0.4898-0.4043=0.0855$\n",
    "  \n",
    "Since splitting by asking question _Is it Sunny?_ we reduce gini impurity more than by asking question _Late at Work?_, the splitting at the node should be done asking the former question."
   ]
  },
  {
   "cell_type": "markdown",
   "metadata": {},
   "source": [
    "### How to avoid overfitting\n",
    "\n",
    "Preventing overfitting is pivotal while modeling a decision tree and it can be done by setting various constraints to limit tree size. \n",
    "\n",
    "__class__ _DecisionTreeClassifier_(class_weight=None, criterion='gini', __max_depth__=2, __max_features__=None, max_leaf_nodes=None, min_impurity_decrease=0.0, min_impurity_split=None, __min_samples_leaf__=1, __min_samples_split__=2, min_weight_fraction_leaf=0.0, presort=False, random_state=None, splitter='best')\n",
    "\n",
    "> - __max_depth__ - maximum allowed depth of the tree\n",
    "> - __max_features__ - defines the number of features to be considered while deciding each split\n",
    "> - __min_samples_leaf__ - split would not be allowed if leaf ended up with less samples than the minimumu allowed\n",
    "> - __min_samples_split__ - smallest sample size that would be allowed to be split\n"
   ]
  },
  {
   "cell_type": "code",
   "execution_count": 3,
   "metadata": {},
   "outputs": [],
   "source": [
    "data = pd.read_csv('./demo-datasets/social_network_ads.csv')"
   ]
  },
  {
   "cell_type": "code",
   "execution_count": 4,
   "metadata": {},
   "outputs": [
    {
     "data": {
      "text/html": [
       "<div>\n",
       "<style scoped>\n",
       "    .dataframe tbody tr th:only-of-type {\n",
       "        vertical-align: middle;\n",
       "    }\n",
       "\n",
       "    .dataframe tbody tr th {\n",
       "        vertical-align: top;\n",
       "    }\n",
       "\n",
       "    .dataframe thead th {\n",
       "        text-align: right;\n",
       "    }\n",
       "</style>\n",
       "<table border=\"1\" class=\"dataframe\">\n",
       "  <thead>\n",
       "    <tr style=\"text-align: right;\">\n",
       "      <th></th>\n",
       "      <th>User ID</th>\n",
       "      <th>Gender</th>\n",
       "      <th>Age</th>\n",
       "      <th>EstimatedSalary</th>\n",
       "      <th>Purchased</th>\n",
       "    </tr>\n",
       "  </thead>\n",
       "  <tbody>\n",
       "    <tr>\n",
       "      <th>0</th>\n",
       "      <td>15624510</td>\n",
       "      <td>Male</td>\n",
       "      <td>19</td>\n",
       "      <td>19000</td>\n",
       "      <td>0</td>\n",
       "    </tr>\n",
       "    <tr>\n",
       "      <th>1</th>\n",
       "      <td>15810944</td>\n",
       "      <td>Male</td>\n",
       "      <td>35</td>\n",
       "      <td>20000</td>\n",
       "      <td>0</td>\n",
       "    </tr>\n",
       "    <tr>\n",
       "      <th>2</th>\n",
       "      <td>15668575</td>\n",
       "      <td>Female</td>\n",
       "      <td>26</td>\n",
       "      <td>43000</td>\n",
       "      <td>0</td>\n",
       "    </tr>\n",
       "    <tr>\n",
       "      <th>3</th>\n",
       "      <td>15603246</td>\n",
       "      <td>Female</td>\n",
       "      <td>27</td>\n",
       "      <td>57000</td>\n",
       "      <td>0</td>\n",
       "    </tr>\n",
       "    <tr>\n",
       "      <th>4</th>\n",
       "      <td>15804002</td>\n",
       "      <td>Male</td>\n",
       "      <td>19</td>\n",
       "      <td>76000</td>\n",
       "      <td>0</td>\n",
       "    </tr>\n",
       "  </tbody>\n",
       "</table>\n",
       "</div>"
      ],
      "text/plain": [
       "    User ID  Gender  Age  EstimatedSalary  Purchased\n",
       "0  15624510    Male   19            19000          0\n",
       "1  15810944    Male   35            20000          0\n",
       "2  15668575  Female   26            43000          0\n",
       "3  15603246  Female   27            57000          0\n",
       "4  15804002    Male   19            76000          0"
      ]
     },
     "execution_count": 4,
     "metadata": {},
     "output_type": "execute_result"
    }
   ],
   "source": [
    "data.head()"
   ]
  },
  {
   "cell_type": "code",
   "execution_count": 5,
   "metadata": {},
   "outputs": [],
   "source": [
    "x = data[['Gender', 'Age', 'EstimatedSalary']]"
   ]
  },
  {
   "cell_type": "code",
   "execution_count": 6,
   "metadata": {},
   "outputs": [],
   "source": [
    "y = data['Purchased']"
   ]
  },
  {
   "cell_type": "code",
   "execution_count": 7,
   "metadata": {},
   "outputs": [],
   "source": [
    "from sklearn.model_selection import train_test_split"
   ]
  },
  {
   "cell_type": "code",
   "execution_count": 8,
   "metadata": {},
   "outputs": [
    {
     "data": {
      "text/html": [
       "<div>\n",
       "<style scoped>\n",
       "    .dataframe tbody tr th:only-of-type {\n",
       "        vertical-align: middle;\n",
       "    }\n",
       "\n",
       "    .dataframe tbody tr th {\n",
       "        vertical-align: top;\n",
       "    }\n",
       "\n",
       "    .dataframe thead th {\n",
       "        text-align: right;\n",
       "    }\n",
       "</style>\n",
       "<table border=\"1\" class=\"dataframe\">\n",
       "  <thead>\n",
       "    <tr style=\"text-align: right;\">\n",
       "      <th></th>\n",
       "      <th>Gender</th>\n",
       "      <th>Age</th>\n",
       "      <th>EstimatedSalary</th>\n",
       "    </tr>\n",
       "  </thead>\n",
       "  <tbody>\n",
       "    <tr>\n",
       "      <th>0</th>\n",
       "      <td>Male</td>\n",
       "      <td>19</td>\n",
       "      <td>19000</td>\n",
       "    </tr>\n",
       "    <tr>\n",
       "      <th>1</th>\n",
       "      <td>Male</td>\n",
       "      <td>35</td>\n",
       "      <td>20000</td>\n",
       "    </tr>\n",
       "    <tr>\n",
       "      <th>2</th>\n",
       "      <td>Female</td>\n",
       "      <td>26</td>\n",
       "      <td>43000</td>\n",
       "    </tr>\n",
       "    <tr>\n",
       "      <th>3</th>\n",
       "      <td>Female</td>\n",
       "      <td>27</td>\n",
       "      <td>57000</td>\n",
       "    </tr>\n",
       "    <tr>\n",
       "      <th>4</th>\n",
       "      <td>Male</td>\n",
       "      <td>19</td>\n",
       "      <td>76000</td>\n",
       "    </tr>\n",
       "  </tbody>\n",
       "</table>\n",
       "</div>"
      ],
      "text/plain": [
       "   Gender  Age  EstimatedSalary\n",
       "0    Male   19            19000\n",
       "1    Male   35            20000\n",
       "2  Female   26            43000\n",
       "3  Female   27            57000\n",
       "4    Male   19            76000"
      ]
     },
     "execution_count": 8,
     "metadata": {},
     "output_type": "execute_result"
    }
   ],
   "source": [
    "x.head()"
   ]
  },
  {
   "cell_type": "markdown",
   "metadata": {},
   "source": [
    "### Replacing _Gender_ with dummy values"
   ]
  },
  {
   "cell_type": "code",
   "execution_count": 9,
   "metadata": {},
   "outputs": [],
   "source": [
    "x = pd.get_dummies(x, columns=['Gender'], drop_first=True)"
   ]
  },
  {
   "cell_type": "code",
   "execution_count": 10,
   "metadata": {},
   "outputs": [
    {
     "data": {
      "text/html": [
       "<div>\n",
       "<style scoped>\n",
       "    .dataframe tbody tr th:only-of-type {\n",
       "        vertical-align: middle;\n",
       "    }\n",
       "\n",
       "    .dataframe tbody tr th {\n",
       "        vertical-align: top;\n",
       "    }\n",
       "\n",
       "    .dataframe thead th {\n",
       "        text-align: right;\n",
       "    }\n",
       "</style>\n",
       "<table border=\"1\" class=\"dataframe\">\n",
       "  <thead>\n",
       "    <tr style=\"text-align: right;\">\n",
       "      <th></th>\n",
       "      <th>Age</th>\n",
       "      <th>EstimatedSalary</th>\n",
       "      <th>Gender_Male</th>\n",
       "    </tr>\n",
       "  </thead>\n",
       "  <tbody>\n",
       "    <tr>\n",
       "      <th>0</th>\n",
       "      <td>19</td>\n",
       "      <td>19000</td>\n",
       "      <td>1</td>\n",
       "    </tr>\n",
       "    <tr>\n",
       "      <th>1</th>\n",
       "      <td>35</td>\n",
       "      <td>20000</td>\n",
       "      <td>1</td>\n",
       "    </tr>\n",
       "    <tr>\n",
       "      <th>2</th>\n",
       "      <td>26</td>\n",
       "      <td>43000</td>\n",
       "      <td>0</td>\n",
       "    </tr>\n",
       "    <tr>\n",
       "      <th>3</th>\n",
       "      <td>27</td>\n",
       "      <td>57000</td>\n",
       "      <td>0</td>\n",
       "    </tr>\n",
       "    <tr>\n",
       "      <th>4</th>\n",
       "      <td>19</td>\n",
       "      <td>76000</td>\n",
       "      <td>1</td>\n",
       "    </tr>\n",
       "  </tbody>\n",
       "</table>\n",
       "</div>"
      ],
      "text/plain": [
       "   Age  EstimatedSalary  Gender_Male\n",
       "0   19            19000            1\n",
       "1   35            20000            1\n",
       "2   26            43000            0\n",
       "3   27            57000            0\n",
       "4   19            76000            1"
      ]
     },
     "execution_count": 10,
     "metadata": {},
     "output_type": "execute_result"
    }
   ],
   "source": [
    "x.head()"
   ]
  },
  {
   "cell_type": "markdown",
   "metadata": {},
   "source": [
    "### Splitting data into _train_ and _test_ datasets"
   ]
  },
  {
   "cell_type": "code",
   "execution_count": 11,
   "metadata": {},
   "outputs": [],
   "source": [
    "x_train, x_test, y_train, y_test = train_test_split(x, y)"
   ]
  },
  {
   "cell_type": "markdown",
   "metadata": {},
   "source": [
    "### Creating a decision tree classifier"
   ]
  },
  {
   "cell_type": "code",
   "execution_count": 12,
   "metadata": {},
   "outputs": [],
   "source": [
    "tree = DecisionTreeClassifier(max_depth=2)"
   ]
  },
  {
   "cell_type": "code",
   "execution_count": 13,
   "metadata": {},
   "outputs": [
    {
     "data": {
      "text/plain": [
       "DecisionTreeClassifier(class_weight=None, criterion='gini', max_depth=2,\n",
       "                       max_features=None, max_leaf_nodes=None,\n",
       "                       min_impurity_decrease=0.0, min_impurity_split=None,\n",
       "                       min_samples_leaf=1, min_samples_split=2,\n",
       "                       min_weight_fraction_leaf=0.0, presort=False,\n",
       "                       random_state=None, splitter='best')"
      ]
     },
     "execution_count": 13,
     "metadata": {},
     "output_type": "execute_result"
    }
   ],
   "source": [
    "tree.fit(x_train, y_train)"
   ]
  },
  {
   "cell_type": "markdown",
   "metadata": {},
   "source": [
    "### Visualizing the tree"
   ]
  },
  {
   "cell_type": "code",
   "execution_count": 14,
   "metadata": {},
   "outputs": [],
   "source": [
    "import graphviz as gv\n",
    "from sklearn.tree import export_graphviz"
   ]
  },
  {
   "cell_type": "code",
   "execution_count": 15,
   "metadata": {},
   "outputs": [
    {
     "data": {
      "image/svg+xml": [
       "<?xml version=\"1.0\" encoding=\"UTF-8\" standalone=\"no\"?>\r\n",
       "<!DOCTYPE svg PUBLIC \"-//W3C//DTD SVG 1.1//EN\"\r\n",
       " \"http://www.w3.org/Graphics/SVG/1.1/DTD/svg11.dtd\">\r\n",
       "<!-- Generated by graphviz version 2.38.0 (20140413.2041)\r\n",
       " -->\r\n",
       "<!-- Title: Tree Pages: 1 -->\r\n",
       "<svg width=\"655pt\" height=\"314pt\"\r\n",
       " viewBox=\"0.00 0.00 654.50 314.00\" xmlns=\"http://www.w3.org/2000/svg\" xmlns:xlink=\"http://www.w3.org/1999/xlink\">\r\n",
       "<g id=\"graph0\" class=\"graph\" transform=\"scale(1 1) rotate(0) translate(4 310)\">\r\n",
       "<title>Tree</title>\r\n",
       "<polygon fill=\"white\" stroke=\"none\" points=\"-4,4 -4,-310 650.5,-310 650.5,4 -4,4\"/>\r\n",
       "<!-- 0 -->\r\n",
       "<g id=\"node1\" class=\"node\"><title>0</title>\r\n",
       "<path fill=\"#f3c7a7\" stroke=\"black\" d=\"M403,-306C403,-306 268,-306 268,-306 262,-306 256,-300 256,-294 256,-294 256,-235 256,-235 256,-229 262,-223 268,-223 268,-223 403,-223 403,-223 409,-223 415,-229 415,-235 415,-235 415,-294 415,-294 415,-300 409,-306 403,-306\"/>\r\n",
       "<text text-anchor=\"middle\" x=\"335.5\" y=\"-290.8\" font-family=\"Helvetica,sans-Serif\" font-size=\"14.00\">Age &lt;= 44.5</text>\r\n",
       "<text text-anchor=\"middle\" x=\"335.5\" y=\"-275.8\" font-family=\"Helvetica,sans-Serif\" font-size=\"14.00\">gini = 0.459</text>\r\n",
       "<text text-anchor=\"middle\" x=\"335.5\" y=\"-260.8\" font-family=\"Helvetica,sans-Serif\" font-size=\"14.00\">samples = 300</text>\r\n",
       "<text text-anchor=\"middle\" x=\"335.5\" y=\"-245.8\" font-family=\"Helvetica,sans-Serif\" font-size=\"14.00\">value = [193, 107]</text>\r\n",
       "<text text-anchor=\"middle\" x=\"335.5\" y=\"-230.8\" font-family=\"Helvetica,sans-Serif\" font-size=\"14.00\">class = Not Purchased</text>\r\n",
       "</g>\r\n",
       "<!-- 1 -->\r\n",
       "<g id=\"node2\" class=\"node\"><title>1</title>\r\n",
       "<path fill=\"#eb9c64\" stroke=\"black\" d=\"M315,-187C315,-187 142,-187 142,-187 136,-187 130,-181 130,-175 130,-175 130,-116 130,-116 130,-110 136,-104 142,-104 142,-104 315,-104 315,-104 321,-104 327,-110 327,-116 327,-116 327,-175 327,-175 327,-181 321,-187 315,-187\"/>\r\n",
       "<text text-anchor=\"middle\" x=\"228.5\" y=\"-171.8\" font-family=\"Helvetica,sans-Serif\" font-size=\"14.00\">EstimatedSalary &lt;= 90500.0</text>\r\n",
       "<text text-anchor=\"middle\" x=\"228.5\" y=\"-156.8\" font-family=\"Helvetica,sans-Serif\" font-size=\"14.00\">gini = 0.293</text>\r\n",
       "<text text-anchor=\"middle\" x=\"228.5\" y=\"-141.8\" font-family=\"Helvetica,sans-Serif\" font-size=\"14.00\">samples = 224</text>\r\n",
       "<text text-anchor=\"middle\" x=\"228.5\" y=\"-126.8\" font-family=\"Helvetica,sans-Serif\" font-size=\"14.00\">value = [184, 40]</text>\r\n",
       "<text text-anchor=\"middle\" x=\"228.5\" y=\"-111.8\" font-family=\"Helvetica,sans-Serif\" font-size=\"14.00\">class = Not Purchased</text>\r\n",
       "</g>\r\n",
       "<!-- 0&#45;&gt;1 -->\r\n",
       "<g id=\"edge1\" class=\"edge\"><title>0&#45;&gt;1</title>\r\n",
       "<path fill=\"none\" stroke=\"black\" d=\"M298.377,-222.907C289.994,-213.742 281.018,-203.927 272.387,-194.489\"/>\r\n",
       "<polygon fill=\"black\" stroke=\"black\" points=\"274.889,-192.038 265.557,-187.021 269.723,-196.762 274.889,-192.038\"/>\r\n",
       "<text text-anchor=\"middle\" x=\"264.443\" y=\"-208.296\" font-family=\"Helvetica,sans-Serif\" font-size=\"14.00\">True</text>\r\n",
       "</g>\r\n",
       "<!-- 4 -->\r\n",
       "<g id=\"node5\" class=\"node\"><title>4</title>\r\n",
       "<path fill=\"#54aae8\" stroke=\"black\" d=\"M530,-187C530,-187 357,-187 357,-187 351,-187 345,-181 345,-175 345,-175 345,-116 345,-116 345,-110 351,-104 357,-104 357,-104 530,-104 530,-104 536,-104 542,-110 542,-116 542,-116 542,-175 542,-175 542,-181 536,-187 530,-187\"/>\r\n",
       "<text text-anchor=\"middle\" x=\"443.5\" y=\"-171.8\" font-family=\"Helvetica,sans-Serif\" font-size=\"14.00\">EstimatedSalary &lt;= 42500.0</text>\r\n",
       "<text text-anchor=\"middle\" x=\"443.5\" y=\"-156.8\" font-family=\"Helvetica,sans-Serif\" font-size=\"14.00\">gini = 0.209</text>\r\n",
       "<text text-anchor=\"middle\" x=\"443.5\" y=\"-141.8\" font-family=\"Helvetica,sans-Serif\" font-size=\"14.00\">samples = 76</text>\r\n",
       "<text text-anchor=\"middle\" x=\"443.5\" y=\"-126.8\" font-family=\"Helvetica,sans-Serif\" font-size=\"14.00\">value = [9, 67]</text>\r\n",
       "<text text-anchor=\"middle\" x=\"443.5\" y=\"-111.8\" font-family=\"Helvetica,sans-Serif\" font-size=\"14.00\">class = Purchased</text>\r\n",
       "</g>\r\n",
       "<!-- 0&#45;&gt;4 -->\r\n",
       "<g id=\"edge4\" class=\"edge\"><title>0&#45;&gt;4</title>\r\n",
       "<path fill=\"none\" stroke=\"black\" d=\"M372.97,-222.907C381.431,-213.742 390.491,-203.927 399.202,-194.489\"/>\r\n",
       "<polygon fill=\"black\" stroke=\"black\" points=\"401.885,-196.743 406.096,-187.021 396.742,-191.995 401.885,-196.743\"/>\r\n",
       "<text text-anchor=\"middle\" x=\"407.095\" y=\"-208.301\" font-family=\"Helvetica,sans-Serif\" font-size=\"14.00\">False</text>\r\n",
       "</g>\r\n",
       "<!-- 2 -->\r\n",
       "<g id=\"node3\" class=\"node\"><title>2</title>\r\n",
       "<path fill=\"#e68742\" stroke=\"black\" d=\"M147,-68C147,-68 12,-68 12,-68 6,-68 0,-62 0,-56 0,-56 0,-12 0,-12 0,-6 6,-0 12,-0 12,-0 147,-0 147,-0 153,-0 159,-6 159,-12 159,-12 159,-56 159,-56 159,-62 153,-68 147,-68\"/>\r\n",
       "<text text-anchor=\"middle\" x=\"79.5\" y=\"-52.8\" font-family=\"Helvetica,sans-Serif\" font-size=\"14.00\">gini = 0.082</text>\r\n",
       "<text text-anchor=\"middle\" x=\"79.5\" y=\"-37.8\" font-family=\"Helvetica,sans-Serif\" font-size=\"14.00\">samples = 186</text>\r\n",
       "<text text-anchor=\"middle\" x=\"79.5\" y=\"-22.8\" font-family=\"Helvetica,sans-Serif\" font-size=\"14.00\">value = [178, 8]</text>\r\n",
       "<text text-anchor=\"middle\" x=\"79.5\" y=\"-7.8\" font-family=\"Helvetica,sans-Serif\" font-size=\"14.00\">class = Not Purchased</text>\r\n",
       "</g>\r\n",
       "<!-- 1&#45;&gt;2 -->\r\n",
       "<g id=\"edge2\" class=\"edge\"><title>1&#45;&gt;2</title>\r\n",
       "<path fill=\"none\" stroke=\"black\" d=\"M173.018,-103.726C159.986,-94.1494 146.123,-83.9611 133.172,-74.4438\"/>\r\n",
       "<polygon fill=\"black\" stroke=\"black\" points=\"134.942,-71.4012 124.812,-68.2996 130.797,-77.0418 134.942,-71.4012\"/>\r\n",
       "</g>\r\n",
       "<!-- 3 -->\r\n",
       "<g id=\"node4\" class=\"node\"><title>3</title>\r\n",
       "<path fill=\"#5eafea\" stroke=\"black\" d=\"M299.5,-68C299.5,-68 189.5,-68 189.5,-68 183.5,-68 177.5,-62 177.5,-56 177.5,-56 177.5,-12 177.5,-12 177.5,-6 183.5,-0 189.5,-0 189.5,-0 299.5,-0 299.5,-0 305.5,-0 311.5,-6 311.5,-12 311.5,-12 311.5,-56 311.5,-56 311.5,-62 305.5,-68 299.5,-68\"/>\r\n",
       "<text text-anchor=\"middle\" x=\"244.5\" y=\"-52.8\" font-family=\"Helvetica,sans-Serif\" font-size=\"14.00\">gini = 0.266</text>\r\n",
       "<text text-anchor=\"middle\" x=\"244.5\" y=\"-37.8\" font-family=\"Helvetica,sans-Serif\" font-size=\"14.00\">samples = 38</text>\r\n",
       "<text text-anchor=\"middle\" x=\"244.5\" y=\"-22.8\" font-family=\"Helvetica,sans-Serif\" font-size=\"14.00\">value = [6, 32]</text>\r\n",
       "<text text-anchor=\"middle\" x=\"244.5\" y=\"-7.8\" font-family=\"Helvetica,sans-Serif\" font-size=\"14.00\">class = Purchased</text>\r\n",
       "</g>\r\n",
       "<!-- 1&#45;&gt;3 -->\r\n",
       "<g id=\"edge3\" class=\"edge\"><title>1&#45;&gt;3</title>\r\n",
       "<path fill=\"none\" stroke=\"black\" d=\"M234.458,-103.726C235.671,-95.4263 236.95,-86.6671 238.175,-78.2834\"/>\r\n",
       "<polygon fill=\"black\" stroke=\"black\" points=\"241.652,-78.7006 239.634,-68.2996 234.725,-77.6885 241.652,-78.7006\"/>\r\n",
       "</g>\r\n",
       "<!-- 5 -->\r\n",
       "<g id=\"node6\" class=\"node\"><title>5</title>\r\n",
       "<path fill=\"#399de5\" stroke=\"black\" d=\"M482.5,-68C482.5,-68 372.5,-68 372.5,-68 366.5,-68 360.5,-62 360.5,-56 360.5,-56 360.5,-12 360.5,-12 360.5,-6 366.5,-0 372.5,-0 372.5,-0 482.5,-0 482.5,-0 488.5,-0 494.5,-6 494.5,-12 494.5,-12 494.5,-56 494.5,-56 494.5,-62 488.5,-68 482.5,-68\"/>\r\n",
       "<text text-anchor=\"middle\" x=\"427.5\" y=\"-52.8\" font-family=\"Helvetica,sans-Serif\" font-size=\"14.00\">gini = 0.0</text>\r\n",
       "<text text-anchor=\"middle\" x=\"427.5\" y=\"-37.8\" font-family=\"Helvetica,sans-Serif\" font-size=\"14.00\">samples = 25</text>\r\n",
       "<text text-anchor=\"middle\" x=\"427.5\" y=\"-22.8\" font-family=\"Helvetica,sans-Serif\" font-size=\"14.00\">value = [0, 25]</text>\r\n",
       "<text text-anchor=\"middle\" x=\"427.5\" y=\"-7.8\" font-family=\"Helvetica,sans-Serif\" font-size=\"14.00\">class = Purchased</text>\r\n",
       "</g>\r\n",
       "<!-- 4&#45;&gt;5 -->\r\n",
       "<g id=\"edge5\" class=\"edge\"><title>4&#45;&gt;5</title>\r\n",
       "<path fill=\"none\" stroke=\"black\" d=\"M437.542,-103.726C436.329,-95.4263 435.05,-86.6671 433.825,-78.2834\"/>\r\n",
       "<polygon fill=\"black\" stroke=\"black\" points=\"437.275,-77.6885 432.366,-68.2996 430.348,-78.7006 437.275,-77.6885\"/>\r\n",
       "</g>\r\n",
       "<!-- 6 -->\r\n",
       "<g id=\"node7\" class=\"node\"><title>6</title>\r\n",
       "<path fill=\"#63b2eb\" stroke=\"black\" d=\"M634.5,-68C634.5,-68 524.5,-68 524.5,-68 518.5,-68 512.5,-62 512.5,-56 512.5,-56 512.5,-12 512.5,-12 512.5,-6 518.5,-0 524.5,-0 524.5,-0 634.5,-0 634.5,-0 640.5,-0 646.5,-6 646.5,-12 646.5,-12 646.5,-56 646.5,-56 646.5,-62 640.5,-68 634.5,-68\"/>\r\n",
       "<text text-anchor=\"middle\" x=\"579.5\" y=\"-52.8\" font-family=\"Helvetica,sans-Serif\" font-size=\"14.00\">gini = 0.291</text>\r\n",
       "<text text-anchor=\"middle\" x=\"579.5\" y=\"-37.8\" font-family=\"Helvetica,sans-Serif\" font-size=\"14.00\">samples = 51</text>\r\n",
       "<text text-anchor=\"middle\" x=\"579.5\" y=\"-22.8\" font-family=\"Helvetica,sans-Serif\" font-size=\"14.00\">value = [9, 42]</text>\r\n",
       "<text text-anchor=\"middle\" x=\"579.5\" y=\"-7.8\" font-family=\"Helvetica,sans-Serif\" font-size=\"14.00\">class = Purchased</text>\r\n",
       "</g>\r\n",
       "<!-- 4&#45;&gt;6 -->\r\n",
       "<g id=\"edge6\" class=\"edge\"><title>4&#45;&gt;6</title>\r\n",
       "<path fill=\"none\" stroke=\"black\" d=\"M494.141,-103.726C505.923,-94.2406 518.449,-84.1551 530.173,-74.7159\"/>\r\n",
       "<polygon fill=\"black\" stroke=\"black\" points=\"532.547,-77.2972 538.142,-68.2996 528.157,-71.8448 532.547,-77.2972\"/>\r\n",
       "</g>\r\n",
       "</g>\r\n",
       "</svg>\r\n"
      ],
      "text/plain": [
       "<graphviz.files.Source at 0x19b15e476c8>"
      ]
     },
     "execution_count": 15,
     "metadata": {},
     "output_type": "execute_result"
    }
   ],
   "source": [
    "gv.Source(export_graphviz(tree, feature_names=x.columns, filled=True, rounded=True,\n",
    "                         class_names=['Not Purchased', 'Purchased']))"
   ]
  },
  {
   "cell_type": "code",
   "execution_count": 16,
   "metadata": {},
   "outputs": [],
   "source": [
    "y_predict = tree.predict(x_test)"
   ]
  },
  {
   "cell_type": "markdown",
   "metadata": {},
   "source": [
    "### Analyzing the accuracy of the classifier"
   ]
  },
  {
   "cell_type": "markdown",
   "metadata": {},
   "source": [
    "These are expected values:"
   ]
  },
  {
   "cell_type": "code",
   "execution_count": 17,
   "metadata": {},
   "outputs": [
    {
     "name": "stdout",
     "output_type": "stream",
     "text": [
      "# of individuals who made a purchase: 36\n",
      "# of individuals who did not make a purchase: 64\n"
     ]
    }
   ],
   "source": [
    "print('# of individuals who made a purchase: {0}\\n' \\\n",
    "     '# of individuals who did not make a purchase: {1}' \\\n",
    "     .format(y_test.value_counts()[1], y_test.value_counts()[0]))"
   ]
  },
  {
   "cell_type": "code",
   "execution_count": 18,
   "metadata": {},
   "outputs": [
    {
     "data": {
      "text/plain": [
       "array([[55,  9],\n",
       "       [ 1, 35]], dtype=int64)"
      ]
     },
     "execution_count": 18,
     "metadata": {},
     "output_type": "execute_result"
    }
   ],
   "source": [
    "metrics.confusion_matrix(y_test, y_predict)"
   ]
  },
  {
   "cell_type": "code",
   "execution_count": 19,
   "metadata": {},
   "outputs": [
    {
     "data": {
      "text/plain": [
       "{'Accuracy': 0.9,\n",
       " 'Precision': array([0.98214286, 0.79545455]),\n",
       " 'Recall': array([0.859375  , 0.97222222])}"
      ]
     },
     "execution_count": 19,
     "metadata": {},
     "output_type": "execute_result"
    }
   ],
   "source": [
    "results = {'Accuracy': metrics.accuracy_score(y_test, y_predict, normalize=True),\n",
    "          'Precision': metrics.precision_score(y_test, y_predict, average=None),\n",
    "          'Recall': metrics.recall_score(y_test, y_predict, average=None)}\n",
    "results"
   ]
  },
  {
   "cell_type": "markdown",
   "metadata": {},
   "source": [
    "### Feature Importance\n",
    "Let's see which features are the most important."
   ]
  },
  {
   "cell_type": "code",
   "execution_count": 20,
   "metadata": {},
   "outputs": [
    {
     "data": {
      "text/plain": [
       "<matplotlib.axes._subplots.AxesSubplot at 0x19b15e0d7c8>"
      ]
     },
     "execution_count": 20,
     "metadata": {},
     "output_type": "execute_result"
    },
    {
     "data": {
      "image/png": "[encoded data removed]",
      "text/plain": [
       "<Figure size 432x288 with 1 Axes>"
      ]
     },
     "metadata": {
      "needs_background": "light"
     },
     "output_type": "display_data"
    }
   ],
   "source": [
    "importance = pd.Series(data=tree.feature_importances_, index=x.columns)\n",
    "sns.barplot(x.columns, importance)"
   ]
  },
  {
   "cell_type": "code",
   "execution_count": null,
   "metadata": {},
   "outputs": [],
   "source": []
  }
 ],
 "metadata": {
  "kernelspec": {
   "display_name": "Python 3",
   "language": "python",
   "name": "python3"
  },
  "language_info": {
   "codemirror_mode": {
    "name": "ipython",
    "version": 3
   },
   "file_extension": ".py",
   "mimetype": "text/x-python",
   "name": "python",
   "nbconvert_exporter": "python",
   "pygments_lexer": "ipython3",
   "version": "3.7.4"
  }
 },
 "nbformat": 4,
 "nbformat_minor": 4
}
