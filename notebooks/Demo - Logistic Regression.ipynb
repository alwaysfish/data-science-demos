{
 "cells": [
  {
   "cell_type": "markdown",
   "metadata": {
    "toc-hr-collapsed": false
   },
   "source": [
    "# Logistic Regression & Classification Evaluation"
   ]
  },
  {
   "cell_type": "markdown",
   "metadata": {
    "toc-hr-collapsed": false
   },
   "source": [
    "## Logistic Regression Fundamentals\n",
    "\n",
    "Logistic regression models the probabilities for classification problems with two possible outcomes (e.g. fraud/not fraud, spam/not spam). It’s an extension of the linear regression model for classification problems.\n",
    "\n",
    "The logistic regression model uses the logistic function (sigmoid) to squeeze the output of a linear equation between 0 and 1. The logistic function is defined as:\n",
    "\n",
    "$$\\Large sigmoid(y)=\\frac{1}{1+e^{-y}}$$\n",
    "\n",
    "$$\\Large y = w_0 + \\sum_{i=1}^{n}w_i{x_i}$$\n",
    "\n",
    "And it looks like this:\n",
    "\n",
    "<img src=\"images/sigmoid-function.png\" width=600></img>"
   ]
  },
  {
   "cell_type": "markdown",
   "metadata": {},
   "source": [
    "### Intuition of weights\n",
    "\n",
    "The interpretation of the weights in logistic regression differs from the interpretation of the weights in linear regression, since the outcome in logistic regression is a probability between 0 and 1. The weights do not influence the probability linearly any longer. The weighted sum is transformed by the logistic function to a probability. Therefore we need to reformulate the equation for the interpretation so that only the linear term is on the right side of the formula.\n",
    "\n",
    "$$\\Large log\\left(\\frac{P(y=1)}{1-P(y=1)}\\right)=log\\left(\\frac{P(y=1)}{P(y=0)}\\right)=w_0+w_1x_1+...+w_nx_n$$\n",
    "\n",
    "We call the term in the log() function “odds” (probability of event divided by probability of no event) and wrapped in the logarithm it is called log odds.\n",
    "\n",
    "This formula shows that the logistic regression model is a linear model for the log odds. With a little shuffling of the terms, you can figure out how the prediction changes when one of the features $x_j$ is changed by 1 unit. To do this, we can first apply the $exp()$ function to both sides of the equation:\n",
    "\n",
    "$$\\Large \\frac{P(y=1)}{1-P(y=1)}=odds=e^{w_0+w_1x_1+...+w_nx_n}$$\n",
    "\n",
    "Then we compare what happens when we increase one of the feature values by 1. But instead of looking at the difference, we look at the ratio of the two predictions:\n",
    "\n",
    "$$\\Large \\frac{odds_{x_j+1}}{odds}=\\frac{e^{w_0+w_1x_1+...+w_j(x_j+1)+…+w_nx_n}}{e^{w_0+w_1x_1+…+w_jx_j+…+w_nx_n}}$$\n",
    "\n",
    "We apply the following rule:\n",
    "\n",
    "$$\\Large \\frac{e^a}{e^b}=e^{a-b}$$\n",
    "\n",
    "And we remove many terms:\n",
    "\n",
    "$$\\Large \\frac{odds_{x_j+1}}{odds}=e^{w_j({x_j+1})-w_jx_j}=e^{w_j}$$\n",
    "\n",
    "In the end, we have something as simple as exponent of a feature weight. A change in a feature by one unit changes the odds ratio by a factor of $e^{w_j}$. We could also interpret it this way: A change in $x_j$ by one unit increases the log odds ratio by the value of the corresponding weight."
   ]
  },
  {
   "cell_type": "code",
   "execution_count": 1,
   "metadata": {},
   "outputs": [],
   "source": [
    "import pandas as pd\n",
    "import numpy as np\n",
    "import matplotlib.pyplot as plt\n",
    "import seaborn as sns\n",
    "from sklearn.linear_model import LogisticRegression"
   ]
  },
  {
   "cell_type": "markdown",
   "metadata": {},
   "source": [
    "### Example"
   ]
  },
  {
   "cell_type": "markdown",
   "metadata": {},
   "source": [
    "#### Import data"
   ]
  },
  {
   "cell_type": "code",
   "execution_count": 2,
   "metadata": {},
   "outputs": [],
   "source": [
    "data = pd.read_csv('../datasets/social_network_ads.csv')"
   ]
  },
  {
   "cell_type": "code",
   "execution_count": 3,
   "metadata": {},
   "outputs": [
    {
     "data": {
      "text/html": [
       "<div>\n",
       "<style scoped>\n",
       "    .dataframe tbody tr th:only-of-type {\n",
       "        vertical-align: middle;\n",
       "    }\n",
       "\n",
       "    .dataframe tbody tr th {\n",
       "        vertical-align: top;\n",
       "    }\n",
       "\n",
       "    .dataframe thead th {\n",
       "        text-align: right;\n",
       "    }\n",
       "</style>\n",
       "<table border=\"1\" class=\"dataframe\">\n",
       "  <thead>\n",
       "    <tr style=\"text-align: right;\">\n",
       "      <th></th>\n",
       "      <th>User ID</th>\n",
       "      <th>Gender</th>\n",
       "      <th>Age</th>\n",
       "      <th>EstimatedSalary</th>\n",
       "      <th>Purchased</th>\n",
       "    </tr>\n",
       "  </thead>\n",
       "  <tbody>\n",
       "    <tr>\n",
       "      <th>0</th>\n",
       "      <td>15624510</td>\n",
       "      <td>Male</td>\n",
       "      <td>19</td>\n",
       "      <td>19000</td>\n",
       "      <td>0</td>\n",
       "    </tr>\n",
       "    <tr>\n",
       "      <th>1</th>\n",
       "      <td>15810944</td>\n",
       "      <td>Male</td>\n",
       "      <td>35</td>\n",
       "      <td>20000</td>\n",
       "      <td>0</td>\n",
       "    </tr>\n",
       "    <tr>\n",
       "      <th>2</th>\n",
       "      <td>15668575</td>\n",
       "      <td>Female</td>\n",
       "      <td>26</td>\n",
       "      <td>43000</td>\n",
       "      <td>0</td>\n",
       "    </tr>\n",
       "    <tr>\n",
       "      <th>3</th>\n",
       "      <td>15603246</td>\n",
       "      <td>Female</td>\n",
       "      <td>27</td>\n",
       "      <td>57000</td>\n",
       "      <td>0</td>\n",
       "    </tr>\n",
       "    <tr>\n",
       "      <th>4</th>\n",
       "      <td>15804002</td>\n",
       "      <td>Male</td>\n",
       "      <td>19</td>\n",
       "      <td>76000</td>\n",
       "      <td>0</td>\n",
       "    </tr>\n",
       "  </tbody>\n",
       "</table>\n",
       "</div>"
      ],
      "text/plain": [
       "    User ID  Gender  Age  EstimatedSalary  Purchased\n",
       "0  15624510    Male   19            19000          0\n",
       "1  15810944    Male   35            20000          0\n",
       "2  15668575  Female   26            43000          0\n",
       "3  15603246  Female   27            57000          0\n",
       "4  15804002    Male   19            76000          0"
      ]
     },
     "execution_count": 3,
     "metadata": {},
     "output_type": "execute_result"
    }
   ],
   "source": [
    "data.head()"
   ]
  },
  {
   "cell_type": "markdown",
   "metadata": {},
   "source": [
    "#### Exploratory data analysis"
   ]
  },
  {
   "cell_type": "code",
   "execution_count": 4,
   "metadata": {},
   "outputs": [
    {
     "name": "stdout",
     "output_type": "stream",
     "text": [
      "<class 'pandas.core.frame.DataFrame'>\n",
      "RangeIndex: 400 entries, 0 to 399\n",
      "Data columns (total 5 columns):\n",
      "User ID            400 non-null int64\n",
      "Gender             400 non-null object\n",
      "Age                400 non-null int64\n",
      "EstimatedSalary    400 non-null int64\n",
      "Purchased          400 non-null int64\n",
      "dtypes: int64(4), object(1)\n",
      "memory usage: 15.8+ KB\n"
     ]
    }
   ],
   "source": [
    "data.info()"
   ]
  },
  {
   "cell_type": "code",
   "execution_count": 5,
   "metadata": {},
   "outputs": [
    {
     "data": {
      "text/plain": [
       "<matplotlib.axes._subplots.AxesSubplot at 0x224567634c8>"
      ]
     },
     "execution_count": 5,
     "metadata": {},
     "output_type": "execute_result"
    },
    {
     "data": {
      "image/png": "[encoded data removed]",
      "text/plain": [
       "<Figure size 432x288 with 1 Axes>"
      ]
     },
     "metadata": {
      "needs_background": "light"
     },
     "output_type": "display_data"
    }
   ],
   "source": [
    "sns.countplot('Gender', data=data)"
   ]
  },
  {
   "cell_type": "code",
   "execution_count": 6,
   "metadata": {},
   "outputs": [
    {
     "data": {
      "text/plain": [
       "<matplotlib.axes._subplots.AxesSubplot at 0x224588cae88>"
      ]
     },
     "execution_count": 6,
     "metadata": {},
     "output_type": "execute_result"
    },
    {
     "data": {
      "image/png": "[encoded data removed]",
      "text/plain": [
       "<Figure size 432x288 with 1 Axes>"
      ]
     },
     "metadata": {
      "needs_background": "light"
     },
     "output_type": "display_data"
    }
   ],
   "source": [
    "sns.countplot('Gender', hue='Purchased', data=data)"
   ]
  },
  {
   "cell_type": "code",
   "execution_count": 7,
   "metadata": {},
   "outputs": [
    {
     "data": {
      "text/plain": [
       "<matplotlib.axes._subplots.AxesSubplot at 0x2245888b748>"
      ]
     },
     "execution_count": 7,
     "metadata": {},
     "output_type": "execute_result"
    },
    {
     "data": {
      "image/png": "[encoded data removed]",
      "text/plain": [
       "<Figure size 1008x360 with 2 Axes>"
      ]
     },
     "metadata": {
      "needs_background": "light"
     },
     "output_type": "display_data"
    }
   ],
   "source": [
    "plt.figure(figsize=(14, 5))\n",
    "plt.subplot(121)\n",
    "sns.scatterplot('Age', 'Purchased', data=data)\n",
    "plt.subplot(122)\n",
    "sns.scatterplot('EstimatedSalary', 'Purchased', data=data)"
   ]
  },
  {
   "cell_type": "markdown",
   "metadata": {},
   "source": [
    "Conclusions of EDA:\n",
    "* Males and females are equally likely to make a purchase.\n",
    "* The older a person is, the more likely he/she might make a purchase.\n",
    "* If a person earns more money, it is somewhat more likely that he/she might make a purchase. However, it is a weaker predictor than age."
   ]
  },
  {
   "cell_type": "markdown",
   "metadata": {},
   "source": [
    "#### Visual demonstration of a Sigmoid function\n",
    "Let's demonstrate what sigmoid function of a logistic regression with one variable, _Age_, looks like.\n",
    "\n",
    "$$\\Large\n",
    "sigmoid(x)=\\frac{1}{1+e^{-x}}$$"
   ]
  },
  {
   "cell_type": "code",
   "execution_count": 8,
   "metadata": {},
   "outputs": [],
   "source": [
    "x = data['Age'].values.reshape(-1, 1)\n",
    "y = data['Purchased']"
   ]
  },
  {
   "cell_type": "code",
   "execution_count": 9,
   "metadata": {},
   "outputs": [],
   "source": [
    "lr = LogisticRegression(solver='lbfgs')"
   ]
  },
  {
   "cell_type": "code",
   "execution_count": 10,
   "metadata": {},
   "outputs": [
    {
     "data": {
      "text/plain": [
       "LogisticRegression(C=1.0, class_weight=None, dual=False, fit_intercept=True,\n",
       "                   intercept_scaling=1, l1_ratio=None, max_iter=100,\n",
       "                   multi_class='auto', n_jobs=None, penalty='l2',\n",
       "                   random_state=None, solver='lbfgs', tol=0.0001, verbose=0,\n",
       "                   warm_start=False)"
      ]
     },
     "execution_count": 10,
     "metadata": {},
     "output_type": "execute_result"
    }
   ],
   "source": [
    "lr.fit(x, y)"
   ]
  },
  {
   "cell_type": "code",
   "execution_count": 11,
   "metadata": {},
   "outputs": [
    {
     "data": {
      "text/plain": [
       "<matplotlib.collections.LineCollection at 0x22458a4dc88>"
      ]
     },
     "execution_count": 11,
     "metadata": {},
     "output_type": "execute_result"
    },
    {
     "data": {
      "image/png": "[encoded data removed]",
      "text/plain": [
       "<Figure size 864x504 with 1 Axes>"
      ]
     },
     "metadata": {
      "needs_background": "light"
     },
     "output_type": "display_data"
    }
   ],
   "source": [
    "prob = lr.predict_proba(x)[:, 1]\n",
    "\n",
    "# changing threshold will change which samples are classified 1 (Purchased) and which are classified 0 (Not Purchased)\n",
    "th = 0.5\n",
    "plt.figure(figsize=(12, 7))\n",
    "plt.scatter(x[prob < th], y[prob < th], c='red', )\n",
    "plt.scatter(x[prob >= th], y[prob >= th], c='green')\n",
    "plt.scatter(x, lr.predict_proba(x)[:, 1])\n",
    "plt.hlines(th, min(x), max(x), linestyles='dashed')"
   ]
  },
  {
   "cell_type": "code",
   "execution_count": 12,
   "metadata": {},
   "outputs": [
    {
     "name": "stdout",
     "output_type": "stream",
     "text": [
      "Intercept: -8.041\n",
      "Coef: 0.189\n"
     ]
    }
   ],
   "source": [
    "print('Intercept: {0}'.format(round(lr.intercept_[0], 3)))\n",
    "print('Coef: {0}'.format(round(lr.coef_[0][0], 3)))"
   ]
  },
  {
   "cell_type": "markdown",
   "metadata": {},
   "source": [
    "$$\\Large Prob\\ of \\ Purchase(age)=\\frac{1}{1+e^{-(-8.041+0.189age)}}$$"
   ]
  },
  {
   "cell_type": "code",
   "execution_count": 13,
   "metadata": {},
   "outputs": [],
   "source": [
    "# let's output probabilities of making a purchase\n",
    "probdf = pd.DataFrame(data={'Age': x[:, 0], 'ProbPurchased': lr.predict_proba(x)[:, 1]})"
   ]
  },
  {
   "cell_type": "code",
   "execution_count": 14,
   "metadata": {},
   "outputs": [
    {
     "data": {
      "text/html": [
       "<div>\n",
       "<style scoped>\n",
       "    .dataframe tbody tr th:only-of-type {\n",
       "        vertical-align: middle;\n",
       "    }\n",
       "\n",
       "    .dataframe tbody tr th {\n",
       "        vertical-align: top;\n",
       "    }\n",
       "\n",
       "    .dataframe thead th {\n",
       "        text-align: right;\n",
       "    }\n",
       "</style>\n",
       "<table border=\"1\" class=\"dataframe\">\n",
       "  <thead>\n",
       "    <tr style=\"text-align: right;\">\n",
       "      <th></th>\n",
       "      <th>Age</th>\n",
       "      <th>ProbPurchased</th>\n",
       "    </tr>\n",
       "  </thead>\n",
       "  <tbody>\n",
       "    <tr>\n",
       "      <th>14</th>\n",
       "      <td>18</td>\n",
       "      <td>0.009551</td>\n",
       "    </tr>\n",
       "    <tr>\n",
       "      <th>0</th>\n",
       "      <td>19</td>\n",
       "      <td>0.011514</td>\n",
       "    </tr>\n",
       "    <tr>\n",
       "      <th>12</th>\n",
       "      <td>20</td>\n",
       "      <td>0.013874</td>\n",
       "    </tr>\n",
       "    <tr>\n",
       "      <th>32</th>\n",
       "      <td>21</td>\n",
       "      <td>0.016711</td>\n",
       "    </tr>\n",
       "    <tr>\n",
       "      <th>58</th>\n",
       "      <td>22</td>\n",
       "      <td>0.020115</td>\n",
       "    </tr>\n",
       "    <tr>\n",
       "      <th>45</th>\n",
       "      <td>23</td>\n",
       "      <td>0.024195</td>\n",
       "    </tr>\n",
       "    <tr>\n",
       "      <th>50</th>\n",
       "      <td>24</td>\n",
       "      <td>0.029079</td>\n",
       "    </tr>\n",
       "    <tr>\n",
       "      <th>8</th>\n",
       "      <td>25</td>\n",
       "      <td>0.034914</td>\n",
       "    </tr>\n",
       "    <tr>\n",
       "      <th>2</th>\n",
       "      <td>26</td>\n",
       "      <td>0.041868</td>\n",
       "    </tr>\n",
       "    <tr>\n",
       "      <th>3</th>\n",
       "      <td>27</td>\n",
       "      <td>0.050136</td>\n",
       "    </tr>\n",
       "    <tr>\n",
       "      <th>33</th>\n",
       "      <td>28</td>\n",
       "      <td>0.059934</td>\n",
       "    </tr>\n",
       "    <tr>\n",
       "      <th>15</th>\n",
       "      <td>29</td>\n",
       "      <td>0.071504</td>\n",
       "    </tr>\n",
       "    <tr>\n",
       "      <th>37</th>\n",
       "      <td>30</td>\n",
       "      <td>0.085104</td>\n",
       "    </tr>\n",
       "    <tr>\n",
       "      <th>29</th>\n",
       "      <td>31</td>\n",
       "      <td>0.101009</td>\n",
       "    </tr>\n",
       "    <tr>\n",
       "      <th>7</th>\n",
       "      <td>32</td>\n",
       "      <td>0.119500</td>\n",
       "    </tr>\n",
       "    <tr>\n",
       "      <th>36</th>\n",
       "      <td>33</td>\n",
       "      <td>0.140844</td>\n",
       "    </tr>\n",
       "    <tr>\n",
       "      <th>75</th>\n",
       "      <td>34</td>\n",
       "      <td>0.165285</td>\n",
       "    </tr>\n",
       "    <tr>\n",
       "      <th>1</th>\n",
       "      <td>35</td>\n",
       "      <td>0.193015</td>\n",
       "    </tr>\n",
       "    <tr>\n",
       "      <th>117</th>\n",
       "      <td>36</td>\n",
       "      <td>0.224148</td>\n",
       "    </tr>\n",
       "    <tr>\n",
       "      <th>111</th>\n",
       "      <td>37</td>\n",
       "      <td>0.258692</td>\n",
       "    </tr>\n",
       "    <tr>\n",
       "      <th>109</th>\n",
       "      <td>38</td>\n",
       "      <td>0.296526</td>\n",
       "    </tr>\n",
       "    <tr>\n",
       "      <th>81</th>\n",
       "      <td>39</td>\n",
       "      <td>0.337375</td>\n",
       "    </tr>\n",
       "    <tr>\n",
       "      <th>115</th>\n",
       "      <td>40</td>\n",
       "      <td>0.380804</td>\n",
       "    </tr>\n",
       "    <tr>\n",
       "      <th>119</th>\n",
       "      <td>41</td>\n",
       "      <td>0.426229</td>\n",
       "    </tr>\n",
       "    <tr>\n",
       "      <th>114</th>\n",
       "      <td>42</td>\n",
       "      <td>0.472933</td>\n",
       "    </tr>\n",
       "    <tr>\n",
       "      <th>270</th>\n",
       "      <td>43</td>\n",
       "      <td>0.520116</td>\n",
       "    </tr>\n",
       "    <tr>\n",
       "      <th>250</th>\n",
       "      <td>44</td>\n",
       "      <td>0.566942</td>\n",
       "    </tr>\n",
       "    <tr>\n",
       "      <th>17</th>\n",
       "      <td>45</td>\n",
       "      <td>0.612603</td>\n",
       "    </tr>\n",
       "    <tr>\n",
       "      <th>18</th>\n",
       "      <td>46</td>\n",
       "      <td>0.656367</td>\n",
       "    </tr>\n",
       "    <tr>\n",
       "      <th>16</th>\n",
       "      <td>47</td>\n",
       "      <td>0.697628</td>\n",
       "    </tr>\n",
       "    <tr>\n",
       "      <th>19</th>\n",
       "      <td>48</td>\n",
       "      <td>0.735927</td>\n",
       "    </tr>\n",
       "    <tr>\n",
       "      <th>26</th>\n",
       "      <td>49</td>\n",
       "      <td>0.770969</td>\n",
       "    </tr>\n",
       "    <tr>\n",
       "      <th>242</th>\n",
       "      <td>50</td>\n",
       "      <td>0.802607</td>\n",
       "    </tr>\n",
       "    <tr>\n",
       "      <th>245</th>\n",
       "      <td>51</td>\n",
       "      <td>0.830834</td>\n",
       "    </tr>\n",
       "    <tr>\n",
       "      <th>207</th>\n",
       "      <td>52</td>\n",
       "      <td>0.855750</td>\n",
       "    </tr>\n",
       "    <tr>\n",
       "      <th>239</th>\n",
       "      <td>53</td>\n",
       "      <td>0.877537</td>\n",
       "    </tr>\n",
       "    <tr>\n",
       "      <th>316</th>\n",
       "      <td>54</td>\n",
       "      <td>0.896432</td>\n",
       "    </tr>\n",
       "    <tr>\n",
       "      <th>206</th>\n",
       "      <td>55</td>\n",
       "      <td>0.912701</td>\n",
       "    </tr>\n",
       "    <tr>\n",
       "      <th>227</th>\n",
       "      <td>56</td>\n",
       "      <td>0.926624</td>\n",
       "    </tr>\n",
       "    <tr>\n",
       "      <th>247</th>\n",
       "      <td>57</td>\n",
       "      <td>0.938476</td>\n",
       "    </tr>\n",
       "    <tr>\n",
       "      <th>204</th>\n",
       "      <td>58</td>\n",
       "      <td>0.948520</td>\n",
       "    </tr>\n",
       "    <tr>\n",
       "      <th>64</th>\n",
       "      <td>59</td>\n",
       "      <td>0.957000</td>\n",
       "    </tr>\n",
       "    <tr>\n",
       "      <th>215</th>\n",
       "      <td>60</td>\n",
       "      <td>0.964135</td>\n",
       "    </tr>\n",
       "  </tbody>\n",
       "</table>\n",
       "</div>"
      ],
      "text/plain": [
       "     Age  ProbPurchased\n",
       "14    18       0.009551\n",
       "0     19       0.011514\n",
       "12    20       0.013874\n",
       "32    21       0.016711\n",
       "58    22       0.020115\n",
       "45    23       0.024195\n",
       "50    24       0.029079\n",
       "8     25       0.034914\n",
       "2     26       0.041868\n",
       "3     27       0.050136\n",
       "33    28       0.059934\n",
       "15    29       0.071504\n",
       "37    30       0.085104\n",
       "29    31       0.101009\n",
       "7     32       0.119500\n",
       "36    33       0.140844\n",
       "75    34       0.165285\n",
       "1     35       0.193015\n",
       "117   36       0.224148\n",
       "111   37       0.258692\n",
       "109   38       0.296526\n",
       "81    39       0.337375\n",
       "115   40       0.380804\n",
       "119   41       0.426229\n",
       "114   42       0.472933\n",
       "270   43       0.520116\n",
       "250   44       0.566942\n",
       "17    45       0.612603\n",
       "18    46       0.656367\n",
       "16    47       0.697628\n",
       "19    48       0.735927\n",
       "26    49       0.770969\n",
       "242   50       0.802607\n",
       "245   51       0.830834\n",
       "207   52       0.855750\n",
       "239   53       0.877537\n",
       "316   54       0.896432\n",
       "206   55       0.912701\n",
       "227   56       0.926624\n",
       "247   57       0.938476\n",
       "204   58       0.948520\n",
       "64    59       0.957000\n",
       "215   60       0.964135"
      ]
     },
     "execution_count": 14,
     "metadata": {},
     "output_type": "execute_result"
    }
   ],
   "source": [
    "probdf.drop_duplicates('Age').sort_values('Age')"
   ]
  },
  {
   "cell_type": "markdown",
   "metadata": {},
   "source": [
    "### Multivariate Logistic Regresion\n",
    "Now let's do logistic regression using _Age_ and _EstimatedSalary_ as independent variales (features) and _Purchased_ as our target feature."
   ]
  },
  {
   "cell_type": "code",
   "execution_count": 15,
   "metadata": {},
   "outputs": [],
   "source": [
    "from sklearn.model_selection import train_test_split\n",
    "from sklearn.preprocessing import StandardScaler"
   ]
  },
  {
   "cell_type": "code",
   "execution_count": 16,
   "metadata": {},
   "outputs": [],
   "source": [
    "x = data[['Age', 'EstimatedSalary']]\n",
    "y = data['Purchased']"
   ]
  },
  {
   "cell_type": "code",
   "execution_count": 17,
   "metadata": {},
   "outputs": [],
   "source": [
    "x_train, x_test, y_train, y_test = train_test_split(x, y, test_size=0.25)"
   ]
  },
  {
   "cell_type": "code",
   "execution_count": 18,
   "metadata": {},
   "outputs": [],
   "source": [
    "scaler = StandardScaler()"
   ]
  },
  {
   "cell_type": "code",
   "execution_count": 19,
   "metadata": {},
   "outputs": [
    {
     "data": {
      "text/plain": [
       "array([[-1.62887358, -0.94536942],\n",
       "       [-0.0319387 ,  0.179155  ],\n",
       "       [-1.81674827, -0.48402607],\n",
       "       [-1.15918685, -1.0318713 ],\n",
       "       [-0.21981339, -0.54169399]])"
      ]
     },
     "execution_count": 19,
     "metadata": {},
     "output_type": "execute_result"
    }
   ],
   "source": [
    "# first five rows of scaled values\n",
    "scaler.fit_transform(x_train)[:5]"
   ]
  },
  {
   "cell_type": "code",
   "execution_count": 20,
   "metadata": {},
   "outputs": [
    {
     "data": {
      "text/plain": [
       "array([[   20, 36000],\n",
       "       [   37, 75000],\n",
       "       [   18, 52000],\n",
       "       [   25, 33000],\n",
       "       [   35, 50000]], dtype=int64)"
      ]
     },
     "execution_count": 20,
     "metadata": {},
     "output_type": "execute_result"
    }
   ],
   "source": [
    "# first five rows of unscaled (original) values\n",
    "x_train.values[:5]"
   ]
  },
  {
   "cell_type": "code",
   "execution_count": 21,
   "metadata": {},
   "outputs": [],
   "source": [
    "x_train_scaled = scaler.fit_transform(x_train)\n",
    "x_test_scaled = scaler.transform(x_test)"
   ]
  },
  {
   "cell_type": "code",
   "execution_count": 22,
   "metadata": {},
   "outputs": [
    {
     "data": {
      "text/plain": [
       "LogisticRegression(C=1.0, class_weight=None, dual=False, fit_intercept=True,\n",
       "                   intercept_scaling=1, l1_ratio=None, max_iter=100,\n",
       "                   multi_class='auto', n_jobs=None, penalty='l2',\n",
       "                   random_state=None, solver='lbfgs', tol=0.0001, verbose=0,\n",
       "                   warm_start=False)"
      ]
     },
     "execution_count": 22,
     "metadata": {},
     "output_type": "execute_result"
    }
   ],
   "source": [
    "logreg = LogisticRegression(solver='lbfgs')\n",
    "logreg.fit(x_train_scaled, y_train)"
   ]
  },
  {
   "cell_type": "code",
   "execution_count": 23,
   "metadata": {},
   "outputs": [],
   "source": [
    "y_predicted = logreg.predict(x_test_scaled)"
   ]
  },
  {
   "cell_type": "markdown",
   "metadata": {},
   "source": [
    "## Classification Evaluation"
   ]
  },
  {
   "cell_type": "markdown",
   "metadata": {},
   "source": [
    "### Confusion Matrix\n",
    "\n",
    "Confusion matrix describes the performance of a classification model.\n",
    "\n",
    "__True Positives (TP)__ - These are the correctly predicted positive values. E.g. if actual class value indicates that this person was admitted to university, the predicted value tells the same thing.\n",
    "\n",
    "__True Negatives (TN)__ - These are the correctly predicted negative values. E.g. if actual class value indicates that this person was NOT admitted to university, the predicted value tells the same thing.\n",
    "\n",
    "__False Positives (FP)__ - Classification model predicted positive values, but actual class values are negative. In statistics this type of error is called **Type I** error. E.g. model predicted that you were admitted to university, when in reality you were not. Another example, a GP diagnosed that you have a cancer, when in reality you don't.\n",
    "\n",
    "__False Negative (FN)__ - Classification model predicted negative values, but actual class values are positive. In statistics this type of error is called **Type II** error. E.g. doctor diagnoses that you do NOT have a cancer, when actually you do.\n",
    "\n",
    "<img src=\"images/confusion-matrix.jpg\" width=600></img>"
   ]
  },
  {
   "cell_type": "code",
   "execution_count": 24,
   "metadata": {},
   "outputs": [],
   "source": [
    "import sklearn.metrics as skmetrics"
   ]
  },
  {
   "cell_type": "code",
   "execution_count": 25,
   "metadata": {},
   "outputs": [
    {
     "data": {
      "text/plain": [
       "0    58\n",
       "1    42\n",
       "Name: Purchased, dtype: int64"
      ]
     },
     "execution_count": 25,
     "metadata": {},
     "output_type": "execute_result"
    }
   ],
   "source": [
    "y_test.value_counts()"
   ]
  },
  {
   "cell_type": "code",
   "execution_count": 26,
   "metadata": {},
   "outputs": [
    {
     "data": {
      "text/plain": [
       "array([[51,  7],\n",
       "       [10, 32]], dtype=int64)"
      ]
     },
     "execution_count": 26,
     "metadata": {},
     "output_type": "execute_result"
    }
   ],
   "source": [
    "skmetrics.confusion_matrix(y_test, y_predicted)"
   ]
  },
  {
   "cell_type": "markdown",
   "metadata": {},
   "source": [
    "Now let's look at some other classification metrics based on confusion matrix."
   ]
  },
  {
   "cell_type": "markdown",
   "metadata": {},
   "source": [
    "### Accuracy\n",
    "\n",
    "Accuracy is the most intuitive performance measure and it is simply a ratio of correctly predicted observations to the total observations.\n",
    "\n",
    "$$\\Large Accuracy=\\frac{TP+TN}{TP+FP+TN+FN}$$"
   ]
  },
  {
   "cell_type": "code",
   "execution_count": 27,
   "metadata": {},
   "outputs": [
    {
     "name": "stdout",
     "output_type": "stream",
     "text": [
      "Our model has correctly classified 83.0% of all observations in the test data\n"
     ]
    }
   ],
   "source": [
    "print('Our model has correctly classified {0}% of all observations in the test data' \\\n",
    "      .format(skmetrics.accuracy_score(y_test, y_predicted) * 100))"
   ]
  },
  {
   "cell_type": "markdown",
   "metadata": {},
   "source": [
    "### Precision\n",
    "\n",
    "Precision is the ratio of correctly predicted positive observations to the total predicted positive observations.\n",
    "\n",
    "$$\\Large Precision=\\frac{TP}{TP+FP}$$\n"
   ]
  },
  {
   "cell_type": "code",
   "execution_count": 28,
   "metadata": {},
   "outputs": [
    {
     "name": "stdout",
     "output_type": "stream",
     "text": [
      "Out of all predicted positives (1), the model was correct about 82.1% of them.\n",
      "The remaining 17.9% of predicted positives should have been classified as negatives (0). (Type I error)\n",
      "\n",
      "Out of all predicted negatives (0), the model was correct about 83.6% of them.\n",
      "The remaining 16.4% of predicted negatives should have been classified as positives (1). (Type II error)\n"
     ]
    }
   ],
   "source": [
    "prec = skmetrics.precision_score(y_test, y_predicted, average=None)\n",
    "prec = (prec * 100).round(1)\n",
    "print('Out of all predicted positives (1), the model was correct about {0}% of them.\\n' \\\n",
    "      'The remaining {1}% of predicted positives should have been classified as negatives (0). (Type I error)\\n' \\\n",
    "      .format(prec[1], round(100 - prec[1], 1)))\n",
    "print('Out of all predicted negatives (0), the model was correct about {0}% of them.\\n' \\\n",
    "      'The remaining {1}% of predicted negatives should have been classified as positives (1). (Type II error)' \\\n",
    "      .format(prec[0], round(100 - prec[0], 1)))"
   ]
  },
  {
   "cell_type": "markdown",
   "metadata": {},
   "source": [
    "### Recall\n",
    "\n",
    "Recall is the ratio of correctly predicted (recalled) positive observations out of all true positive observations\n",
    "\n",
    "$$\\Large Recall=\\frac{TP}{TP+FN}$$"
   ]
  },
  {
   "cell_type": "code",
   "execution_count": 29,
   "metadata": {},
   "outputs": [
    {
     "data": {
      "text/plain": [
       "array([87.9, 76.2])"
      ]
     },
     "execution_count": 29,
     "metadata": {},
     "output_type": "execute_result"
    }
   ],
   "source": [
    "recall = skmetrics.recall_score(y_test, y_predicted, average=None)\n",
    "recall = (recall * 100).round(1)\n",
    "recall"
   ]
  },
  {
   "cell_type": "code",
   "execution_count": 30,
   "metadata": {},
   "outputs": [
    {
     "name": "stdout",
     "output_type": "stream",
     "text": [
      "Our model correctly classified (recalled) 76.2% positives (1) and 87.9% negatives (0).\n",
      "\n"
     ]
    }
   ],
   "source": [
    "print('Our model correctly classified (recalled) {0}% positives (1) and {1}% negatives (0).\\n' \\\n",
    "     .format(recall[1], recall[0]))"
   ]
  },
  {
   "cell_type": "markdown",
   "metadata": {},
   "source": [
    "### F1 Score\n",
    "\n",
    "F1 score is a weighted average of the recall and precision. F1 score might be good choice when you seek to balance between Precision and Recall.\n",
    "\n",
    "$$\\Large F1 \\ score=2\\times\\frac{Precision\\times Recall}{Precision+Recall}$$"
   ]
  },
  {
   "cell_type": "code",
   "execution_count": 31,
   "metadata": {},
   "outputs": [],
   "source": [
    "from sklearn.metrics import f1_score"
   ]
  },
  {
   "cell_type": "code",
   "execution_count": 32,
   "metadata": {},
   "outputs": [
    {
     "data": {
      "text/plain": [
       "0.7901234567901233"
      ]
     },
     "execution_count": 32,
     "metadata": {},
     "output_type": "execute_result"
    }
   ],
   "source": [
    "f1_score(y_test, y_predicted)"
   ]
  },
  {
   "cell_type": "markdown",
   "metadata": {},
   "source": [
    "### ROC Curve\n",
    "\n",
    "An __ROC curve (receiver operating characteristic curve)__ is a graph showing the performance of a classification model at all classification thresholds. This curve plots two parameters:\n",
    "\n",
    "- True Positive Rate\n",
    "- False Positive Rate\n",
    "\n",
    "True Positive Rate (TPR) is a synonym for Recall and is therefore defined as follows:\n",
    "\n",
    "$$\\Large TPR=\\frac{TP}{TP+FN}$$\n",
    "\n",
    "False Positive Rate (FPR) is defined as follows:\n",
    "\n",
    "$$\\Large FPR=\\frac{FP}{FP+TN}$$\n",
    "\n",
    "An ROC curve plots TPR vs. FPR at different classification thresholds. Remember, the default classification threshold is 0.5, meaning that a probability in [0.0, 0.49] is a negative outcome (0) and a probability in [0.5, 1.0] is a positive outcome (1). Lowering the classification threshold classifies more items as positive, thus increasing both False Positives and True Positives. By predicting probabilities and calibrating a threshold, a balance of these two concerns can be chosen by the operator of the model.\n",
    "\n",
    "For example, in a smog prediction system, we may be far more concerned with having low false negatives than low false positives. A false negative would mean not warning about a smog day when in fact it is a high smog day, leading to health issues in the public that are unable to take precautions. A false positive means the public would take precautionary measures when they didn't need to.\n",
    "\n",
    "<img src=\"images/roc-curve.png\" width=600></img>\n",
    "\n",
    "The ROC curve is a useful tool for a few reasons:\n",
    "\n",
    "- The curves of different models can be compared directly in general or for different thresholds.\n",
    "- The area under the curve (AUC) can be used as a summary of the model skill.\n",
    "\n",
    "The shape of the curve contains a lot of information, including what we might care about most for a problem, the expected false positive rate, and the false negative rate.\n",
    "\n",
    "To make this clear:\n",
    "\n",
    "- Smaller values on the x-axis of the plot indicate lower false positives and higher true negatives.\n",
    "- Larger values on the y-axis of the plot indicate higher true positives and lower false negatives.\n",
    "\n",
    "A skilful model will assign a higher probability to a randomly chosen real positive occurrence than a negative occurrence on average. This is what we mean when we say that the model has skill. Generally, skilful models are represented by curves that bow up to the top left of the plot.\n",
    "\n",
    "A no-skill classifier is one that cannot discriminate between the classes and would predict a random class or a constant class in all cases. A model with no skill is represented at the point (0.5, 0.5). A model with no skill at each threshold is represented by a diagonal line from the bottom left of the plot to the top right and has an AUC of 0.5.\n",
    "\n",
    "A model with perfect skill is represented at a point (0,1). A model with perfect skill is represented by a line that travels from the bottom left of the plot to the top left and then across the top to the top right."
   ]
  },
  {
   "cell_type": "code",
   "execution_count": 33,
   "metadata": {},
   "outputs": [],
   "source": [
    "from sklearn.metrics import roc_auc_score\n",
    "from sklearn.metrics import roc_curve"
   ]
  },
  {
   "cell_type": "code",
   "execution_count": 34,
   "metadata": {},
   "outputs": [],
   "source": [
    "predicted_prob = logreg.predict_proba(x_test_scaled)[:, 1]"
   ]
  },
  {
   "cell_type": "code",
   "execution_count": 35,
   "metadata": {},
   "outputs": [],
   "source": [
    "fpr, tpr, thresholds = roc_curve(y_test, predicted_prob)"
   ]
  },
  {
   "cell_type": "code",
   "execution_count": 36,
   "metadata": {},
   "outputs": [
    {
     "data": {
      "image/png": "[encoded data removed]",
      "text/plain": [
       "<Figure size 504x504 with 1 Axes>"
      ]
     },
     "metadata": {
      "needs_background": "light"
     },
     "output_type": "display_data"
    }
   ],
   "source": [
    "plt.figure(figsize=(7, 7))\n",
    "plt.plot(fpr, tpr, label='Logistic Regression')\n",
    "plt.plot([0, 1], [0, 1], 'r--', label='No Skill')\n",
    "plt.xlim([0.0, 1.0])\n",
    "plt.ylim([0.0, 1.05])\n",
    "plt.xlabel('False Positive Rate')\n",
    "plt.ylabel('True Positive Rate')\n",
    "plt.title('Receiver Operating Characteristic')\n",
    "plt.legend(loc='lower right')\n",
    "plt.show()"
   ]
  },
  {
   "cell_type": "code",
   "execution_count": 37,
   "metadata": {},
   "outputs": [],
   "source": [
    "roc_table = pd.DataFrame(data={'fpr': fpr, 'tpr': tpr, 'thresholds': thresholds})"
   ]
  },
  {
   "cell_type": "code",
   "execution_count": 38,
   "metadata": {},
   "outputs": [
    {
     "data": {
      "text/html": [
       "<div>\n",
       "<style scoped>\n",
       "    .dataframe tbody tr th:only-of-type {\n",
       "        vertical-align: middle;\n",
       "    }\n",
       "\n",
       "    .dataframe tbody tr th {\n",
       "        vertical-align: top;\n",
       "    }\n",
       "\n",
       "    .dataframe thead th {\n",
       "        text-align: right;\n",
       "    }\n",
       "</style>\n",
       "<table border=\"1\" class=\"dataframe\">\n",
       "  <thead>\n",
       "    <tr style=\"text-align: right;\">\n",
       "      <th></th>\n",
       "      <th>fpr</th>\n",
       "      <th>tpr</th>\n",
       "      <th>thresholds</th>\n",
       "    </tr>\n",
       "  </thead>\n",
       "  <tbody>\n",
       "    <tr>\n",
       "      <th>0</th>\n",
       "      <td>0.000000</td>\n",
       "      <td>0.000000</td>\n",
       "      <td>1.981939</td>\n",
       "    </tr>\n",
       "    <tr>\n",
       "      <th>1</th>\n",
       "      <td>0.000000</td>\n",
       "      <td>0.023810</td>\n",
       "      <td>0.981939</td>\n",
       "    </tr>\n",
       "    <tr>\n",
       "      <th>2</th>\n",
       "      <td>0.000000</td>\n",
       "      <td>0.071429</td>\n",
       "      <td>0.981189</td>\n",
       "    </tr>\n",
       "    <tr>\n",
       "      <th>3</th>\n",
       "      <td>0.017241</td>\n",
       "      <td>0.071429</td>\n",
       "      <td>0.978208</td>\n",
       "    </tr>\n",
       "    <tr>\n",
       "      <th>4</th>\n",
       "      <td>0.017241</td>\n",
       "      <td>0.214286</td>\n",
       "      <td>0.896087</td>\n",
       "    </tr>\n",
       "    <tr>\n",
       "      <th>5</th>\n",
       "      <td>0.034483</td>\n",
       "      <td>0.214286</td>\n",
       "      <td>0.870445</td>\n",
       "    </tr>\n",
       "    <tr>\n",
       "      <th>6</th>\n",
       "      <td>0.034483</td>\n",
       "      <td>0.357143</td>\n",
       "      <td>0.766944</td>\n",
       "    </tr>\n",
       "    <tr>\n",
       "      <th>7</th>\n",
       "      <td>0.051724</td>\n",
       "      <td>0.357143</td>\n",
       "      <td>0.757325</td>\n",
       "    </tr>\n",
       "    <tr>\n",
       "      <th>8</th>\n",
       "      <td>0.051724</td>\n",
       "      <td>0.404762</td>\n",
       "      <td>0.747386</td>\n",
       "    </tr>\n",
       "    <tr>\n",
       "      <th>9</th>\n",
       "      <td>0.051724</td>\n",
       "      <td>0.452381</td>\n",
       "      <td>0.736839</td>\n",
       "    </tr>\n",
       "    <tr>\n",
       "      <th>10</th>\n",
       "      <td>0.068966</td>\n",
       "      <td>0.452381</td>\n",
       "      <td>0.733205</td>\n",
       "    </tr>\n",
       "    <tr>\n",
       "      <th>11</th>\n",
       "      <td>0.068966</td>\n",
       "      <td>0.714286</td>\n",
       "      <td>0.557853</td>\n",
       "    </tr>\n",
       "    <tr>\n",
       "      <th>12</th>\n",
       "      <td>0.086207</td>\n",
       "      <td>0.714286</td>\n",
       "      <td>0.552671</td>\n",
       "    </tr>\n",
       "    <tr>\n",
       "      <th>13</th>\n",
       "      <td>0.103448</td>\n",
       "      <td>0.738095</td>\n",
       "      <td>0.525146</td>\n",
       "    </tr>\n",
       "    <tr>\n",
       "      <th>14</th>\n",
       "      <td>0.120690</td>\n",
       "      <td>0.738095</td>\n",
       "      <td>0.513063</td>\n",
       "    </tr>\n",
       "    <tr>\n",
       "      <th>15</th>\n",
       "      <td>0.120690</td>\n",
       "      <td>0.833333</td>\n",
       "      <td>0.445133</td>\n",
       "    </tr>\n",
       "    <tr>\n",
       "      <th>16</th>\n",
       "      <td>0.155172</td>\n",
       "      <td>0.833333</td>\n",
       "      <td>0.412864</td>\n",
       "    </tr>\n",
       "    <tr>\n",
       "      <th>17</th>\n",
       "      <td>0.172414</td>\n",
       "      <td>0.833333</td>\n",
       "      <td>0.362462</td>\n",
       "    </tr>\n",
       "    <tr>\n",
       "      <th>18</th>\n",
       "      <td>0.172414</td>\n",
       "      <td>0.880952</td>\n",
       "      <td>0.349696</td>\n",
       "    </tr>\n",
       "    <tr>\n",
       "      <th>19</th>\n",
       "      <td>0.224138</td>\n",
       "      <td>0.880952</td>\n",
       "      <td>0.320920</td>\n",
       "    </tr>\n",
       "    <tr>\n",
       "      <th>20</th>\n",
       "      <td>0.224138</td>\n",
       "      <td>0.904762</td>\n",
       "      <td>0.310403</td>\n",
       "    </tr>\n",
       "    <tr>\n",
       "      <th>21</th>\n",
       "      <td>0.275862</td>\n",
       "      <td>0.904762</td>\n",
       "      <td>0.276458</td>\n",
       "    </tr>\n",
       "    <tr>\n",
       "      <th>22</th>\n",
       "      <td>0.275862</td>\n",
       "      <td>0.928571</td>\n",
       "      <td>0.270491</td>\n",
       "    </tr>\n",
       "    <tr>\n",
       "      <th>23</th>\n",
       "      <td>0.327586</td>\n",
       "      <td>0.928571</td>\n",
       "      <td>0.237278</td>\n",
       "    </tr>\n",
       "    <tr>\n",
       "      <th>24</th>\n",
       "      <td>0.327586</td>\n",
       "      <td>0.952381</td>\n",
       "      <td>0.220558</td>\n",
       "    </tr>\n",
       "    <tr>\n",
       "      <th>25</th>\n",
       "      <td>0.362069</td>\n",
       "      <td>0.952381</td>\n",
       "      <td>0.195094</td>\n",
       "    </tr>\n",
       "    <tr>\n",
       "      <th>26</th>\n",
       "      <td>0.362069</td>\n",
       "      <td>0.976190</td>\n",
       "      <td>0.170269</td>\n",
       "    </tr>\n",
       "    <tr>\n",
       "      <th>27</th>\n",
       "      <td>0.379310</td>\n",
       "      <td>0.976190</td>\n",
       "      <td>0.165140</td>\n",
       "    </tr>\n",
       "    <tr>\n",
       "      <th>28</th>\n",
       "      <td>0.379310</td>\n",
       "      <td>1.000000</td>\n",
       "      <td>0.162584</td>\n",
       "    </tr>\n",
       "    <tr>\n",
       "      <th>29</th>\n",
       "      <td>0.620690</td>\n",
       "      <td>1.000000</td>\n",
       "      <td>0.065221</td>\n",
       "    </tr>\n",
       "    <tr>\n",
       "      <th>30</th>\n",
       "      <td>0.655172</td>\n",
       "      <td>1.000000</td>\n",
       "      <td>0.062331</td>\n",
       "    </tr>\n",
       "    <tr>\n",
       "      <th>31</th>\n",
       "      <td>1.000000</td>\n",
       "      <td>1.000000</td>\n",
       "      <td>0.001643</td>\n",
       "    </tr>\n",
       "  </tbody>\n",
       "</table>\n",
       "</div>"
      ],
      "text/plain": [
       "         fpr       tpr  thresholds\n",
       "0   0.000000  0.000000    1.981939\n",
       "1   0.000000  0.023810    0.981939\n",
       "2   0.000000  0.071429    0.981189\n",
       "3   0.017241  0.071429    0.978208\n",
       "4   0.017241  0.214286    0.896087\n",
       "5   0.034483  0.214286    0.870445\n",
       "6   0.034483  0.357143    0.766944\n",
       "7   0.051724  0.357143    0.757325\n",
       "8   0.051724  0.404762    0.747386\n",
       "9   0.051724  0.452381    0.736839\n",
       "10  0.068966  0.452381    0.733205\n",
       "11  0.068966  0.714286    0.557853\n",
       "12  0.086207  0.714286    0.552671\n",
       "13  0.103448  0.738095    0.525146\n",
       "14  0.120690  0.738095    0.513063\n",
       "15  0.120690  0.833333    0.445133\n",
       "16  0.155172  0.833333    0.412864\n",
       "17  0.172414  0.833333    0.362462\n",
       "18  0.172414  0.880952    0.349696\n",
       "19  0.224138  0.880952    0.320920\n",
       "20  0.224138  0.904762    0.310403\n",
       "21  0.275862  0.904762    0.276458\n",
       "22  0.275862  0.928571    0.270491\n",
       "23  0.327586  0.928571    0.237278\n",
       "24  0.327586  0.952381    0.220558\n",
       "25  0.362069  0.952381    0.195094\n",
       "26  0.362069  0.976190    0.170269\n",
       "27  0.379310  0.976190    0.165140\n",
       "28  0.379310  1.000000    0.162584\n",
       "29  0.620690  1.000000    0.065221\n",
       "30  0.655172  1.000000    0.062331\n",
       "31  1.000000  1.000000    0.001643"
      ]
     },
     "execution_count": 38,
     "metadata": {},
     "output_type": "execute_result"
    }
   ],
   "source": [
    "roc_table"
   ]
  },
  {
   "cell_type": "markdown",
   "metadata": {},
   "source": [
    "### Area Under Curve (AUC)\n",
    "\n",
    "__AUC__ stands for \"Area under the ROC Curve.\" That is, AUC measures the entire two-dimensional area underneath the entire ROC curve (think integral calculus) from (0,0) to (1,1).\n",
    "\n",
    "AUC ranges in value from 0 to 1. Higher the AUC, better the model is at predicting 0s as 0s and 1s as 1s. By analogy, Higher the AUC, better the model is at distinguishing between patients with disease and no disease. An excellent model has AUC near to the 1 which means it has good measure of separability (distinguishing between classes). A poor model has AUC near to the 0 which means it has worst measure of separability. In fact it means it is reciprocating the result. It is predicting 0s as 1s and 1s as 0s. And when AUC is 0.5, it means model has no class separation capacity whatsoever.\n",
    "\n",
    "<img src=\"images/roc-auc-curve.png\" width=300></img>"
   ]
  },
  {
   "cell_type": "markdown",
   "metadata": {},
   "source": [
    "#### Probability Distributions\n",
    "\n",
    "Once classification of observations in the test data has been done, we can create probability distributions for each class and plot them."
   ]
  },
  {
   "cell_type": "code",
   "execution_count": 39,
   "metadata": {},
   "outputs": [
    {
     "data": {
      "text/html": [
       "<div>\n",
       "<style scoped>\n",
       "    .dataframe tbody tr th:only-of-type {\n",
       "        vertical-align: middle;\n",
       "    }\n",
       "\n",
       "    .dataframe tbody tr th {\n",
       "        vertical-align: top;\n",
       "    }\n",
       "\n",
       "    .dataframe thead th {\n",
       "        text-align: right;\n",
       "    }\n",
       "</style>\n",
       "<table border=\"1\" class=\"dataframe\">\n",
       "  <thead>\n",
       "    <tr style=\"text-align: right;\">\n",
       "      <th></th>\n",
       "      <th>Age</th>\n",
       "      <th>EstimatedSalary</th>\n",
       "      <th>Purchased</th>\n",
       "      <th>Probs</th>\n",
       "    </tr>\n",
       "  </thead>\n",
       "  <tbody>\n",
       "    <tr>\n",
       "      <th>280</th>\n",
       "      <td>59</td>\n",
       "      <td>88000</td>\n",
       "      <td>1</td>\n",
       "      <td>0.981189</td>\n",
       "    </tr>\n",
       "    <tr>\n",
       "      <th>307</th>\n",
       "      <td>47</td>\n",
       "      <td>113000</td>\n",
       "      <td>1</td>\n",
       "      <td>0.896087</td>\n",
       "    </tr>\n",
       "    <tr>\n",
       "      <th>301</th>\n",
       "      <td>48</td>\n",
       "      <td>74000</td>\n",
       "      <td>1</td>\n",
       "      <td>0.767777</td>\n",
       "    </tr>\n",
       "    <tr>\n",
       "      <th>196</th>\n",
       "      <td>30</td>\n",
       "      <td>79000</td>\n",
       "      <td>0</td>\n",
       "      <td>0.077271</td>\n",
       "    </tr>\n",
       "    <tr>\n",
       "      <th>191</th>\n",
       "      <td>19</td>\n",
       "      <td>26000</td>\n",
       "      <td>0</td>\n",
       "      <td>0.001643</td>\n",
       "    </tr>\n",
       "  </tbody>\n",
       "</table>\n",
       "</div>"
      ],
      "text/plain": [
       "     Age  EstimatedSalary  Purchased     Probs\n",
       "280   59            88000          1  0.981189\n",
       "307   47           113000          1  0.896087\n",
       "301   48            74000          1  0.767777\n",
       "196   30            79000          0  0.077271\n",
       "191   19            26000          0  0.001643"
      ]
     },
     "execution_count": 39,
     "metadata": {},
     "output_type": "execute_result"
    }
   ],
   "source": [
    "results = x_test.join(y_test).join(pd.Series(predicted_prob, index=x_test.index, name='Probs'))\n",
    "results.head()"
   ]
  },
  {
   "cell_type": "code",
   "execution_count": 40,
   "metadata": {},
   "outputs": [
    {
     "data": {
      "text/plain": [
       "Purchased  Match\n",
       "0          False     7\n",
       "           True     51\n",
       "1          False    10\n",
       "           True     32\n",
       "Name: Purchased, dtype: int64"
      ]
     },
     "execution_count": 40,
     "metadata": {},
     "output_type": "execute_result"
    }
   ],
   "source": [
    "results['Match'] = results.apply(lambda x: x['Purchased'] == np.round(x['Probs']), axis=1)\n",
    "results.groupby(['Purchased', 'Match'])['Purchased'].count()"
   ]
  },
  {
   "cell_type": "code",
   "execution_count": 41,
   "metadata": {},
   "outputs": [
    {
     "data": {
      "text/plain": [
       "<matplotlib.legend.Legend at 0x22458ab0908>"
      ]
     },
     "execution_count": 41,
     "metadata": {},
     "output_type": "execute_result"
    },
    {
     "data": {
      "image/png": "[encoded data removed]",
      "text/plain": [
       "<Figure size 576x432 with 1 Axes>"
      ]
     },
     "metadata": {
      "needs_background": "light"
     },
     "output_type": "display_data"
    }
   ],
   "source": [
    "plt.figure(figsize=(8, 6))\n",
    "plt.title('Probability Distribution', size=24)\n",
    "results[results['Purchased'] == 1]['Probs'].hist(\n",
    "    color='green', alpha=0.5, label='Purchased', bins=10)\n",
    "results[results['Purchased'] == 0]['Probs'].hist(\n",
    "    color='red', alpha=0.5, label='Not Purchased', bins=10)\n",
    "plt.xlim(0, 1)\n",
    "plt.vlines(0.5, 0, 40, label='Threshold')\n",
    "plt.legend()"
   ]
  },
  {
   "cell_type": "markdown",
   "metadata": {},
   "source": [
    "Red distribution represents all users who did not make a purchase and the green distribution represents all users who made a purchase. Black vertical line represents threshold, 0.5. If predicted probability is above threshold and the user did make a purchase, it will be __True Positive__, otherwise __False Positive__. If predicted probability is below threshold and the user did not make a purchase, it will be __True Negative__, otherwise __False Negative__. \n",
    "\n",
    "We see that our model made a few __False Positive__ predictions (red columns on the right of the threshold) and many __False Negative__ predictions (green columns on the left of the threshold).\n",
    "\n",
    "In a perfect scenario we would like to have distributions that don't overlap because that would yield no False Positives and False Negatives, and AUC would be 1.\n",
    "\n",
    "Below are a few examples of different distributions, ROC curve and AUC.\n",
    "\n",
    "<img src=\"images/various-roc-auc-1.png\" width=400></img>\n",
    "\n",
    "When distributions overlap, we introduc Type I and Type II error. Depending on the threshold, we can minimize or maximize them. When AUC is 0.8, it means there is 80% chance that model will be able distinguish between positive class and negative class.\n",
    "\n",
    "<img src=\"images/various-roc-auc-2.png\" width=400></img>\n",
    "\n",
    "In the last model, predictions are completely overlapping each other and we get the AUC score of 0.5. This is the worst situation, and it means that model has no discrimination capacity to distinguish between positive class and negative class and classification is done randomly.\n",
    "\n",
    "And finally, when AUC is approximately 0, model is actually reciprocating the classes. It means, model is predicting negative class as a positive class and vice versa."
   ]
  },
  {
   "cell_type": "code",
   "execution_count": 42,
   "metadata": {},
   "outputs": [],
   "source": [
    "from sklearn.metrics import auc"
   ]
  },
  {
   "cell_type": "code",
   "execution_count": 43,
   "metadata": {},
   "outputs": [
    {
     "data": {
      "text/plain": [
       "0.910303776683087"
      ]
     },
     "execution_count": 43,
     "metadata": {},
     "output_type": "execute_result"
    }
   ],
   "source": [
    "auc(fpr, tpr)"
   ]
  },
  {
   "cell_type": "code",
   "execution_count": null,
   "metadata": {},
   "outputs": [],
   "source": []
  }
 ],
 "metadata": {
  "kernelspec": {
   "display_name": "Python 3",
   "language": "python",
   "name": "python3"
  },
  "language_info": {
   "codemirror_mode": {
    "name": "ipython",
    "version": 3
   },
   "file_extension": ".py",
   "mimetype": "text/x-python",
   "name": "python",
   "nbconvert_exporter": "python",
   "pygments_lexer": "ipython3",
   "version": "3.7.4"
  },
  "widgets": {
   "application/vnd.jupyter.widget-state+json": {
    "state": {},
    "version_major": 2,
    "version_minor": 0
   }
  }
 },
 "nbformat": 4,
 "nbformat_minor": 4
}
