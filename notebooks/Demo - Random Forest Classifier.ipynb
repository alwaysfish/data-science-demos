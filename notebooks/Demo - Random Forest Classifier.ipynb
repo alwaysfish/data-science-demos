{
 "cells": [
  {
   "cell_type": "code",
   "execution_count": 1,
   "metadata": {},
   "outputs": [],
   "source": [
    "import pandas as pd\n",
    "import numpy as np\n",
    "import matplotlib.pyplot as plt\n",
    "import seaborn as sns\n",
    "from sklearn.ensemble import RandomForestClassifier"
   ]
  },
  {
   "cell_type": "code",
   "execution_count": 2,
   "metadata": {},
   "outputs": [],
   "source": [
    "data = pd.read_csv('./demo-datasets/social_network_ads.csv')"
   ]
  },
  {
   "cell_type": "code",
   "execution_count": 3,
   "metadata": {},
   "outputs": [
    {
     "data": {
      "text/html": [
       "<div>\n",
       "<style scoped>\n",
       "    .dataframe tbody tr th:only-of-type {\n",
       "        vertical-align: middle;\n",
       "    }\n",
       "\n",
       "    .dataframe tbody tr th {\n",
       "        vertical-align: top;\n",
       "    }\n",
       "\n",
       "    .dataframe thead th {\n",
       "        text-align: right;\n",
       "    }\n",
       "</style>\n",
       "<table border=\"1\" class=\"dataframe\">\n",
       "  <thead>\n",
       "    <tr style=\"text-align: right;\">\n",
       "      <th></th>\n",
       "      <th>User ID</th>\n",
       "      <th>Gender</th>\n",
       "      <th>Age</th>\n",
       "      <th>EstimatedSalary</th>\n",
       "      <th>Purchased</th>\n",
       "    </tr>\n",
       "  </thead>\n",
       "  <tbody>\n",
       "    <tr>\n",
       "      <th>0</th>\n",
       "      <td>15624510</td>\n",
       "      <td>Male</td>\n",
       "      <td>19</td>\n",
       "      <td>19000</td>\n",
       "      <td>0</td>\n",
       "    </tr>\n",
       "    <tr>\n",
       "      <th>1</th>\n",
       "      <td>15810944</td>\n",
       "      <td>Male</td>\n",
       "      <td>35</td>\n",
       "      <td>20000</td>\n",
       "      <td>0</td>\n",
       "    </tr>\n",
       "    <tr>\n",
       "      <th>2</th>\n",
       "      <td>15668575</td>\n",
       "      <td>Female</td>\n",
       "      <td>26</td>\n",
       "      <td>43000</td>\n",
       "      <td>0</td>\n",
       "    </tr>\n",
       "    <tr>\n",
       "      <th>3</th>\n",
       "      <td>15603246</td>\n",
       "      <td>Female</td>\n",
       "      <td>27</td>\n",
       "      <td>57000</td>\n",
       "      <td>0</td>\n",
       "    </tr>\n",
       "    <tr>\n",
       "      <th>4</th>\n",
       "      <td>15804002</td>\n",
       "      <td>Male</td>\n",
       "      <td>19</td>\n",
       "      <td>76000</td>\n",
       "      <td>0</td>\n",
       "    </tr>\n",
       "  </tbody>\n",
       "</table>\n",
       "</div>"
      ],
      "text/plain": [
       "    User ID  Gender  Age  EstimatedSalary  Purchased\n",
       "0  15624510    Male   19            19000          0\n",
       "1  15810944    Male   35            20000          0\n",
       "2  15668575  Female   26            43000          0\n",
       "3  15603246  Female   27            57000          0\n",
       "4  15804002    Male   19            76000          0"
      ]
     },
     "execution_count": 3,
     "metadata": {},
     "output_type": "execute_result"
    }
   ],
   "source": [
    "data.head()"
   ]
  },
  {
   "cell_type": "code",
   "execution_count": 4,
   "metadata": {},
   "outputs": [],
   "source": [
    "x = data[['Gender', 'Age', 'EstimatedSalary']]"
   ]
  },
  {
   "cell_type": "code",
   "execution_count": 5,
   "metadata": {},
   "outputs": [],
   "source": [
    "y = data['Purchased']"
   ]
  },
  {
   "cell_type": "code",
   "execution_count": 6,
   "metadata": {},
   "outputs": [
    {
     "data": {
      "text/html": [
       "<div>\n",
       "<style scoped>\n",
       "    .dataframe tbody tr th:only-of-type {\n",
       "        vertical-align: middle;\n",
       "    }\n",
       "\n",
       "    .dataframe tbody tr th {\n",
       "        vertical-align: top;\n",
       "    }\n",
       "\n",
       "    .dataframe thead th {\n",
       "        text-align: right;\n",
       "    }\n",
       "</style>\n",
       "<table border=\"1\" class=\"dataframe\">\n",
       "  <thead>\n",
       "    <tr style=\"text-align: right;\">\n",
       "      <th></th>\n",
       "      <th>Gender</th>\n",
       "      <th>Age</th>\n",
       "      <th>EstimatedSalary</th>\n",
       "    </tr>\n",
       "  </thead>\n",
       "  <tbody>\n",
       "    <tr>\n",
       "      <th>0</th>\n",
       "      <td>Male</td>\n",
       "      <td>19</td>\n",
       "      <td>19000</td>\n",
       "    </tr>\n",
       "    <tr>\n",
       "      <th>1</th>\n",
       "      <td>Male</td>\n",
       "      <td>35</td>\n",
       "      <td>20000</td>\n",
       "    </tr>\n",
       "    <tr>\n",
       "      <th>2</th>\n",
       "      <td>Female</td>\n",
       "      <td>26</td>\n",
       "      <td>43000</td>\n",
       "    </tr>\n",
       "    <tr>\n",
       "      <th>3</th>\n",
       "      <td>Female</td>\n",
       "      <td>27</td>\n",
       "      <td>57000</td>\n",
       "    </tr>\n",
       "    <tr>\n",
       "      <th>4</th>\n",
       "      <td>Male</td>\n",
       "      <td>19</td>\n",
       "      <td>76000</td>\n",
       "    </tr>\n",
       "  </tbody>\n",
       "</table>\n",
       "</div>"
      ],
      "text/plain": [
       "   Gender  Age  EstimatedSalary\n",
       "0    Male   19            19000\n",
       "1    Male   35            20000\n",
       "2  Female   26            43000\n",
       "3  Female   27            57000\n",
       "4    Male   19            76000"
      ]
     },
     "execution_count": 6,
     "metadata": {},
     "output_type": "execute_result"
    }
   ],
   "source": [
    "x.head()"
   ]
  },
  {
   "cell_type": "code",
   "execution_count": 7,
   "metadata": {},
   "outputs": [],
   "source": [
    "x = pd.get_dummies(x, columns=['Gender'], drop_first=True)"
   ]
  },
  {
   "cell_type": "code",
   "execution_count": 8,
   "metadata": {},
   "outputs": [
    {
     "data": {
      "text/html": [
       "<div>\n",
       "<style scoped>\n",
       "    .dataframe tbody tr th:only-of-type {\n",
       "        vertical-align: middle;\n",
       "    }\n",
       "\n",
       "    .dataframe tbody tr th {\n",
       "        vertical-align: top;\n",
       "    }\n",
       "\n",
       "    .dataframe thead th {\n",
       "        text-align: right;\n",
       "    }\n",
       "</style>\n",
       "<table border=\"1\" class=\"dataframe\">\n",
       "  <thead>\n",
       "    <tr style=\"text-align: right;\">\n",
       "      <th></th>\n",
       "      <th>Age</th>\n",
       "      <th>EstimatedSalary</th>\n",
       "      <th>Gender_Male</th>\n",
       "    </tr>\n",
       "  </thead>\n",
       "  <tbody>\n",
       "    <tr>\n",
       "      <th>0</th>\n",
       "      <td>19</td>\n",
       "      <td>19000</td>\n",
       "      <td>1</td>\n",
       "    </tr>\n",
       "    <tr>\n",
       "      <th>1</th>\n",
       "      <td>35</td>\n",
       "      <td>20000</td>\n",
       "      <td>1</td>\n",
       "    </tr>\n",
       "  </tbody>\n",
       "</table>\n",
       "</div>"
      ],
      "text/plain": [
       "   Age  EstimatedSalary  Gender_Male\n",
       "0   19            19000            1\n",
       "1   35            20000            1"
      ]
     },
     "execution_count": 8,
     "metadata": {},
     "output_type": "execute_result"
    }
   ],
   "source": [
    "x.head(2)"
   ]
  },
  {
   "cell_type": "code",
   "execution_count": 9,
   "metadata": {},
   "outputs": [],
   "source": [
    "from sklearn.model_selection import train_test_split\n",
    "import sklearn.metrics as metrics"
   ]
  },
  {
   "cell_type": "code",
   "execution_count": 10,
   "metadata": {},
   "outputs": [],
   "source": [
    "x_train, x_test, y_train, y_test = train_test_split(x, y)"
   ]
  },
  {
   "cell_type": "code",
   "execution_count": 11,
   "metadata": {},
   "outputs": [],
   "source": [
    "forest = RandomForestClassifier(max_depth=2)"
   ]
  },
  {
   "cell_type": "code",
   "execution_count": 12,
   "metadata": {},
   "outputs": [
    {
     "name": "stderr",
     "output_type": "stream",
     "text": [
      "c:\\users\\ernest.daraska\\appdata\\local\\programs\\python\\python37\\lib\\site-packages\\sklearn\\ensemble\\forest.py:245: FutureWarning: The default value of n_estimators will change from 10 in version 0.20 to 100 in 0.22.\n",
      "  \"10 in version 0.20 to 100 in 0.22.\", FutureWarning)\n"
     ]
    },
    {
     "data": {
      "text/plain": [
       "RandomForestClassifier(bootstrap=True, class_weight=None, criterion='gini',\n",
       "                       max_depth=2, max_features='auto', max_leaf_nodes=None,\n",
       "                       min_impurity_decrease=0.0, min_impurity_split=None,\n",
       "                       min_samples_leaf=1, min_samples_split=2,\n",
       "                       min_weight_fraction_leaf=0.0, n_estimators=10,\n",
       "                       n_jobs=None, oob_score=False, random_state=None,\n",
       "                       verbose=0, warm_start=False)"
      ]
     },
     "execution_count": 12,
     "metadata": {},
     "output_type": "execute_result"
    }
   ],
   "source": [
    "forest.fit(x_train, y_train)"
   ]
  },
  {
   "cell_type": "code",
   "execution_count": 13,
   "metadata": {},
   "outputs": [],
   "source": [
    "y_predict = forest.predict(x_test)"
   ]
  },
  {
   "cell_type": "code",
   "execution_count": 14,
   "metadata": {},
   "outputs": [
    {
     "data": {
      "text/plain": [
       "array([[54, 13],\n",
       "       [ 4, 29]], dtype=int64)"
      ]
     },
     "execution_count": 14,
     "metadata": {},
     "output_type": "execute_result"
    }
   ],
   "source": [
    "metrics.confusion_matrix(y_test, y_predict)"
   ]
  },
  {
   "cell_type": "code",
   "execution_count": 15,
   "metadata": {},
   "outputs": [
    {
     "data": {
      "text/plain": [
       "0.83"
      ]
     },
     "execution_count": 15,
     "metadata": {},
     "output_type": "execute_result"
    }
   ],
   "source": [
    "metrics.accuracy_score(y_test, y_predict)"
   ]
  },
  {
   "cell_type": "markdown",
   "metadata": {},
   "source": [
    "### Feature Importance"
   ]
  },
  {
   "cell_type": "code",
   "execution_count": 16,
   "metadata": {},
   "outputs": [],
   "source": [
    "f_importance = pd.Series(forest.feature_importances_, x.columns)"
   ]
  },
  {
   "cell_type": "code",
   "execution_count": 17,
   "metadata": {},
   "outputs": [
    {
     "data": {
      "text/plain": [
       "<matplotlib.axes._subplots.AxesSubplot at 0x19c7c9c81c8>"
      ]
     },
     "execution_count": 17,
     "metadata": {},
     "output_type": "execute_result"
    },
    {
     "data": {
      "image/png": "[encoded data removed]",
      "text/plain": [
       "<Figure size 432x288 with 1 Axes>"
      ]
     },
     "metadata": {
      "needs_background": "light"
     },
     "output_type": "display_data"
    }
   ],
   "source": [
    "sns.barplot(x.columns, f_importance)"
   ]
  },
  {
   "cell_type": "code",
   "execution_count": 19,
   "metadata": {},
   "outputs": [],
   "source": [
    "import graphviz as gv\n",
    "from sklearn.tree import export_graphviz"
   ]
  },
  {
   "cell_type": "code",
   "execution_count": 21,
   "metadata": {},
   "outputs": [
    {
     "data": {
      "image/svg+xml": [
       "<?xml version=\"1.0\" encoding=\"UTF-8\" standalone=\"no\"?>\r\n",
       "<!DOCTYPE svg PUBLIC \"-//W3C//DTD SVG 1.1//EN\"\r\n",
       " \"http://www.w3.org/Graphics/SVG/1.1/DTD/svg11.dtd\">\r\n",
       "<!-- Generated by graphviz version 2.38.0 (20140413.2041)\r\n",
       " -->\r\n",
       "<!-- Title: Tree Pages: 1 -->\r\n",
       "<svg width=\"649pt\" height=\"314pt\"\r\n",
       " viewBox=\"0.00 0.00 648.50 314.00\" xmlns=\"http://www.w3.org/2000/svg\" xmlns:xlink=\"http://www.w3.org/1999/xlink\">\r\n",
       "<g id=\"graph0\" class=\"graph\" transform=\"scale(1 1) rotate(0) translate(4 310)\">\r\n",
       "<title>Tree</title>\r\n",
       "<polygon fill=\"white\" stroke=\"none\" points=\"-4,4 -4,-310 644.5,-310 644.5,4 -4,4\"/>\r\n",
       "<!-- 0 -->\r\n",
       "<g id=\"node1\" class=\"node\"><title>0</title>\r\n",
       "<path fill=\"#f3c6a5\" stroke=\"black\" d=\"M406,-306C406,-306 271,-306 271,-306 265,-306 259,-300 259,-294 259,-294 259,-235 259,-235 259,-229 265,-223 271,-223 271,-223 406,-223 406,-223 412,-223 418,-229 418,-235 418,-235 418,-294 418,-294 418,-300 412,-306 406,-306\"/>\r\n",
       "<text text-anchor=\"middle\" x=\"338.5\" y=\"-290.8\" font-family=\"Helvetica,sans-Serif\" font-size=\"14.00\">Age &lt;= 41.5</text>\r\n",
       "<text text-anchor=\"middle\" x=\"338.5\" y=\"-275.8\" font-family=\"Helvetica,sans-Serif\" font-size=\"14.00\">gini = 0.457</text>\r\n",
       "<text text-anchor=\"middle\" x=\"338.5\" y=\"-260.8\" font-family=\"Helvetica,sans-Serif\" font-size=\"14.00\">samples = 185</text>\r\n",
       "<text text-anchor=\"middle\" x=\"338.5\" y=\"-245.8\" font-family=\"Helvetica,sans-Serif\" font-size=\"14.00\">value = [194, 106]</text>\r\n",
       "<text text-anchor=\"middle\" x=\"338.5\" y=\"-230.8\" font-family=\"Helvetica,sans-Serif\" font-size=\"14.00\">class = Not Purchased</text>\r\n",
       "</g>\r\n",
       "<!-- 1 -->\r\n",
       "<g id=\"node2\" class=\"node\"><title>1</title>\r\n",
       "<path fill=\"#e99558\" stroke=\"black\" d=\"M324,-187C324,-187 189,-187 189,-187 183,-187 177,-181 177,-175 177,-175 177,-116 177,-116 177,-110 183,-104 189,-104 189,-104 324,-104 324,-104 330,-104 336,-110 336,-116 336,-116 336,-175 336,-175 336,-181 330,-187 324,-187\"/>\r\n",
       "<text text-anchor=\"middle\" x=\"256.5\" y=\"-171.8\" font-family=\"Helvetica,sans-Serif\" font-size=\"14.00\">Age &lt;= 26.5</text>\r\n",
       "<text text-anchor=\"middle\" x=\"256.5\" y=\"-156.8\" font-family=\"Helvetica,sans-Serif\" font-size=\"14.00\">gini = 0.234</text>\r\n",
       "<text text-anchor=\"middle\" x=\"256.5\" y=\"-141.8\" font-family=\"Helvetica,sans-Serif\" font-size=\"14.00\">samples = 129</text>\r\n",
       "<text text-anchor=\"middle\" x=\"256.5\" y=\"-126.8\" font-family=\"Helvetica,sans-Serif\" font-size=\"14.00\">value = [185, 29]</text>\r\n",
       "<text text-anchor=\"middle\" x=\"256.5\" y=\"-111.8\" font-family=\"Helvetica,sans-Serif\" font-size=\"14.00\">class = Not Purchased</text>\r\n",
       "</g>\r\n",
       "<!-- 0&#45;&gt;1 -->\r\n",
       "<g id=\"edge1\" class=\"edge\"><title>0&#45;&gt;1</title>\r\n",
       "<path fill=\"none\" stroke=\"black\" d=\"M310.051,-222.907C303.817,-214.014 297.156,-204.509 290.723,-195.331\"/>\r\n",
       "<polygon fill=\"black\" stroke=\"black\" points=\"293.505,-193.201 284.899,-187.021 287.772,-197.219 293.505,-193.201\"/>\r\n",
       "<text text-anchor=\"middle\" x=\"280.569\" y=\"-207.943\" font-family=\"Helvetica,sans-Serif\" font-size=\"14.00\">True</text>\r\n",
       "</g>\r\n",
       "<!-- 4 -->\r\n",
       "<g id=\"node5\" class=\"node\"><title>4</title>\r\n",
       "<path fill=\"#50a8e8\" stroke=\"black\" d=\"M476.5,-187C476.5,-187 366.5,-187 366.5,-187 360.5,-187 354.5,-181 354.5,-175 354.5,-175 354.5,-116 354.5,-116 354.5,-110 360.5,-104 366.5,-104 366.5,-104 476.5,-104 476.5,-104 482.5,-104 488.5,-110 488.5,-116 488.5,-116 488.5,-175 488.5,-175 488.5,-181 482.5,-187 476.5,-187\"/>\r\n",
       "<text text-anchor=\"middle\" x=\"421.5\" y=\"-171.8\" font-family=\"Helvetica,sans-Serif\" font-size=\"14.00\">Age &lt;= 42.5</text>\r\n",
       "<text text-anchor=\"middle\" x=\"421.5\" y=\"-156.8\" font-family=\"Helvetica,sans-Serif\" font-size=\"14.00\">gini = 0.187</text>\r\n",
       "<text text-anchor=\"middle\" x=\"421.5\" y=\"-141.8\" font-family=\"Helvetica,sans-Serif\" font-size=\"14.00\">samples = 56</text>\r\n",
       "<text text-anchor=\"middle\" x=\"421.5\" y=\"-126.8\" font-family=\"Helvetica,sans-Serif\" font-size=\"14.00\">value = [9, 77]</text>\r\n",
       "<text text-anchor=\"middle\" x=\"421.5\" y=\"-111.8\" font-family=\"Helvetica,sans-Serif\" font-size=\"14.00\">class = Purchased</text>\r\n",
       "</g>\r\n",
       "<!-- 0&#45;&gt;4 -->\r\n",
       "<g id=\"edge4\" class=\"edge\"><title>0&#45;&gt;4</title>\r\n",
       "<path fill=\"none\" stroke=\"black\" d=\"M367.296,-222.907C373.606,-214.014 380.348,-204.509 386.859,-195.331\"/>\r\n",
       "<polygon fill=\"black\" stroke=\"black\" points=\"389.823,-197.202 392.754,-187.021 384.114,-193.152 389.823,-197.202\"/>\r\n",
       "<text text-anchor=\"middle\" x=\"396.944\" y=\"-207.967\" font-family=\"Helvetica,sans-Serif\" font-size=\"14.00\">False</text>\r\n",
       "</g>\r\n",
       "<!-- 2 -->\r\n",
       "<g id=\"node3\" class=\"node\"><title>2</title>\r\n",
       "<path fill=\"#e58139\" stroke=\"black\" d=\"M147,-68C147,-68 12,-68 12,-68 6,-68 0,-62 0,-56 0,-56 0,-12 0,-12 0,-6 6,-0 12,-0 12,-0 147,-0 147,-0 153,-0 159,-6 159,-12 159,-12 159,-56 159,-56 159,-62 153,-68 147,-68\"/>\r\n",
       "<text text-anchor=\"middle\" x=\"79.5\" y=\"-52.8\" font-family=\"Helvetica,sans-Serif\" font-size=\"14.00\">gini = 0.0</text>\r\n",
       "<text text-anchor=\"middle\" x=\"79.5\" y=\"-37.8\" font-family=\"Helvetica,sans-Serif\" font-size=\"14.00\">samples = 31</text>\r\n",
       "<text text-anchor=\"middle\" x=\"79.5\" y=\"-22.8\" font-family=\"Helvetica,sans-Serif\" font-size=\"14.00\">value = [55, 0]</text>\r\n",
       "<text text-anchor=\"middle\" x=\"79.5\" y=\"-7.8\" font-family=\"Helvetica,sans-Serif\" font-size=\"14.00\">class = Not Purchased</text>\r\n",
       "</g>\r\n",
       "<!-- 1&#45;&gt;2 -->\r\n",
       "<g id=\"edge2\" class=\"edge\"><title>1&#45;&gt;2</title>\r\n",
       "<path fill=\"none\" stroke=\"black\" d=\"M190.843,-103.882C174.739,-93.9191 157.552,-83.2862 141.62,-73.4299\"/>\r\n",
       "<polygon fill=\"black\" stroke=\"black\" points=\"143.258,-70.328 132.912,-68.0433 139.575,-76.2809 143.258,-70.328\"/>\r\n",
       "</g>\r\n",
       "<!-- 3 -->\r\n",
       "<g id=\"node4\" class=\"node\"><title>3</title>\r\n",
       "<path fill=\"#eb9d65\" stroke=\"black\" d=\"M324,-68C324,-68 189,-68 189,-68 183,-68 177,-62 177,-56 177,-56 177,-12 177,-12 177,-6 183,-0 189,-0 189,-0 324,-0 324,-0 330,-0 336,-6 336,-12 336,-12 336,-56 336,-56 336,-62 330,-68 324,-68\"/>\r\n",
       "<text text-anchor=\"middle\" x=\"256.5\" y=\"-52.8\" font-family=\"Helvetica,sans-Serif\" font-size=\"14.00\">gini = 0.298</text>\r\n",
       "<text text-anchor=\"middle\" x=\"256.5\" y=\"-37.8\" font-family=\"Helvetica,sans-Serif\" font-size=\"14.00\">samples = 98</text>\r\n",
       "<text text-anchor=\"middle\" x=\"256.5\" y=\"-22.8\" font-family=\"Helvetica,sans-Serif\" font-size=\"14.00\">value = [130, 29]</text>\r\n",
       "<text text-anchor=\"middle\" x=\"256.5\" y=\"-7.8\" font-family=\"Helvetica,sans-Serif\" font-size=\"14.00\">class = Not Purchased</text>\r\n",
       "</g>\r\n",
       "<!-- 1&#45;&gt;3 -->\r\n",
       "<g id=\"edge3\" class=\"edge\"><title>1&#45;&gt;3</title>\r\n",
       "<path fill=\"none\" stroke=\"black\" d=\"M256.5,-103.726C256.5,-95.5175 256.5,-86.8595 256.5,-78.56\"/>\r\n",
       "<polygon fill=\"black\" stroke=\"black\" points=\"260,-78.2996 256.5,-68.2996 253,-78.2996 260,-78.2996\"/>\r\n",
       "</g>\r\n",
       "<!-- 5 -->\r\n",
       "<g id=\"node6\" class=\"node\"><title>5</title>\r\n",
       "<path fill=\"#8ec7f0\" stroke=\"black\" d=\"M476.5,-68C476.5,-68 366.5,-68 366.5,-68 360.5,-68 354.5,-62 354.5,-56 354.5,-56 354.5,-12 354.5,-12 354.5,-6 360.5,-0 366.5,-0 366.5,-0 476.5,-0 476.5,-0 482.5,-0 488.5,-6 488.5,-12 488.5,-12 488.5,-56 488.5,-56 488.5,-62 482.5,-68 476.5,-68\"/>\r\n",
       "<text text-anchor=\"middle\" x=\"421.5\" y=\"-52.8\" font-family=\"Helvetica,sans-Serif\" font-size=\"14.00\">gini = 0.42</text>\r\n",
       "<text text-anchor=\"middle\" x=\"421.5\" y=\"-37.8\" font-family=\"Helvetica,sans-Serif\" font-size=\"14.00\">samples = 6</text>\r\n",
       "<text text-anchor=\"middle\" x=\"421.5\" y=\"-22.8\" font-family=\"Helvetica,sans-Serif\" font-size=\"14.00\">value = [3, 7]</text>\r\n",
       "<text text-anchor=\"middle\" x=\"421.5\" y=\"-7.8\" font-family=\"Helvetica,sans-Serif\" font-size=\"14.00\">class = Purchased</text>\r\n",
       "</g>\r\n",
       "<!-- 4&#45;&gt;5 -->\r\n",
       "<g id=\"edge5\" class=\"edge\"><title>4&#45;&gt;5</title>\r\n",
       "<path fill=\"none\" stroke=\"black\" d=\"M421.5,-103.726C421.5,-95.5175 421.5,-86.8595 421.5,-78.56\"/>\r\n",
       "<polygon fill=\"black\" stroke=\"black\" points=\"425,-78.2996 421.5,-68.2996 418,-78.2996 425,-78.2996\"/>\r\n",
       "</g>\r\n",
       "<!-- 6 -->\r\n",
       "<g id=\"node7\" class=\"node\"><title>6</title>\r\n",
       "<path fill=\"#4aa5e7\" stroke=\"black\" d=\"M628.5,-68C628.5,-68 518.5,-68 518.5,-68 512.5,-68 506.5,-62 506.5,-56 506.5,-56 506.5,-12 506.5,-12 506.5,-6 512.5,-0 518.5,-0 518.5,-0 628.5,-0 628.5,-0 634.5,-0 640.5,-6 640.5,-12 640.5,-12 640.5,-56 640.5,-56 640.5,-62 634.5,-68 628.5,-68\"/>\r\n",
       "<text text-anchor=\"middle\" x=\"573.5\" y=\"-52.8\" font-family=\"Helvetica,sans-Serif\" font-size=\"14.00\">gini = 0.145</text>\r\n",
       "<text text-anchor=\"middle\" x=\"573.5\" y=\"-37.8\" font-family=\"Helvetica,sans-Serif\" font-size=\"14.00\">samples = 50</text>\r\n",
       "<text text-anchor=\"middle\" x=\"573.5\" y=\"-22.8\" font-family=\"Helvetica,sans-Serif\" font-size=\"14.00\">value = [6, 70]</text>\r\n",
       "<text text-anchor=\"middle\" x=\"573.5\" y=\"-7.8\" font-family=\"Helvetica,sans-Serif\" font-size=\"14.00\">class = Purchased</text>\r\n",
       "</g>\r\n",
       "<!-- 4&#45;&gt;6 -->\r\n",
       "<g id=\"edge6\" class=\"edge\"><title>4&#45;&gt;6</title>\r\n",
       "<path fill=\"none\" stroke=\"black\" d=\"M478.099,-103.726C491.52,-94.0582 505.805,-83.767 519.124,-74.172\"/>\r\n",
       "<polygon fill=\"black\" stroke=\"black\" points=\"521.208,-76.9846 527.276,-68.2996 517.116,-71.305 521.208,-76.9846\"/>\r\n",
       "</g>\r\n",
       "</g>\r\n",
       "</svg>\r\n"
      ],
      "text/plain": [
       "<graphviz.files.Source at 0x19c7eb4cc88>"
      ]
     },
     "execution_count": 21,
     "metadata": {},
     "output_type": "execute_result"
    }
   ],
   "source": [
    "# First tree\n",
    "gv.Source(export_graphviz(forest.estimators_[0], feature_names=x.columns, filled=True, rounded=True,\n",
    "                     class_names=['Not Purchased', 'Purchased']))"
   ]
  },
  {
   "cell_type": "code",
   "execution_count": 35,
   "metadata": {},
   "outputs": [
    {
     "data": {
      "image/svg+xml": [
       "<?xml version=\"1.0\" encoding=\"UTF-8\" standalone=\"no\"?>\r\n",
       "<!DOCTYPE svg PUBLIC \"-//W3C//DTD SVG 1.1//EN\"\r\n",
       " \"http://www.w3.org/Graphics/SVG/1.1/DTD/svg11.dtd\">\r\n",
       "<!-- Generated by graphviz version 2.38.0 (20140413.2041)\r\n",
       " -->\r\n",
       "<!-- Title: Tree Pages: 1 -->\r\n",
       "<svg width=\"633pt\" height=\"314pt\"\r\n",
       " viewBox=\"0.00 0.00 632.50 314.00\" xmlns=\"http://www.w3.org/2000/svg\" xmlns:xlink=\"http://www.w3.org/1999/xlink\">\r\n",
       "<g id=\"graph0\" class=\"graph\" transform=\"scale(1 1) rotate(0) translate(4 310)\">\r\n",
       "<title>Tree</title>\r\n",
       "<polygon fill=\"white\" stroke=\"none\" points=\"-4,4 -4,-310 628.5,-310 628.5,4 -4,4\"/>\r\n",
       "<!-- 0 -->\r\n",
       "<g id=\"node1\" class=\"node\"><title>0</title>\r\n",
       "<path fill=\"#f0b88f\" stroke=\"black\" d=\"M411,-306C411,-306 238,-306 238,-306 232,-306 226,-300 226,-294 226,-294 226,-235 226,-235 226,-229 232,-223 238,-223 238,-223 411,-223 411,-223 417,-223 423,-229 423,-235 423,-235 423,-294 423,-294 423,-300 417,-306 411,-306\"/>\r\n",
       "<text text-anchor=\"middle\" x=\"324.5\" y=\"-290.8\" font-family=\"Helvetica,sans-Serif\" font-size=\"14.00\">EstimatedSalary &lt;= 89500.0</text>\r\n",
       "<text text-anchor=\"middle\" x=\"324.5\" y=\"-275.8\" font-family=\"Helvetica,sans-Serif\" font-size=\"14.00\">gini = 0.423</text>\r\n",
       "<text text-anchor=\"middle\" x=\"324.5\" y=\"-260.8\" font-family=\"Helvetica,sans-Serif\" font-size=\"14.00\">samples = 182</text>\r\n",
       "<text text-anchor=\"middle\" x=\"324.5\" y=\"-245.8\" font-family=\"Helvetica,sans-Serif\" font-size=\"14.00\">value = [209, 91]</text>\r\n",
       "<text text-anchor=\"middle\" x=\"324.5\" y=\"-230.8\" font-family=\"Helvetica,sans-Serif\" font-size=\"14.00\">class = Not Purchased</text>\r\n",
       "</g>\r\n",
       "<!-- 1 -->\r\n",
       "<g id=\"node2\" class=\"node\"><title>1</title>\r\n",
       "<path fill=\"#eb9d65\" stroke=\"black\" d=\"M307,-187C307,-187 172,-187 172,-187 166,-187 160,-181 160,-175 160,-175 160,-116 160,-116 160,-110 166,-104 172,-104 172,-104 307,-104 307,-104 313,-104 319,-110 319,-116 319,-116 319,-175 319,-175 319,-181 313,-187 307,-187\"/>\r\n",
       "<text text-anchor=\"middle\" x=\"239.5\" y=\"-171.8\" font-family=\"Helvetica,sans-Serif\" font-size=\"14.00\">Age &lt;= 45.5</text>\r\n",
       "<text text-anchor=\"middle\" x=\"239.5\" y=\"-156.8\" font-family=\"Helvetica,sans-Serif\" font-size=\"14.00\">gini = 0.298</text>\r\n",
       "<text text-anchor=\"middle\" x=\"239.5\" y=\"-141.8\" font-family=\"Helvetica,sans-Serif\" font-size=\"14.00\">samples = 141</text>\r\n",
       "<text text-anchor=\"middle\" x=\"239.5\" y=\"-126.8\" font-family=\"Helvetica,sans-Serif\" font-size=\"14.00\">value = [197, 44]</text>\r\n",
       "<text text-anchor=\"middle\" x=\"239.5\" y=\"-111.8\" font-family=\"Helvetica,sans-Serif\" font-size=\"14.00\">class = Not Purchased</text>\r\n",
       "</g>\r\n",
       "<!-- 0&#45;&gt;1 -->\r\n",
       "<g id=\"edge1\" class=\"edge\"><title>0&#45;&gt;1</title>\r\n",
       "<path fill=\"none\" stroke=\"black\" d=\"M295.01,-222.907C288.549,-214.014 281.643,-204.509 274.976,-195.331\"/>\r\n",
       "<polygon fill=\"black\" stroke=\"black\" points=\"277.647,-193.054 268.938,-187.021 271.984,-197.168 277.647,-193.054\"/>\r\n",
       "<text text-anchor=\"middle\" x=\"265.027\" y=\"-208.013\" font-family=\"Helvetica,sans-Serif\" font-size=\"14.00\">True</text>\r\n",
       "</g>\r\n",
       "<!-- 4 -->\r\n",
       "<g id=\"node5\" class=\"node\"><title>4</title>\r\n",
       "<path fill=\"#6cb6ec\" stroke=\"black\" d=\"M472,-187C472,-187 349,-187 349,-187 343,-187 337,-181 337,-175 337,-175 337,-116 337,-116 337,-110 343,-104 349,-104 349,-104 472,-104 472,-104 478,-104 484,-110 484,-116 484,-116 484,-175 484,-175 484,-181 478,-187 472,-187\"/>\r\n",
       "<text text-anchor=\"middle\" x=\"410.5\" y=\"-171.8\" font-family=\"Helvetica,sans-Serif\" font-size=\"14.00\">Gender_Male &lt;= 0.5</text>\r\n",
       "<text text-anchor=\"middle\" x=\"410.5\" y=\"-156.8\" font-family=\"Helvetica,sans-Serif\" font-size=\"14.00\">gini = 0.324</text>\r\n",
       "<text text-anchor=\"middle\" x=\"410.5\" y=\"-141.8\" font-family=\"Helvetica,sans-Serif\" font-size=\"14.00\">samples = 41</text>\r\n",
       "<text text-anchor=\"middle\" x=\"410.5\" y=\"-126.8\" font-family=\"Helvetica,sans-Serif\" font-size=\"14.00\">value = [12, 47]</text>\r\n",
       "<text text-anchor=\"middle\" x=\"410.5\" y=\"-111.8\" font-family=\"Helvetica,sans-Serif\" font-size=\"14.00\">class = Purchased</text>\r\n",
       "</g>\r\n",
       "<!-- 0&#45;&gt;4 -->\r\n",
       "<g id=\"edge4\" class=\"edge\"><title>0&#45;&gt;4</title>\r\n",
       "<path fill=\"none\" stroke=\"black\" d=\"M354.337,-222.907C360.874,-214.014 367.861,-204.509 374.607,-195.331\"/>\r\n",
       "<polygon fill=\"black\" stroke=\"black\" points=\"377.613,-197.151 380.715,-187.021 371.973,-193.005 377.613,-197.151\"/>\r\n",
       "<text text-anchor=\"middle\" x=\"384.489\" y=\"-208.034\" font-family=\"Helvetica,sans-Serif\" font-size=\"14.00\">False</text>\r\n",
       "</g>\r\n",
       "<!-- 2 -->\r\n",
       "<g id=\"node3\" class=\"node\"><title>2</title>\r\n",
       "<path fill=\"#e68641\" stroke=\"black\" d=\"M147,-68C147,-68 12,-68 12,-68 6,-68 0,-62 0,-56 0,-56 0,-12 0,-12 0,-6 6,-0 12,-0 12,-0 147,-0 147,-0 153,-0 159,-6 159,-12 159,-12 159,-56 159,-56 159,-62 153,-68 147,-68\"/>\r\n",
       "<text text-anchor=\"middle\" x=\"79.5\" y=\"-52.8\" font-family=\"Helvetica,sans-Serif\" font-size=\"14.00\">gini = 0.078</text>\r\n",
       "<text text-anchor=\"middle\" x=\"79.5\" y=\"-37.8\" font-family=\"Helvetica,sans-Serif\" font-size=\"14.00\">samples = 114</text>\r\n",
       "<text text-anchor=\"middle\" x=\"79.5\" y=\"-22.8\" font-family=\"Helvetica,sans-Serif\" font-size=\"14.00\">value = [189, 8]</text>\r\n",
       "<text text-anchor=\"middle\" x=\"79.5\" y=\"-7.8\" font-family=\"Helvetica,sans-Serif\" font-size=\"14.00\">class = Not Purchased</text>\r\n",
       "</g>\r\n",
       "<!-- 1&#45;&gt;2 -->\r\n",
       "<g id=\"edge2\" class=\"edge\"><title>1&#45;&gt;2</title>\r\n",
       "<path fill=\"none\" stroke=\"black\" d=\"M179.922,-103.726C165.721,-94.0078 150.601,-83.6597 136.519,-74.0222\"/>\r\n",
       "<polygon fill=\"black\" stroke=\"black\" points=\"138.131,-70.8846 127.902,-68.1252 134.178,-76.6614 138.131,-70.8846\"/>\r\n",
       "</g>\r\n",
       "<!-- 3 -->\r\n",
       "<g id=\"node4\" class=\"node\"><title>3</title>\r\n",
       "<path fill=\"#65b3eb\" stroke=\"black\" d=\"M299.5,-68C299.5,-68 189.5,-68 189.5,-68 183.5,-68 177.5,-62 177.5,-56 177.5,-56 177.5,-12 177.5,-12 177.5,-6 183.5,-0 189.5,-0 189.5,-0 299.5,-0 299.5,-0 305.5,-0 311.5,-6 311.5,-12 311.5,-12 311.5,-56 311.5,-56 311.5,-62 305.5,-68 299.5,-68\"/>\r\n",
       "<text text-anchor=\"middle\" x=\"244.5\" y=\"-52.8\" font-family=\"Helvetica,sans-Serif\" font-size=\"14.00\">gini = 0.298</text>\r\n",
       "<text text-anchor=\"middle\" x=\"244.5\" y=\"-37.8\" font-family=\"Helvetica,sans-Serif\" font-size=\"14.00\">samples = 27</text>\r\n",
       "<text text-anchor=\"middle\" x=\"244.5\" y=\"-22.8\" font-family=\"Helvetica,sans-Serif\" font-size=\"14.00\">value = [8, 36]</text>\r\n",
       "<text text-anchor=\"middle\" x=\"244.5\" y=\"-7.8\" font-family=\"Helvetica,sans-Serif\" font-size=\"14.00\">class = Purchased</text>\r\n",
       "</g>\r\n",
       "<!-- 1&#45;&gt;3 -->\r\n",
       "<g id=\"edge3\" class=\"edge\"><title>1&#45;&gt;3</title>\r\n",
       "<path fill=\"none\" stroke=\"black\" d=\"M241.362,-103.726C241.737,-95.5175 242.132,-86.8595 242.511,-78.56\"/>\r\n",
       "<polygon fill=\"black\" stroke=\"black\" points=\"246.02,-78.4489 242.979,-68.2996 239.027,-78.1295 246.02,-78.4489\"/>\r\n",
       "</g>\r\n",
       "<!-- 5 -->\r\n",
       "<g id=\"node6\" class=\"node\"><title>5</title>\r\n",
       "<path fill=\"#72b9ec\" stroke=\"black\" d=\"M460.5,-68C460.5,-68 350.5,-68 350.5,-68 344.5,-68 338.5,-62 338.5,-56 338.5,-56 338.5,-12 338.5,-12 338.5,-6 344.5,-0 350.5,-0 350.5,-0 460.5,-0 460.5,-0 466.5,-0 472.5,-6 472.5,-12 472.5,-12 472.5,-56 472.5,-56 472.5,-62 466.5,-68 460.5,-68\"/>\r\n",
       "<text text-anchor=\"middle\" x=\"405.5\" y=\"-52.8\" font-family=\"Helvetica,sans-Serif\" font-size=\"14.00\">gini = 0.346</text>\r\n",
       "<text text-anchor=\"middle\" x=\"405.5\" y=\"-37.8\" font-family=\"Helvetica,sans-Serif\" font-size=\"14.00\">samples = 26</text>\r\n",
       "<text text-anchor=\"middle\" x=\"405.5\" y=\"-22.8\" font-family=\"Helvetica,sans-Serif\" font-size=\"14.00\">value = [8, 28]</text>\r\n",
       "<text text-anchor=\"middle\" x=\"405.5\" y=\"-7.8\" font-family=\"Helvetica,sans-Serif\" font-size=\"14.00\">class = Purchased</text>\r\n",
       "</g>\r\n",
       "<!-- 4&#45;&gt;5 -->\r\n",
       "<g id=\"edge5\" class=\"edge\"><title>4&#45;&gt;5</title>\r\n",
       "<path fill=\"none\" stroke=\"black\" d=\"M408.638,-103.726C408.263,-95.5175 407.868,-86.8595 407.489,-78.56\"/>\r\n",
       "<polygon fill=\"black\" stroke=\"black\" points=\"410.973,-78.1295 407.021,-68.2996 403.98,-78.4489 410.973,-78.1295\"/>\r\n",
       "</g>\r\n",
       "<!-- 6 -->\r\n",
       "<g id=\"node7\" class=\"node\"><title>6</title>\r\n",
       "<path fill=\"#63b2ea\" stroke=\"black\" d=\"M612.5,-68C612.5,-68 502.5,-68 502.5,-68 496.5,-68 490.5,-62 490.5,-56 490.5,-56 490.5,-12 490.5,-12 490.5,-6 496.5,-0 502.5,-0 502.5,-0 612.5,-0 612.5,-0 618.5,-0 624.5,-6 624.5,-12 624.5,-12 624.5,-56 624.5,-56 624.5,-62 618.5,-68 612.5,-68\"/>\r\n",
       "<text text-anchor=\"middle\" x=\"557.5\" y=\"-52.8\" font-family=\"Helvetica,sans-Serif\" font-size=\"14.00\">gini = 0.287</text>\r\n",
       "<text text-anchor=\"middle\" x=\"557.5\" y=\"-37.8\" font-family=\"Helvetica,sans-Serif\" font-size=\"14.00\">samples = 15</text>\r\n",
       "<text text-anchor=\"middle\" x=\"557.5\" y=\"-22.8\" font-family=\"Helvetica,sans-Serif\" font-size=\"14.00\">value = [4, 19]</text>\r\n",
       "<text text-anchor=\"middle\" x=\"557.5\" y=\"-7.8\" font-family=\"Helvetica,sans-Serif\" font-size=\"14.00\">class = Purchased</text>\r\n",
       "</g>\r\n",
       "<!-- 4&#45;&gt;6 -->\r\n",
       "<g id=\"edge6\" class=\"edge\"><title>4&#45;&gt;6</title>\r\n",
       "<path fill=\"none\" stroke=\"black\" d=\"M465.237,-103.726C478.094,-94.1494 491.771,-83.9611 504.548,-74.4438\"/>\r\n",
       "<polygon fill=\"black\" stroke=\"black\" points=\"506.868,-77.0803 512.796,-68.2996 502.686,-71.4666 506.868,-77.0803\"/>\r\n",
       "</g>\r\n",
       "</g>\r\n",
       "</svg>\r\n"
      ],
      "text/plain": [
       "<graphviz.files.Source at 0x2eb2d031488>"
      ]
     },
     "execution_count": 35,
     "metadata": {},
     "output_type": "execute_result"
    }
   ],
   "source": [
    "# Second tree\n",
    "gv.Source(export_graphviz(forest.estimators_[1], feature_names=x.columns, filled=True, rounded=True,\n",
    "                     class_names=['Not Purchased', 'Purchased']))"
   ]
  },
  {
   "cell_type": "code",
   "execution_count": 36,
   "metadata": {},
   "outputs": [
    {
     "data": {
      "image/svg+xml": [
       "<?xml version=\"1.0\" encoding=\"UTF-8\" standalone=\"no\"?>\r\n",
       "<!DOCTYPE svg PUBLIC \"-//W3C//DTD SVG 1.1//EN\"\r\n",
       " \"http://www.w3.org/Graphics/SVG/1.1/DTD/svg11.dtd\">\r\n",
       "<!-- Generated by graphviz version 2.38.0 (20140413.2041)\r\n",
       " -->\r\n",
       "<!-- Title: Tree Pages: 1 -->\r\n",
       "<svg width=\"630pt\" height=\"314pt\"\r\n",
       " viewBox=\"0.00 0.00 629.50 314.00\" xmlns=\"http://www.w3.org/2000/svg\" xmlns:xlink=\"http://www.w3.org/1999/xlink\">\r\n",
       "<g id=\"graph0\" class=\"graph\" transform=\"scale(1 1) rotate(0) translate(4 310)\">\r\n",
       "<title>Tree</title>\r\n",
       "<polygon fill=\"white\" stroke=\"none\" points=\"-4,4 -4,-310 625.5,-310 625.5,4 -4,4\"/>\r\n",
       "<!-- 0 -->\r\n",
       "<g id=\"node1\" class=\"node\"><title>0</title>\r\n",
       "<path fill=\"#f5cfb4\" stroke=\"black\" d=\"M409,-306C409,-306 236,-306 236,-306 230,-306 224,-300 224,-294 224,-294 224,-235 224,-235 224,-229 230,-223 236,-223 236,-223 409,-223 409,-223 415,-223 421,-229 421,-235 421,-235 421,-294 421,-294 421,-300 415,-306 409,-306\"/>\r\n",
       "<text text-anchor=\"middle\" x=\"322.5\" y=\"-290.8\" font-family=\"Helvetica,sans-Serif\" font-size=\"14.00\">EstimatedSalary &lt;= 90500.0</text>\r\n",
       "<text text-anchor=\"middle\" x=\"322.5\" y=\"-275.8\" font-family=\"Helvetica,sans-Serif\" font-size=\"14.00\">gini = 0.473</text>\r\n",
       "<text text-anchor=\"middle\" x=\"322.5\" y=\"-260.8\" font-family=\"Helvetica,sans-Serif\" font-size=\"14.00\">samples = 192</text>\r\n",
       "<text text-anchor=\"middle\" x=\"322.5\" y=\"-245.8\" font-family=\"Helvetica,sans-Serif\" font-size=\"14.00\">value = [185, 115]</text>\r\n",
       "<text text-anchor=\"middle\" x=\"322.5\" y=\"-230.8\" font-family=\"Helvetica,sans-Serif\" font-size=\"14.00\">class = Not Purchased</text>\r\n",
       "</g>\r\n",
       "<!-- 1 -->\r\n",
       "<g id=\"node2\" class=\"node\"><title>1</title>\r\n",
       "<path fill=\"#eda977\" stroke=\"black\" d=\"M308,-187C308,-187 173,-187 173,-187 167,-187 161,-181 161,-175 161,-175 161,-116 161,-116 161,-110 167,-104 173,-104 173,-104 308,-104 308,-104 314,-104 320,-110 320,-116 320,-116 320,-175 320,-175 320,-181 314,-187 308,-187\"/>\r\n",
       "<text text-anchor=\"middle\" x=\"240.5\" y=\"-171.8\" font-family=\"Helvetica,sans-Serif\" font-size=\"14.00\">Age &lt;= 43.5</text>\r\n",
       "<text text-anchor=\"middle\" x=\"240.5\" y=\"-156.8\" font-family=\"Helvetica,sans-Serif\" font-size=\"14.00\">gini = 0.364</text>\r\n",
       "<text text-anchor=\"middle\" x=\"240.5\" y=\"-141.8\" font-family=\"Helvetica,sans-Serif\" font-size=\"14.00\">samples = 150</text>\r\n",
       "<text text-anchor=\"middle\" x=\"240.5\" y=\"-126.8\" font-family=\"Helvetica,sans-Serif\" font-size=\"14.00\">value = [181, 57]</text>\r\n",
       "<text text-anchor=\"middle\" x=\"240.5\" y=\"-111.8\" font-family=\"Helvetica,sans-Serif\" font-size=\"14.00\">class = Not Purchased</text>\r\n",
       "</g>\r\n",
       "<!-- 0&#45;&gt;1 -->\r\n",
       "<g id=\"edge1\" class=\"edge\"><title>0&#45;&gt;1</title>\r\n",
       "<path fill=\"none\" stroke=\"black\" d=\"M294.051,-222.907C287.817,-214.014 281.156,-204.509 274.723,-195.331\"/>\r\n",
       "<polygon fill=\"black\" stroke=\"black\" points=\"277.505,-193.201 268.899,-187.021 271.772,-197.219 277.505,-193.201\"/>\r\n",
       "<text text-anchor=\"middle\" x=\"264.569\" y=\"-207.943\" font-family=\"Helvetica,sans-Serif\" font-size=\"14.00\">True</text>\r\n",
       "</g>\r\n",
       "<!-- 4 -->\r\n",
       "<g id=\"node5\" class=\"node\"><title>4</title>\r\n",
       "<path fill=\"#47a4e7\" stroke=\"black\" d=\"M460.5,-187C460.5,-187 350.5,-187 350.5,-187 344.5,-187 338.5,-181 338.5,-175 338.5,-175 338.5,-116 338.5,-116 338.5,-110 344.5,-104 350.5,-104 350.5,-104 460.5,-104 460.5,-104 466.5,-104 472.5,-110 472.5,-116 472.5,-116 472.5,-175 472.5,-175 472.5,-181 466.5,-187 460.5,-187\"/>\r\n",
       "<text text-anchor=\"middle\" x=\"405.5\" y=\"-171.8\" font-family=\"Helvetica,sans-Serif\" font-size=\"14.00\">Age &lt;= 52.5</text>\r\n",
       "<text text-anchor=\"middle\" x=\"405.5\" y=\"-156.8\" font-family=\"Helvetica,sans-Serif\" font-size=\"14.00\">gini = 0.121</text>\r\n",
       "<text text-anchor=\"middle\" x=\"405.5\" y=\"-141.8\" font-family=\"Helvetica,sans-Serif\" font-size=\"14.00\">samples = 42</text>\r\n",
       "<text text-anchor=\"middle\" x=\"405.5\" y=\"-126.8\" font-family=\"Helvetica,sans-Serif\" font-size=\"14.00\">value = [4, 58]</text>\r\n",
       "<text text-anchor=\"middle\" x=\"405.5\" y=\"-111.8\" font-family=\"Helvetica,sans-Serif\" font-size=\"14.00\">class = Purchased</text>\r\n",
       "</g>\r\n",
       "<!-- 0&#45;&gt;4 -->\r\n",
       "<g id=\"edge4\" class=\"edge\"><title>0&#45;&gt;4</title>\r\n",
       "<path fill=\"none\" stroke=\"black\" d=\"M351.296,-222.907C357.606,-214.014 364.348,-204.509 370.859,-195.331\"/>\r\n",
       "<polygon fill=\"black\" stroke=\"black\" points=\"373.823,-197.202 376.754,-187.021 368.114,-193.152 373.823,-197.202\"/>\r\n",
       "<text text-anchor=\"middle\" x=\"380.944\" y=\"-207.967\" font-family=\"Helvetica,sans-Serif\" font-size=\"14.00\">False</text>\r\n",
       "</g>\r\n",
       "<!-- 2 -->\r\n",
       "<g id=\"node3\" class=\"node\"><title>2</title>\r\n",
       "<path fill=\"#e5833c\" stroke=\"black\" d=\"M147,-68C147,-68 12,-68 12,-68 6,-68 0,-62 0,-56 0,-56 0,-12 0,-12 0,-6 6,-0 12,-0 12,-0 147,-0 147,-0 153,-0 159,-6 159,-12 159,-12 159,-56 159,-56 159,-62 153,-68 147,-68\"/>\r\n",
       "<text text-anchor=\"middle\" x=\"79.5\" y=\"-52.8\" font-family=\"Helvetica,sans-Serif\" font-size=\"14.00\">gini = 0.033</text>\r\n",
       "<text text-anchor=\"middle\" x=\"79.5\" y=\"-37.8\" font-family=\"Helvetica,sans-Serif\" font-size=\"14.00\">samples = 114</text>\r\n",
       "<text text-anchor=\"middle\" x=\"79.5\" y=\"-22.8\" font-family=\"Helvetica,sans-Serif\" font-size=\"14.00\">value = [177, 3]</text>\r\n",
       "<text text-anchor=\"middle\" x=\"79.5\" y=\"-7.8\" font-family=\"Helvetica,sans-Serif\" font-size=\"14.00\">class = Not Purchased</text>\r\n",
       "</g>\r\n",
       "<!-- 1&#45;&gt;2 -->\r\n",
       "<g id=\"edge2\" class=\"edge\"><title>1&#45;&gt;2</title>\r\n",
       "<path fill=\"none\" stroke=\"black\" d=\"M180.55,-103.726C166.126,-93.9161 150.758,-83.4644 136.474,-73.7496\"/>\r\n",
       "<polygon fill=\"black\" stroke=\"black\" points=\"138.442,-70.855 128.205,-68.1252 134.505,-76.6431 138.442,-70.855\"/>\r\n",
       "</g>\r\n",
       "<!-- 3 -->\r\n",
       "<g id=\"node4\" class=\"node\"><title>3</title>\r\n",
       "<path fill=\"#48a4e7\" stroke=\"black\" d=\"M299.5,-68C299.5,-68 189.5,-68 189.5,-68 183.5,-68 177.5,-62 177.5,-56 177.5,-56 177.5,-12 177.5,-12 177.5,-6 183.5,-0 189.5,-0 189.5,-0 299.5,-0 299.5,-0 305.5,-0 311.5,-6 311.5,-12 311.5,-12 311.5,-56 311.5,-56 311.5,-62 305.5,-68 299.5,-68\"/>\r\n",
       "<text text-anchor=\"middle\" x=\"244.5\" y=\"-52.8\" font-family=\"Helvetica,sans-Serif\" font-size=\"14.00\">gini = 0.128</text>\r\n",
       "<text text-anchor=\"middle\" x=\"244.5\" y=\"-37.8\" font-family=\"Helvetica,sans-Serif\" font-size=\"14.00\">samples = 36</text>\r\n",
       "<text text-anchor=\"middle\" x=\"244.5\" y=\"-22.8\" font-family=\"Helvetica,sans-Serif\" font-size=\"14.00\">value = [4, 54]</text>\r\n",
       "<text text-anchor=\"middle\" x=\"244.5\" y=\"-7.8\" font-family=\"Helvetica,sans-Serif\" font-size=\"14.00\">class = Purchased</text>\r\n",
       "</g>\r\n",
       "<!-- 1&#45;&gt;3 -->\r\n",
       "<g id=\"edge3\" class=\"edge\"><title>1&#45;&gt;3</title>\r\n",
       "<path fill=\"none\" stroke=\"black\" d=\"M241.989,-103.726C242.289,-95.5175 242.606,-86.8595 242.909,-78.56\"/>\r\n",
       "<polygon fill=\"black\" stroke=\"black\" points=\"246.416,-78.4207 243.284,-68.2996 239.421,-78.1651 246.416,-78.4207\"/>\r\n",
       "</g>\r\n",
       "<!-- 5 -->\r\n",
       "<g id=\"node6\" class=\"node\"><title>5</title>\r\n",
       "<path fill=\"#4ba6e7\" stroke=\"black\" d=\"M457.5,-68C457.5,-68 347.5,-68 347.5,-68 341.5,-68 335.5,-62 335.5,-56 335.5,-56 335.5,-12 335.5,-12 335.5,-6 341.5,-0 347.5,-0 347.5,-0 457.5,-0 457.5,-0 463.5,-0 469.5,-6 469.5,-12 469.5,-12 469.5,-56 469.5,-56 469.5,-62 463.5,-68 457.5,-68\"/>\r\n",
       "<text text-anchor=\"middle\" x=\"402.5\" y=\"-52.8\" font-family=\"Helvetica,sans-Serif\" font-size=\"14.00\">gini = 0.156</text>\r\n",
       "<text text-anchor=\"middle\" x=\"402.5\" y=\"-37.8\" font-family=\"Helvetica,sans-Serif\" font-size=\"14.00\">samples = 32</text>\r\n",
       "<text text-anchor=\"middle\" x=\"402.5\" y=\"-22.8\" font-family=\"Helvetica,sans-Serif\" font-size=\"14.00\">value = [4, 43]</text>\r\n",
       "<text text-anchor=\"middle\" x=\"402.5\" y=\"-7.8\" font-family=\"Helvetica,sans-Serif\" font-size=\"14.00\">class = Purchased</text>\r\n",
       "</g>\r\n",
       "<!-- 4&#45;&gt;5 -->\r\n",
       "<g id=\"edge5\" class=\"edge\"><title>4&#45;&gt;5</title>\r\n",
       "<path fill=\"none\" stroke=\"black\" d=\"M404.383,-103.726C404.158,-95.5175 403.921,-86.8595 403.693,-78.56\"/>\r\n",
       "<polygon fill=\"black\" stroke=\"black\" points=\"407.185,-78.2 403.412,-68.2996 400.188,-78.3917 407.185,-78.2\"/>\r\n",
       "</g>\r\n",
       "<!-- 6 -->\r\n",
       "<g id=\"node7\" class=\"node\"><title>6</title>\r\n",
       "<path fill=\"#399de5\" stroke=\"black\" d=\"M609.5,-68C609.5,-68 499.5,-68 499.5,-68 493.5,-68 487.5,-62 487.5,-56 487.5,-56 487.5,-12 487.5,-12 487.5,-6 493.5,-0 499.5,-0 499.5,-0 609.5,-0 609.5,-0 615.5,-0 621.5,-6 621.5,-12 621.5,-12 621.5,-56 621.5,-56 621.5,-62 615.5,-68 609.5,-68\"/>\r\n",
       "<text text-anchor=\"middle\" x=\"554.5\" y=\"-52.8\" font-family=\"Helvetica,sans-Serif\" font-size=\"14.00\">gini = 0.0</text>\r\n",
       "<text text-anchor=\"middle\" x=\"554.5\" y=\"-37.8\" font-family=\"Helvetica,sans-Serif\" font-size=\"14.00\">samples = 10</text>\r\n",
       "<text text-anchor=\"middle\" x=\"554.5\" y=\"-22.8\" font-family=\"Helvetica,sans-Serif\" font-size=\"14.00\">value = [0, 15]</text>\r\n",
       "<text text-anchor=\"middle\" x=\"554.5\" y=\"-7.8\" font-family=\"Helvetica,sans-Serif\" font-size=\"14.00\">class = Purchased</text>\r\n",
       "</g>\r\n",
       "<!-- 4&#45;&gt;6 -->\r\n",
       "<g id=\"edge6\" class=\"edge\"><title>4&#45;&gt;6</title>\r\n",
       "<path fill=\"none\" stroke=\"black\" d=\"M460.982,-103.726C474.014,-94.1494 487.877,-83.9611 500.828,-74.4438\"/>\r\n",
       "<polygon fill=\"black\" stroke=\"black\" points=\"503.203,-77.0418 509.188,-68.2996 499.058,-71.4012 503.203,-77.0418\"/>\r\n",
       "</g>\r\n",
       "</g>\r\n",
       "</svg>\r\n"
      ],
      "text/plain": [
       "<graphviz.files.Source at 0x2eb2d043308>"
      ]
     },
     "execution_count": 36,
     "metadata": {},
     "output_type": "execute_result"
    }
   ],
   "source": [
    "# Third tree\n",
    "gv.Source(export_graphviz(forest.estimators_[2], feature_names=x.columns, filled=True, rounded=True,\n",
    "                     class_names=['Not Purchased', 'Purchased']))"
   ]
  },
  {
   "cell_type": "code",
   "execution_count": null,
   "metadata": {},
   "outputs": [],
   "source": []
  }
 ],
 "metadata": {
  "kernelspec": {
   "display_name": "Python 3",
   "language": "python",
   "name": "python3"
  },
  "language_info": {
   "codemirror_mode": {
    "name": "ipython",
    "version": 3
   },
   "file_extension": ".py",
   "mimetype": "text/x-python",
   "name": "python",
   "nbconvert_exporter": "python",
   "pygments_lexer": "ipython3",
   "version": "3.7.4"
  }
 },
 "nbformat": 4,
 "nbformat_minor": 4
}
