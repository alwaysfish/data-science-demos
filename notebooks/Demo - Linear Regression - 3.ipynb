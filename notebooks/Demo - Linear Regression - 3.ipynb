{
 "cells": [
  {
   "cell_type": "markdown",
   "metadata": {},
   "source": [
    "## L1 (Lasso) and L2 (Ridge) Regularization\n",
    "\n",
    "Regularization is a technique that prevents the parameters of a model from becoming too large, and \"shrinks\" them towards zero. The impact of regularization is that it results in models that, when making predictions on new data, have less variance.\n",
    "\n",
    "Three particularly well-known and commonly used regularization techniques for linear models are:\n",
    "* ridge regression\n",
    "* least absolute shrinkage and selection operator (LASSO)\n",
    "* elastic net\n",
    "\n",
    "These three techniques can be thought of as extensions to linear models that reduce overfitting. Because they shrink model parameters towards zero, they can also automatically perform feature selection by forcing predictors with little information to have no or negligible impact on predictions."
   ]
  },
  {
   "cell_type": "markdown",
   "metadata": {},
   "source": [
    "### Examples of Underfit vs. Optimal vs. Overfit\n",
    "\n",
    "When we underfit the data, we miss local differences in relationship and produce a model that has high bias.\n",
    "\n",
    "When we overfit the data, our model is too sensitive to local differences in the relationship and produce a model that has high variance.\n",
    "\n",
    "![Underfit Optimal Overfit](./images/underfit-optimal-overfit.png)\n",
    "![Underfit Optimal Overfit 2](./images/underfit-optimal-overfit2.png)"
   ]
  },
  {
   "cell_type": "markdown",
   "metadata": {},
   "source": [
    "The principal job of regularization is to prevent algorithms from learning models that are overfit by discouraging complexity. This is achieved by penalizing model parameters that are large, shrinking them towards zero."
   ]
  },
  {
   "cell_type": "markdown",
   "metadata": {},
   "source": [
    "### Ridge Regression\n",
    "\n",
    "In ridge regression, the cost function for OLS is altered by adding a penalty equivalent to square of the magnitude of the parameters (coefficients). The added term makes the function's value larger, the larger the coefficient estimates are. As a result, in order to minimize the output of the cost function, optimization algorithm has to balance selecting the model parameters that minimze the sum of squares, and selecting parameters that minimize the penalty term.\n",
    "\n",
    "__Note!__ Intercept is excluded from the regularization term.\n",
    "\n",
    "$$\\Large J(W)=\\sum^M_{i=1}(y_i-\\hat{y_i})^2+\\lambda\\sum^p_{j=1}{w_j^2}$$\n",
    "\n",
    "The penalty term is controlled by value __lambda__, $\\lambda$. Large values of lambda strongly penalize model complexity, while small values of lambda weakly penalize model complexity. If we set lambda to 0, this removes the L2 penalty term from the equation and we get back to the OLS loss function."
   ]
  },
  {
   "cell_type": "markdown",
   "metadata": {},
   "source": [
    "### LASSO\n",
    "\n",
    "The cost function for LASSO can be written as\n",
    "\n",
    "$$\\Large J(W)=\\sum^M_{i=1}(y_i-\\hat{y_i})^2+\\lambda\\sum^p_{j=1}{\\lvert{w_j}\\rvert}$$\n",
    "\n",
    "L1 regularization can lead to zero coefficients. So LASSO regression not only helps in reducing over-fitting but it helps with feature selection.\n",
    "\n",
    "__Note!__ Do not use L1 or L2 regularization for univariate regressions."
   ]
  },
  {
   "cell_type": "markdown",
   "metadata": {},
   "source": [
    "<img src=\"https://miro.medium.com/max/1198/1*Jd03Hyt2bpEv1r7UijLlpg.png\"></img>"
   ]
  },
  {
   "cell_type": "code",
   "execution_count": 1,
   "metadata": {},
   "outputs": [],
   "source": [
    "import pandas as pd\n",
    "import numpy as np\n",
    "import matplotlib.pyplot as plt\n",
    "import seaborn as sns\n",
    "from sklearn.datasets import load_boston\n",
    "from sklearn.linear_model import LinearRegression\n",
    "from sklearn.linear_model import Lasso\n",
    "from sklearn.linear_model import Ridge\n",
    "import statsmodels.api as sm"
   ]
  },
  {
   "cell_type": "code",
   "execution_count": 2,
   "metadata": {},
   "outputs": [],
   "source": [
    "boston = load_boston()"
   ]
  },
  {
   "cell_type": "code",
   "execution_count": 3,
   "metadata": {},
   "outputs": [],
   "source": [
    "data = pd.DataFrame(boston['data'], columns=boston['feature_names'])"
   ]
  },
  {
   "cell_type": "code",
   "execution_count": 4,
   "metadata": {},
   "outputs": [],
   "source": [
    "data['MEDV'] = boston.target"
   ]
  },
  {
   "cell_type": "code",
   "execution_count": 5,
   "metadata": {},
   "outputs": [
    {
     "data": {
      "text/html": [
       "<div>\n",
       "<style scoped>\n",
       "    .dataframe tbody tr th:only-of-type {\n",
       "        vertical-align: middle;\n",
       "    }\n",
       "\n",
       "    .dataframe tbody tr th {\n",
       "        vertical-align: top;\n",
       "    }\n",
       "\n",
       "    .dataframe thead th {\n",
       "        text-align: right;\n",
       "    }\n",
       "</style>\n",
       "<table border=\"1\" class=\"dataframe\">\n",
       "  <thead>\n",
       "    <tr style=\"text-align: right;\">\n",
       "      <th></th>\n",
       "      <th>CRIM</th>\n",
       "      <th>ZN</th>\n",
       "      <th>INDUS</th>\n",
       "      <th>CHAS</th>\n",
       "      <th>NOX</th>\n",
       "      <th>RM</th>\n",
       "      <th>AGE</th>\n",
       "      <th>DIS</th>\n",
       "      <th>RAD</th>\n",
       "      <th>TAX</th>\n",
       "      <th>PTRATIO</th>\n",
       "      <th>B</th>\n",
       "      <th>LSTAT</th>\n",
       "      <th>MEDV</th>\n",
       "    </tr>\n",
       "  </thead>\n",
       "  <tbody>\n",
       "    <tr>\n",
       "      <th>0</th>\n",
       "      <td>0.00632</td>\n",
       "      <td>18.0</td>\n",
       "      <td>2.31</td>\n",
       "      <td>0.0</td>\n",
       "      <td>0.538</td>\n",
       "      <td>6.575</td>\n",
       "      <td>65.2</td>\n",
       "      <td>4.0900</td>\n",
       "      <td>1.0</td>\n",
       "      <td>296.0</td>\n",
       "      <td>15.3</td>\n",
       "      <td>396.90</td>\n",
       "      <td>4.98</td>\n",
       "      <td>24.0</td>\n",
       "    </tr>\n",
       "    <tr>\n",
       "      <th>1</th>\n",
       "      <td>0.02731</td>\n",
       "      <td>0.0</td>\n",
       "      <td>7.07</td>\n",
       "      <td>0.0</td>\n",
       "      <td>0.469</td>\n",
       "      <td>6.421</td>\n",
       "      <td>78.9</td>\n",
       "      <td>4.9671</td>\n",
       "      <td>2.0</td>\n",
       "      <td>242.0</td>\n",
       "      <td>17.8</td>\n",
       "      <td>396.90</td>\n",
       "      <td>9.14</td>\n",
       "      <td>21.6</td>\n",
       "    </tr>\n",
       "    <tr>\n",
       "      <th>2</th>\n",
       "      <td>0.02729</td>\n",
       "      <td>0.0</td>\n",
       "      <td>7.07</td>\n",
       "      <td>0.0</td>\n",
       "      <td>0.469</td>\n",
       "      <td>7.185</td>\n",
       "      <td>61.1</td>\n",
       "      <td>4.9671</td>\n",
       "      <td>2.0</td>\n",
       "      <td>242.0</td>\n",
       "      <td>17.8</td>\n",
       "      <td>392.83</td>\n",
       "      <td>4.03</td>\n",
       "      <td>34.7</td>\n",
       "    </tr>\n",
       "    <tr>\n",
       "      <th>3</th>\n",
       "      <td>0.03237</td>\n",
       "      <td>0.0</td>\n",
       "      <td>2.18</td>\n",
       "      <td>0.0</td>\n",
       "      <td>0.458</td>\n",
       "      <td>6.998</td>\n",
       "      <td>45.8</td>\n",
       "      <td>6.0622</td>\n",
       "      <td>3.0</td>\n",
       "      <td>222.0</td>\n",
       "      <td>18.7</td>\n",
       "      <td>394.63</td>\n",
       "      <td>2.94</td>\n",
       "      <td>33.4</td>\n",
       "    </tr>\n",
       "    <tr>\n",
       "      <th>4</th>\n",
       "      <td>0.06905</td>\n",
       "      <td>0.0</td>\n",
       "      <td>2.18</td>\n",
       "      <td>0.0</td>\n",
       "      <td>0.458</td>\n",
       "      <td>7.147</td>\n",
       "      <td>54.2</td>\n",
       "      <td>6.0622</td>\n",
       "      <td>3.0</td>\n",
       "      <td>222.0</td>\n",
       "      <td>18.7</td>\n",
       "      <td>396.90</td>\n",
       "      <td>5.33</td>\n",
       "      <td>36.2</td>\n",
       "    </tr>\n",
       "  </tbody>\n",
       "</table>\n",
       "</div>"
      ],
      "text/plain": [
       "      CRIM    ZN  INDUS  CHAS    NOX     RM   AGE     DIS  RAD    TAX  \\\n",
       "0  0.00632  18.0   2.31   0.0  0.538  6.575  65.2  4.0900  1.0  296.0   \n",
       "1  0.02731   0.0   7.07   0.0  0.469  6.421  78.9  4.9671  2.0  242.0   \n",
       "2  0.02729   0.0   7.07   0.0  0.469  7.185  61.1  4.9671  2.0  242.0   \n",
       "3  0.03237   0.0   2.18   0.0  0.458  6.998  45.8  6.0622  3.0  222.0   \n",
       "4  0.06905   0.0   2.18   0.0  0.458  7.147  54.2  6.0622  3.0  222.0   \n",
       "\n",
       "   PTRATIO       B  LSTAT  MEDV  \n",
       "0     15.3  396.90   4.98  24.0  \n",
       "1     17.8  396.90   9.14  21.6  \n",
       "2     17.8  392.83   4.03  34.7  \n",
       "3     18.7  394.63   2.94  33.4  \n",
       "4     18.7  396.90   5.33  36.2  "
      ]
     },
     "execution_count": 5,
     "metadata": {},
     "output_type": "execute_result"
    }
   ],
   "source": [
    "data.head()"
   ]
  },
  {
   "cell_type": "code",
   "execution_count": 6,
   "metadata": {},
   "outputs": [],
   "source": [
    "correlations = data.corr()"
   ]
  },
  {
   "cell_type": "code",
   "execution_count": 7,
   "metadata": {},
   "outputs": [
    {
     "data": {
      "text/plain": [
       "<matplotlib.axes._subplots.AxesSubplot at 0x255d0f811c8>"
      ]
     },
     "execution_count": 7,
     "metadata": {},
     "output_type": "execute_result"
    },
    {
     "data": {
      "image/png": "[encoded data removed]",
      "text/plain": [
       "<Figure size 864x648 with 2 Axes>"
      ]
     },
     "metadata": {
      "needs_background": "light"
     },
     "output_type": "display_data"
    }
   ],
   "source": [
    "plt.figure(figsize=(12, 9))\n",
    "sns.heatmap(correlations, annot=True)"
   ]
  },
  {
   "cell_type": "code",
   "execution_count": 8,
   "metadata": {},
   "outputs": [],
   "source": [
    "x = data.drop(['MEDV'], axis=1)"
   ]
  },
  {
   "cell_type": "code",
   "execution_count": 9,
   "metadata": {},
   "outputs": [],
   "source": [
    "y = data['MEDV']"
   ]
  },
  {
   "cell_type": "code",
   "execution_count": 10,
   "metadata": {},
   "outputs": [
    {
     "name": "stderr",
     "output_type": "stream",
     "text": [
      "c:\\users\\ernest.daraska\\appdata\\local\\programs\\python\\python37\\lib\\site-packages\\numpy\\core\\fromnumeric.py:2495: FutureWarning: Method .ptp is deprecated and will be removed in a future version. Use numpy.ptp instead.\n",
      "  return ptp(axis=axis, out=out, **kwargs)\n"
     ]
    }
   ],
   "source": [
    "results = sm.OLS(y, sm.add_constant(x)).fit()"
   ]
  },
  {
   "cell_type": "code",
   "execution_count": 11,
   "metadata": {},
   "outputs": [
    {
     "name": "stdout",
     "output_type": "stream",
     "text": [
      "                            OLS Regression Results                            \n",
      "==============================================================================\n",
      "Dep. Variable:                   MEDV   R-squared:                       0.741\n",
      "Model:                            OLS   Adj. R-squared:                  0.734\n",
      "Method:                 Least Squares   F-statistic:                     108.1\n",
      "Date:                Fri, 29 Nov 2019   Prob (F-statistic):          6.72e-135\n",
      "Time:                        12:10:37   Log-Likelihood:                -1498.8\n",
      "No. Observations:                 506   AIC:                             3026.\n",
      "Df Residuals:                     492   BIC:                             3085.\n",
      "Df Model:                          13                                         \n",
      "Covariance Type:            nonrobust                                         \n",
      "==============================================================================\n",
      "                 coef    std err          t      P>|t|      [0.025      0.975]\n",
      "------------------------------------------------------------------------------\n",
      "const         36.4595      5.103      7.144      0.000      26.432      46.487\n",
      "CRIM          -0.1080      0.033     -3.287      0.001      -0.173      -0.043\n",
      "ZN             0.0464      0.014      3.382      0.001       0.019       0.073\n",
      "INDUS          0.0206      0.061      0.334      0.738      -0.100       0.141\n",
      "CHAS           2.6867      0.862      3.118      0.002       0.994       4.380\n",
      "NOX          -17.7666      3.820     -4.651      0.000     -25.272     -10.262\n",
      "RM             3.8099      0.418      9.116      0.000       2.989       4.631\n",
      "AGE            0.0007      0.013      0.052      0.958      -0.025       0.027\n",
      "DIS           -1.4756      0.199     -7.398      0.000      -1.867      -1.084\n",
      "RAD            0.3060      0.066      4.613      0.000       0.176       0.436\n",
      "TAX           -0.0123      0.004     -3.280      0.001      -0.020      -0.005\n",
      "PTRATIO       -0.9527      0.131     -7.283      0.000      -1.210      -0.696\n",
      "B              0.0093      0.003      3.467      0.001       0.004       0.015\n",
      "LSTAT         -0.5248      0.051    -10.347      0.000      -0.624      -0.425\n",
      "==============================================================================\n",
      "Omnibus:                      178.041   Durbin-Watson:                   1.078\n",
      "Prob(Omnibus):                  0.000   Jarque-Bera (JB):              783.126\n",
      "Skew:                           1.521   Prob(JB):                    8.84e-171\n",
      "Kurtosis:                       8.281   Cond. No.                     1.51e+04\n",
      "==============================================================================\n",
      "\n",
      "Warnings:\n",
      "[1] Standard Errors assume that the covariance matrix of the errors is correctly specified.\n",
      "[2] The condition number is large, 1.51e+04. This might indicate that there are\n",
      "strong multicollinearity or other numerical problems.\n"
     ]
    }
   ],
   "source": [
    "print(results.summary())"
   ]
  },
  {
   "cell_type": "markdown",
   "metadata": {},
   "source": [
    "## Ridge Regression"
   ]
  },
  {
   "cell_type": "code",
   "execution_count": 12,
   "metadata": {},
   "outputs": [],
   "source": [
    "cols = x.columns.tolist()\n",
    "cols.append('R2')"
   ]
  },
  {
   "cell_type": "code",
   "execution_count": 13,
   "metadata": {},
   "outputs": [],
   "source": [
    "ridge_coefs = pd.DataFrame(data=[], columns=cols)"
   ]
  },
  {
   "cell_type": "code",
   "execution_count": 14,
   "metadata": {},
   "outputs": [],
   "source": [
    "alphas = [10, 1, 0.01, 0.0001]\n",
    "index = []\n",
    "for a in alphas:\n",
    "    rr = Ridge(a).fit(x, y)\n",
    "    ridge_coefs = ridge_coefs.append(pd.DataFrame(data=[np.append(rr.coef_, rr.score(x, y))], columns=cols))\n",
    "    index.append(r'Ridge $\\alpha$={}'.format(a))\n",
    "\n",
    "ridge_coefs.index = index"
   ]
  },
  {
   "cell_type": "code",
   "execution_count": 15,
   "metadata": {},
   "outputs": [
    {
     "data": {
      "text/html": [
       "<div>\n",
       "<style scoped>\n",
       "    .dataframe tbody tr th:only-of-type {\n",
       "        vertical-align: middle;\n",
       "    }\n",
       "\n",
       "    .dataframe tbody tr th {\n",
       "        vertical-align: top;\n",
       "    }\n",
       "\n",
       "    .dataframe thead th {\n",
       "        text-align: right;\n",
       "    }\n",
       "</style>\n",
       "<table border=\"1\" class=\"dataframe\">\n",
       "  <thead>\n",
       "    <tr style=\"text-align: right;\">\n",
       "      <th></th>\n",
       "      <th>CRIM</th>\n",
       "      <th>ZN</th>\n",
       "      <th>INDUS</th>\n",
       "      <th>CHAS</th>\n",
       "      <th>NOX</th>\n",
       "      <th>RM</th>\n",
       "      <th>AGE</th>\n",
       "      <th>DIS</th>\n",
       "      <th>RAD</th>\n",
       "      <th>TAX</th>\n",
       "      <th>PTRATIO</th>\n",
       "      <th>B</th>\n",
       "      <th>LSTAT</th>\n",
       "      <th>R2</th>\n",
       "    </tr>\n",
       "  </thead>\n",
       "  <tbody>\n",
       "    <tr>\n",
       "      <th>Ridge $\\alpha$=10</th>\n",
       "      <td>-0.101435</td>\n",
       "      <td>0.049579</td>\n",
       "      <td>-0.042962</td>\n",
       "      <td>1.952021</td>\n",
       "      <td>-2.371619</td>\n",
       "      <td>3.702272</td>\n",
       "      <td>-0.010707</td>\n",
       "      <td>-1.248808</td>\n",
       "      <td>0.279596</td>\n",
       "      <td>-0.013993</td>\n",
       "      <td>-0.797945</td>\n",
       "      <td>0.010037</td>\n",
       "      <td>-0.559366</td>\n",
       "      <td>0.731574</td>\n",
       "    </tr>\n",
       "    <tr>\n",
       "      <th>Ridge $\\alpha$=1</th>\n",
       "      <td>-0.104595</td>\n",
       "      <td>0.047443</td>\n",
       "      <td>-0.008805</td>\n",
       "      <td>2.552393</td>\n",
       "      <td>-10.777015</td>\n",
       "      <td>3.854000</td>\n",
       "      <td>-0.005415</td>\n",
       "      <td>-1.372654</td>\n",
       "      <td>0.290142</td>\n",
       "      <td>-0.012912</td>\n",
       "      <td>-0.876074</td>\n",
       "      <td>0.009673</td>\n",
       "      <td>-0.533343</td>\n",
       "      <td>0.738870</td>\n",
       "    </tr>\n",
       "    <tr>\n",
       "      <th>Ridge $\\alpha$=0.01</th>\n",
       "      <td>-0.107954</td>\n",
       "      <td>0.046436</td>\n",
       "      <td>0.020076</td>\n",
       "      <td>2.685010</td>\n",
       "      <td>-17.652142</td>\n",
       "      <td>3.810767</td>\n",
       "      <td>0.000590</td>\n",
       "      <td>-1.473880</td>\n",
       "      <td>0.305781</td>\n",
       "      <td>-0.012344</td>\n",
       "      <td>-0.951478</td>\n",
       "      <td>0.009318</td>\n",
       "      <td>-0.524885</td>\n",
       "      <td>0.740642</td>\n",
       "    </tr>\n",
       "    <tr>\n",
       "      <th>Ridge $\\alpha$=0.0001</th>\n",
       "      <td>-0.108011</td>\n",
       "      <td>0.046421</td>\n",
       "      <td>0.020554</td>\n",
       "      <td>2.686717</td>\n",
       "      <td>-17.765459</td>\n",
       "      <td>3.809874</td>\n",
       "      <td>0.000691</td>\n",
       "      <td>-1.475550</td>\n",
       "      <td>0.306047</td>\n",
       "      <td>-0.012335</td>\n",
       "      <td>-0.952734</td>\n",
       "      <td>0.009312</td>\n",
       "      <td>-0.524760</td>\n",
       "      <td>0.740643</td>\n",
       "    </tr>\n",
       "  </tbody>\n",
       "</table>\n",
       "</div>"
      ],
      "text/plain": [
       "                           CRIM        ZN     INDUS      CHAS        NOX  \\\n",
       "Ridge $\\alpha$=10     -0.101435  0.049579 -0.042962  1.952021  -2.371619   \n",
       "Ridge $\\alpha$=1      -0.104595  0.047443 -0.008805  2.552393 -10.777015   \n",
       "Ridge $\\alpha$=0.01   -0.107954  0.046436  0.020076  2.685010 -17.652142   \n",
       "Ridge $\\alpha$=0.0001 -0.108011  0.046421  0.020554  2.686717 -17.765459   \n",
       "\n",
       "                             RM       AGE       DIS       RAD       TAX  \\\n",
       "Ridge $\\alpha$=10      3.702272 -0.010707 -1.248808  0.279596 -0.013993   \n",
       "Ridge $\\alpha$=1       3.854000 -0.005415 -1.372654  0.290142 -0.012912   \n",
       "Ridge $\\alpha$=0.01    3.810767  0.000590 -1.473880  0.305781 -0.012344   \n",
       "Ridge $\\alpha$=0.0001  3.809874  0.000691 -1.475550  0.306047 -0.012335   \n",
       "\n",
       "                        PTRATIO         B     LSTAT        R2  \n",
       "Ridge $\\alpha$=10     -0.797945  0.010037 -0.559366  0.731574  \n",
       "Ridge $\\alpha$=1      -0.876074  0.009673 -0.533343  0.738870  \n",
       "Ridge $\\alpha$=0.01   -0.951478  0.009318 -0.524885  0.740642  \n",
       "Ridge $\\alpha$=0.0001 -0.952734  0.009312 -0.524760  0.740643  "
      ]
     },
     "execution_count": 15,
     "metadata": {},
     "output_type": "execute_result"
    }
   ],
   "source": [
    "ridge_coefs"
   ]
  },
  {
   "cell_type": "code",
   "execution_count": 16,
   "metadata": {},
   "outputs": [
    {
     "data": {
      "text/plain": [
       "Text(0, 0.5, '$R^2$')"
      ]
     },
     "execution_count": 16,
     "metadata": {},
     "output_type": "execute_result"
    },
    {
     "data": {
      "image/png": "[encoded data removed]",
      "text/plain": [
       "<Figure size 864x504 with 1 Axes>"
      ]
     },
     "metadata": {
      "needs_background": "light"
     },
     "output_type": "display_data"
    }
   ],
   "source": [
    "plt.figure(figsize=(12, 7))\n",
    "plt.bar(ridge_coefs.index, ridge_coefs['R2'])\n",
    "plt.ylabel(r'$R^2$') # R-squared"
   ]
  },
  {
   "cell_type": "code",
   "execution_count": 17,
   "metadata": {},
   "outputs": [
    {
     "data": {
      "text/plain": [
       "Text(0, 0.5, '# of features selected')"
      ]
     },
     "execution_count": 17,
     "metadata": {},
     "output_type": "execute_result"
    },
    {
     "data": {
      "image/png": "[encoded data removed]",
      "text/plain": [
       "<Figure size 864x504 with 1 Axes>"
      ]
     },
     "metadata": {
      "needs_background": "light"
     },
     "output_type": "display_data"
    }
   ],
   "source": [
    "plt.figure(figsize=(12, 7))\n",
    "plt.bar(ridge_coefs.index, (ridge_coefs != 0).sum(axis=1) - 1)\n",
    "plt.ylabel('# of features selected')"
   ]
  },
  {
   "cell_type": "markdown",
   "metadata": {},
   "source": [
    "## Lasso Regression"
   ]
  },
  {
   "cell_type": "code",
   "execution_count": 18,
   "metadata": {},
   "outputs": [],
   "source": [
    "lasso_coefs = pd.DataFrame(data=[], columns=cols)"
   ]
  },
  {
   "cell_type": "code",
   "execution_count": 19,
   "metadata": {},
   "outputs": [],
   "source": [
    "alphas = [10, 1, 0.01, 0.0001]\n",
    "index = []\n",
    "for a in alphas:\n",
    "    ls = Lasso(a).fit(x, y)\n",
    "    lasso_coefs = lasso_coefs.append(pd.DataFrame(data=[np.append(ls.coef_, ls.score(x, y))], columns=cols))\n",
    "    index.append(r'Lasso $\\alpha$={}'.format(a))\n",
    "\n",
    "lasso_coefs.index = index"
   ]
  },
  {
   "cell_type": "code",
   "execution_count": 20,
   "metadata": {},
   "outputs": [
    {
     "data": {
      "text/html": [
       "<div>\n",
       "<style scoped>\n",
       "    .dataframe tbody tr th:only-of-type {\n",
       "        vertical-align: middle;\n",
       "    }\n",
       "\n",
       "    .dataframe tbody tr th {\n",
       "        vertical-align: top;\n",
       "    }\n",
       "\n",
       "    .dataframe thead th {\n",
       "        text-align: right;\n",
       "    }\n",
       "</style>\n",
       "<table border=\"1\" class=\"dataframe\">\n",
       "  <thead>\n",
       "    <tr style=\"text-align: right;\">\n",
       "      <th></th>\n",
       "      <th>CRIM</th>\n",
       "      <th>ZN</th>\n",
       "      <th>INDUS</th>\n",
       "      <th>CHAS</th>\n",
       "      <th>NOX</th>\n",
       "      <th>RM</th>\n",
       "      <th>AGE</th>\n",
       "      <th>DIS</th>\n",
       "      <th>RAD</th>\n",
       "      <th>TAX</th>\n",
       "      <th>PTRATIO</th>\n",
       "      <th>B</th>\n",
       "      <th>LSTAT</th>\n",
       "      <th>R2</th>\n",
       "    </tr>\n",
       "  </thead>\n",
       "  <tbody>\n",
       "    <tr>\n",
       "      <th>Lasso $\\alpha$=10</th>\n",
       "      <td>-0.000000</td>\n",
       "      <td>0.026146</td>\n",
       "      <td>-0.000000</td>\n",
       "      <td>0.000000</td>\n",
       "      <td>0.000000</td>\n",
       "      <td>0.000000</td>\n",
       "      <td>0.000000</td>\n",
       "      <td>-0.000000</td>\n",
       "      <td>0.000000</td>\n",
       "      <td>-0.009282</td>\n",
       "      <td>-0.000000</td>\n",
       "      <td>0.007496</td>\n",
       "      <td>-0.564038</td>\n",
       "      <td>0.523363</td>\n",
       "    </tr>\n",
       "    <tr>\n",
       "      <th>Lasso $\\alpha$=1</th>\n",
       "      <td>-0.063437</td>\n",
       "      <td>0.049165</td>\n",
       "      <td>-0.000000</td>\n",
       "      <td>0.000000</td>\n",
       "      <td>-0.000000</td>\n",
       "      <td>0.949811</td>\n",
       "      <td>0.020910</td>\n",
       "      <td>-0.668790</td>\n",
       "      <td>0.264206</td>\n",
       "      <td>-0.015212</td>\n",
       "      <td>-0.722966</td>\n",
       "      <td>0.008247</td>\n",
       "      <td>-0.761115</td>\n",
       "      <td>0.682584</td>\n",
       "    </tr>\n",
       "    <tr>\n",
       "      <th>Lasso $\\alpha$=0.01</th>\n",
       "      <td>-0.106228</td>\n",
       "      <td>0.046860</td>\n",
       "      <td>0.006474</td>\n",
       "      <td>2.504190</td>\n",
       "      <td>-14.394478</td>\n",
       "      <td>3.814186</td>\n",
       "      <td>-0.001818</td>\n",
       "      <td>-1.422155</td>\n",
       "      <td>0.298526</td>\n",
       "      <td>-0.012627</td>\n",
       "      <td>-0.916369</td>\n",
       "      <td>0.009485</td>\n",
       "      <td>-0.530481</td>\n",
       "      <td>0.740210</td>\n",
       "    </tr>\n",
       "    <tr>\n",
       "      <th>Lasso $\\alpha$=0.0001</th>\n",
       "      <td>-0.107994</td>\n",
       "      <td>0.046425</td>\n",
       "      <td>0.020418</td>\n",
       "      <td>2.684911</td>\n",
       "      <td>-17.732827</td>\n",
       "      <td>3.809914</td>\n",
       "      <td>0.000666</td>\n",
       "      <td>-1.475036</td>\n",
       "      <td>0.305974</td>\n",
       "      <td>-0.012338</td>\n",
       "      <td>-0.952383</td>\n",
       "      <td>0.009313</td>\n",
       "      <td>-0.524815</td>\n",
       "      <td>0.740643</td>\n",
       "    </tr>\n",
       "  </tbody>\n",
       "</table>\n",
       "</div>"
      ],
      "text/plain": [
       "                           CRIM        ZN     INDUS      CHAS        NOX  \\\n",
       "Lasso $\\alpha$=10     -0.000000  0.026146 -0.000000  0.000000   0.000000   \n",
       "Lasso $\\alpha$=1      -0.063437  0.049165 -0.000000  0.000000  -0.000000   \n",
       "Lasso $\\alpha$=0.01   -0.106228  0.046860  0.006474  2.504190 -14.394478   \n",
       "Lasso $\\alpha$=0.0001 -0.107994  0.046425  0.020418  2.684911 -17.732827   \n",
       "\n",
       "                             RM       AGE       DIS       RAD       TAX  \\\n",
       "Lasso $\\alpha$=10      0.000000  0.000000 -0.000000  0.000000 -0.009282   \n",
       "Lasso $\\alpha$=1       0.949811  0.020910 -0.668790  0.264206 -0.015212   \n",
       "Lasso $\\alpha$=0.01    3.814186 -0.001818 -1.422155  0.298526 -0.012627   \n",
       "Lasso $\\alpha$=0.0001  3.809914  0.000666 -1.475036  0.305974 -0.012338   \n",
       "\n",
       "                        PTRATIO         B     LSTAT        R2  \n",
       "Lasso $\\alpha$=10     -0.000000  0.007496 -0.564038  0.523363  \n",
       "Lasso $\\alpha$=1      -0.722966  0.008247 -0.761115  0.682584  \n",
       "Lasso $\\alpha$=0.01   -0.916369  0.009485 -0.530481  0.740210  \n",
       "Lasso $\\alpha$=0.0001 -0.952383  0.009313 -0.524815  0.740643  "
      ]
     },
     "execution_count": 20,
     "metadata": {},
     "output_type": "execute_result"
    }
   ],
   "source": [
    "lasso_coefs"
   ]
  },
  {
   "cell_type": "code",
   "execution_count": 21,
   "metadata": {},
   "outputs": [
    {
     "data": {
      "text/plain": [
       "Text(0, 0.5, '$R^2$')"
      ]
     },
     "execution_count": 21,
     "metadata": {},
     "output_type": "execute_result"
    },
    {
     "data": {
      "image/png": "[encoded data removed]",
      "text/plain": [
       "<Figure size 864x504 with 1 Axes>"
      ]
     },
     "metadata": {
      "needs_background": "light"
     },
     "output_type": "display_data"
    }
   ],
   "source": [
    "plt.figure(figsize=(12, 7))\n",
    "plt.bar(lasso_coefs.index, lasso_coefs['R2'])\n",
    "plt.ylabel(r'$R^2$') # R-squared"
   ]
  },
  {
   "cell_type": "code",
   "execution_count": 22,
   "metadata": {},
   "outputs": [
    {
     "data": {
      "text/plain": [
       "Text(0, 0.5, '# of features selected')"
      ]
     },
     "execution_count": 22,
     "metadata": {},
     "output_type": "execute_result"
    },
    {
     "data": {
      "image/png": "[encoded data removed]",
      "text/plain": [
       "<Figure size 864x504 with 1 Axes>"
      ]
     },
     "metadata": {
      "needs_background": "light"
     },
     "output_type": "display_data"
    }
   ],
   "source": [
    "plt.figure(figsize=(12, 7))\n",
    "plt.bar(lasso_coefs.index, (lasso_coefs != 0).sum(axis=1) - 1)\n",
    "plt.ylabel('# of features selected')"
   ]
  },
  {
   "cell_type": "markdown",
   "metadata": {},
   "source": [
    "### Running regression with selected features"
   ]
  },
  {
   "cell_type": "code",
   "execution_count": 23,
   "metadata": {},
   "outputs": [],
   "source": [
    "selected_features = lasso_coefs.columns[lasso_coefs.iloc[1] != 0].tolist()\n",
    "selected_features.remove('R2')"
   ]
  },
  {
   "cell_type": "code",
   "execution_count": 24,
   "metadata": {},
   "outputs": [
    {
     "data": {
      "text/plain": [
       "['CRIM', 'ZN', 'RM', 'AGE', 'DIS', 'RAD', 'TAX', 'PTRATIO', 'B', 'LSTAT']"
      ]
     },
     "execution_count": 24,
     "metadata": {},
     "output_type": "execute_result"
    }
   ],
   "source": [
    "selected_features"
   ]
  },
  {
   "cell_type": "code",
   "execution_count": 25,
   "metadata": {},
   "outputs": [
    {
     "name": "stderr",
     "output_type": "stream",
     "text": [
      "c:\\users\\ernest.daraska\\appdata\\local\\programs\\python\\python37\\lib\\site-packages\\numpy\\core\\fromnumeric.py:2495: FutureWarning: Method .ptp is deprecated and will be removed in a future version. Use numpy.ptp instead.\n",
      "  return ptp(axis=axis, out=out, **kwargs)\n"
     ]
    }
   ],
   "source": [
    "results = sm.OLS(y, sm.add_constant(x[selected_features])).fit()"
   ]
  },
  {
   "cell_type": "code",
   "execution_count": 26,
   "metadata": {},
   "outputs": [
    {
     "name": "stdout",
     "output_type": "stream",
     "text": [
      "                            OLS Regression Results                            \n",
      "==============================================================================\n",
      "Dep. Variable:                   MEDV   R-squared:                       0.724\n",
      "Model:                            OLS   Adj. R-squared:                  0.719\n",
      "Method:                 Least Squares   F-statistic:                     130.1\n",
      "Date:                Fri, 29 Nov 2019   Prob (F-statistic):          1.30e-131\n",
      "Time:                        12:10:40   Log-Likelihood:                -1514.1\n",
      "No. Observations:                 506   AIC:                             3050.\n",
      "Df Residuals:                     495   BIC:                             3097.\n",
      "Df Model:                          10                                         \n",
      "Covariance Type:            nonrobust                                         \n",
      "==============================================================================\n",
      "                 coef    std err          t      P>|t|      [0.025      0.975]\n",
      "------------------------------------------------------------------------------\n",
      "const         23.8975      4.358      5.484      0.000      15.335      32.460\n",
      "CRIM          -0.1028      0.034     -3.059      0.002      -0.169      -0.037\n",
      "ZN             0.0502      0.014      3.588      0.000       0.023       0.078\n",
      "RM             4.0553      0.424      9.555      0.000       3.221       4.889\n",
      "AGE           -0.0139      0.013     -1.067      0.286      -0.039       0.012\n",
      "DIS           -1.1937      0.187     -6.395      0.000      -1.560      -0.827\n",
      "RAD            0.2936      0.065      4.513      0.000       0.166       0.421\n",
      "TAX           -0.0160      0.003     -4.729      0.000      -0.023      -0.009\n",
      "PTRATIO       -0.7953      0.126     -6.308      0.000      -1.043      -0.548\n",
      "B              0.0107      0.003      3.902      0.000       0.005       0.016\n",
      "LSTAT         -0.5523      0.052    -10.685      0.000      -0.654      -0.451\n",
      "==============================================================================\n",
      "Omnibus:                      200.874   Durbin-Watson:                   0.974\n",
      "Prob(Omnibus):                  0.000   Jarque-Bera (JB):             1018.641\n",
      "Skew:                           1.687   Prob(JB):                    6.38e-222\n",
      "Kurtosis:                       9.077   Cond. No.                     1.13e+04\n",
      "==============================================================================\n",
      "\n",
      "Warnings:\n",
      "[1] Standard Errors assume that the covariance matrix of the errors is correctly specified.\n",
      "[2] The condition number is large, 1.13e+04. This might indicate that there are\n",
      "strong multicollinearity or other numerical problems.\n"
     ]
    }
   ],
   "source": [
    "print(results.summary())"
   ]
  },
  {
   "cell_type": "code",
   "execution_count": 27,
   "metadata": {},
   "outputs": [],
   "source": [
    "selected_features.remove('AGE')"
   ]
  },
  {
   "cell_type": "code",
   "execution_count": 28,
   "metadata": {},
   "outputs": [],
   "source": [
    "results = sm.OLS(y, sm.add_constant(x[selected_features])).fit()"
   ]
  },
  {
   "cell_type": "code",
   "execution_count": 29,
   "metadata": {},
   "outputs": [
    {
     "name": "stdout",
     "output_type": "stream",
     "text": [
      "                            OLS Regression Results                            \n",
      "==============================================================================\n",
      "Dep. Variable:                   MEDV   R-squared:                       0.724\n",
      "Model:                            OLS   Adj. R-squared:                  0.719\n",
      "Method:                 Least Squares   F-statistic:                     144.4\n",
      "Date:                Fri, 29 Nov 2019   Prob (F-statistic):          1.85e-132\n",
      "Time:                        12:10:41   Log-Likelihood:                -1514.7\n",
      "No. Observations:                 506   AIC:                             3049.\n",
      "Df Residuals:                     496   BIC:                             3092.\n",
      "Df Model:                           9                                         \n",
      "Covariance Type:            nonrobust                                         \n",
      "==============================================================================\n",
      "                 coef    std err          t      P>|t|      [0.025      0.975]\n",
      "------------------------------------------------------------------------------\n",
      "const         23.4831      4.341      5.410      0.000      14.954      32.012\n",
      "CRIM          -0.1020      0.034     -3.036      0.003      -0.168      -0.036\n",
      "ZN             0.0524      0.014      3.784      0.000       0.025       0.080\n",
      "RM             3.9721      0.417      9.520      0.000       3.152       4.792\n",
      "DIS           -1.1043      0.167     -6.620      0.000      -1.432      -0.777\n",
      "RAD            0.2974      0.065      4.578      0.000       0.170       0.425\n",
      "TAX           -0.0163      0.003     -4.852      0.000      -0.023      -0.010\n",
      "PTRATIO       -0.7934      0.126     -6.293      0.000      -1.041      -0.546\n",
      "B              0.0106      0.003      3.857      0.000       0.005       0.016\n",
      "LSTAT         -0.5734      0.048    -12.002      0.000      -0.667      -0.480\n",
      "==============================================================================\n",
      "Omnibus:                      194.490   Durbin-Watson:                   0.986\n",
      "Prob(Omnibus):                  0.000   Jarque-Bera (JB):              941.260\n",
      "Skew:                           1.643   Prob(JB):                    4.06e-205\n",
      "Kurtosis:                       8.818   Cond. No.                     1.11e+04\n",
      "==============================================================================\n",
      "\n",
      "Warnings:\n",
      "[1] Standard Errors assume that the covariance matrix of the errors is correctly specified.\n",
      "[2] The condition number is large, 1.11e+04. This might indicate that there are\n",
      "strong multicollinearity or other numerical problems.\n"
     ]
    }
   ],
   "source": [
    "print(results.summary())"
   ]
  },
  {
   "cell_type": "code",
   "execution_count": null,
   "metadata": {},
   "outputs": [],
   "source": []
  }
 ],
 "metadata": {
  "kernelspec": {
   "display_name": "Python 3",
   "language": "python",
   "name": "python3"
  },
  "language_info": {
   "codemirror_mode": {
    "name": "ipython",
    "version": 3
   },
   "file_extension": ".py",
   "mimetype": "text/x-python",
   "name": "python",
   "nbconvert_exporter": "python",
   "pygments_lexer": "ipython3",
   "version": "3.7.4"
  }
 },
 "nbformat": 4,
 "nbformat_minor": 4
}
